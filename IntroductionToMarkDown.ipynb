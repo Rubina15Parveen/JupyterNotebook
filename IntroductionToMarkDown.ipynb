{
 "cells": [
  {
   "cell_type": "markdown",
   "id": "0f28de44-4fa6-42f0-a6c3-3a26965e1516",
   "metadata": {},
   "source": [
    "## **WORKING WITH MARKDOWN CELL IN JUPYTER NOTEBOOK**"
   ]
  },
  {
   "cell_type": "markdown",
   "id": "a21b9ea6-e963-4851-9a59-895734f7e2f6",
   "metadata": {},
   "source": [
    "Let us start on the journey to get to know how to work with markdown cells in jupyter notebook!"
   ]
  },
  {
   "cell_type": "markdown",
   "id": "8499e710-4bd9-492b-a7e4-57b650a9e651",
   "metadata": {},
   "source": [
    "### **TABLE OF CONTENT**"
   ]
  },
  {
   "cell_type": "markdown",
   "id": "9362449e-08b2-4184-b095-42cb015a001d",
   "metadata": {},
   "source": [
    "| S.No | TOPIC |\n",
    "|:------|:-------|\n",
    "| 1.   | Make a cell mark down |\n",
    "| 2.   | Change text to bold, italic, bold and italic |\n",
    "| 3.   | Heading formats in markdown cells|\n",
    "| 4.   | Insert image in markdown cell|\n",
    "| 5.   | Insert links in markdown cell|\n",
    "| 6.   | Insert ordered and unordered bullets in markdown cell| \n",
    "| 7.   | Insert tables in markdown cell|\n"
   ]
  },
  {
   "cell_type": "markdown",
   "id": "cc96bd6c-3000-4576-88a5-bdb1586ba3c0",
   "metadata": {},
   "source": [
    "#### 1. How to make a cell mark down \n",
    "In the tool bar above there is a drop down with default selection as 'Code'. Click on drop down and select Markdown \n",
    "Look at this link for reference: <a href = \"https://github.com/Rubina15Parveen/JupyterNotebook/blob/e79af64c5c60ea828ced3d9b8dde64c35b5f4467/How%20to%20make%20markdown%20cell.png\"> Make cell markdown</a>\n"
   ]
  },
  {
   "cell_type": "markdown",
   "id": "c7b83b3f-bb12-4dc2-9b1c-974d354d7284",
   "metadata": {},
   "source": [
    "#### 2. Change text to **BOLD**, _ITALIC_, ***BOLD AND ITALIC***\n",
    "\n",
    "1. __BOLD__ : Use ** or __ for BOLD text with no spaces between the **/__ and text.  \n",
    "    Eg: Hello World! when written within ** or __ on both side of text converts to:\n",
    "    **Hello World**\n",
    "2. __ITALIC__ : Use single * or _ for ITALIC text with no space between */_ and the text.\n",
    "    Eg: *Hello World*\n",
    "3. __BOLD and ITALIC__ : Use *** or ___ on both sides of the text without any spaces.\n",
    "    Eg: ___Hello World___\n"
   ]
  },
  {
   "cell_type": "markdown",
   "id": "e829950d-284b-4dab-9422-cff7a275caa9",
   "metadata": {},
   "source": [
    "#### 3. Heading formats in mark down \n",
    "There are 6 heading sizes available in the marksdown cell. The # sign is used to create a heading. The number of # decide the size of the heading with 1 # giving the largest text size to 6 # giving the smallest text size. Below are the various heading formats. \n",
    "# Heading 1 with 1# \n",
    "## Heading 2 with 2# \n",
    "### Heading 3 with 3# \n",
    "#### Heading 4 with 4#\n",
    "##### Heading 5 with 5#\n",
    "###### Heading 6 with 6#"
   ]
  },
  {
   "cell_type": "markdown",
   "id": "4c68bae3-e9b1-4531-81b4-0020385c4ebb",
   "metadata": {},
   "source": [
    "#### 4. Insert Image in markdown cell \n"
   ]
  },
  {
   "cell_type": "code",
   "execution_count": 6,
   "id": "66cee2a7-a6d1-473e-aa84-2a3d699ec2dd",
   "metadata": {},
   "outputs": [],
   "source": [
    "# ![title](path) to be used to insert an image "
   ]
  },
  {
   "cell_type": "markdown",
   "id": "d63a2a0a-7eb5-493f-b41a-a00c3d79a0e4",
   "metadata": {},
   "source": [
    "Flower Image: ![flower](https://img.freepik.com/free-photo/nature-beauty-single-flower-vibrant-colors-reflect-freshness-generated-by-artificial-intellingence_25030-63691.jpg?w=1380)"
   ]
  },
  {
   "cell_type": "markdown",
   "id": "351219e5-0eac-461b-80c6-eddb3149c1f4",
   "metadata": {},
   "source": [
    "#### 5. Insert Links in a markdown cell \n"
   ]
  },
  {
   "cell_type": "code",
   "execution_count": 5,
   "id": "89a0c590-549f-468c-9e7d-c55969470c49",
   "metadata": {},
   "outputs": [],
   "source": [
    "# Use <a href = \"path\"> Name of link </a> To insert a link "
   ]
  },
  {
   "cell_type": "markdown",
   "id": "578fbce5-e82f-4e90-9995-67037531ca82",
   "metadata": {},
   "source": [
    "<a href = \"https://github.com/Rubina15Parveen/JupyterNotebook\">My Jupyter Notebooks</a>"
   ]
  },
  {
   "cell_type": "markdown",
   "id": "4d7e05e6-e5c4-4701-acbc-7bb54ea8f077",
   "metadata": {},
   "source": [
    "#### 6. Insert Ordered and Unordered bullets "
   ]
  },
  {
   "cell_type": "markdown",
   "id": "cfad2e8f-113d-40ba-9dce-622d14f40b5f",
   "metadata": {},
   "source": [
    "Use hyphens(-), asterisks(*) or plus (+) in front of the line to create bullets \n",
    "- Used hyphen to create this bullet\n",
    "* Used asterisk for this bullet\n",
    "+ Used plus to create this bullet"
   ]
  },
  {
   "cell_type": "markdown",
   "id": "c7f23a6b-aeca-4fc8-8953-d99705327915",
   "metadata": {},
   "source": [
    "To create ordered list just put numbers followed by period(.)\n",
    "1. This is point 1\n",
    "2. This is point 2\n",
    "3. This is point 3 "
   ]
  },
  {
   "cell_type": "markdown",
   "id": "bed2a992-ccfe-4a9b-93a1-37546d2c5b93",
   "metadata": {},
   "source": [
    "#### 7. Insert Table \n",
    "Use (----) to create header row of a table and pipe(|) to create the columns \n",
    "\n",
    "| Column1 name | Column2 name|\n",
    "|--------------|-------------|\n",
    "|item1         | item1 description|\n",
    "|item 2 | item2 description|\n",
    "\n",
    "You can edit this cell to see the implementation "
   ]
  },
  {
   "cell_type": "markdown",
   "id": "e3c9e8c3-9771-4ca5-b855-ac421da5d2d9",
   "metadata": {},
   "source": [
    "We can change the alignment of the content in the columns \n",
    "1. Use (:------) in header for left alignment\n",
    "2. Use (------:) in header for right alignment\n",
    "3. Use (:------:) in header for center alignment"
   ]
  },
  {
   "cell_type": "markdown",
   "id": "7effa981-cdf2-4829-b27e-98449a032a4d",
   "metadata": {},
   "source": [
    "|S.No | Items | Available at home |\n",
    "|:----|:-----:|------------------:|\n",
    "|1. | Chicken | Have to buy it |\n",
    "|2. | Salt | Yes available |\n",
    "|3. | Red chilli powder | Yes |\n",
    "|4. | Yogurt | No have to buy|\n",
    "|5.| Garam Masala | Yes |\n",
    "\n",
    "\n",
    "Here S.No is left aligned, Items is center and Avialable at home is right aligned "
   ]
  },
  {
   "cell_type": "markdown",
   "id": "ca1233ce-7b24-4569-9d32-3880e8de7197",
   "metadata": {},
   "source": [
    "## Author \n",
    " #### Rubina Parveen "
   ]
  }
 ],
 "metadata": {
  "kernelspec": {
   "display_name": "Python 3 (ipykernel)",
   "language": "python",
   "name": "python3"
  },
  "language_info": {
   "codemirror_mode": {
    "name": "ipython",
    "version": 3
   },
   "file_extension": ".py",
   "mimetype": "text/x-python",
   "name": "python",
   "nbconvert_exporter": "python",
   "pygments_lexer": "ipython3",
   "version": "3.11.5"
  }
 },
 "nbformat": 4,
 "nbformat_minor": 5
}

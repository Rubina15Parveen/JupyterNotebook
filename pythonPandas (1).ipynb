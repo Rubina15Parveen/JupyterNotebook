{
 "cells": [
  {
   "cell_type": "markdown",
   "id": "2509e9c2-3be4-411f-a1da-f1a0777fe579",
   "metadata": {},
   "source": [
    "# Pandas for Python : Basics of DataFrames and Series\n",
    "\n",
    "Open source data manipulation and analysis library. Useful for structured data. Offer 2 primary data structures - Data Frames and Series "
   ]
  },
  {
   "cell_type": "markdown",
   "id": "12962ab6-3c86-4a99-83eb-8a59d6d3baec",
   "metadata": {},
   "source": [
    "1. Data Frames - 2D, size mutable, can store data of different types. More like a table with rows and columns "
   ]
  },
  {
   "cell_type": "markdown",
   "id": "b998ec01-cd42-49f7-8282-e1a5ab3bf859",
   "metadata": {},
   "source": [
    "2. Series - 1D array, single column or row of data. "
   ]
  },
  {
   "cell_type": "markdown",
   "id": "2899d0a9-404a-491d-b67e-a71eae63cdbe",
   "metadata": {},
   "source": [
    "### Data Frames "
   ]
  },
  {
   "cell_type": "markdown",
   "id": "7ea4cefc-902a-4c5e-84fa-9b6b36967c6a",
   "metadata": {},
   "source": [
    "**class pandas.Dataframe(data=None, index=None, columns=None, dtype=None, copy=None)** "
   ]
  },
  {
   "cell_type": "code",
   "execution_count": 3,
   "id": "a58430f7-f8d0-42b2-b383-749fb746463a",
   "metadata": {},
   "outputs": [
    {
     "data": {
      "text/html": [
       "<div>\n",
       "<style scoped>\n",
       "    .dataframe tbody tr th:only-of-type {\n",
       "        vertical-align: middle;\n",
       "    }\n",
       "\n",
       "    .dataframe tbody tr th {\n",
       "        vertical-align: top;\n",
       "    }\n",
       "\n",
       "    .dataframe thead th {\n",
       "        text-align: right;\n",
       "    }\n",
       "</style>\n",
       "<table border=\"1\" class=\"dataframe\">\n",
       "  <thead>\n",
       "    <tr style=\"text-align: right;\">\n",
       "      <th></th>\n",
       "      <th>Name</th>\n",
       "      <th>Age</th>\n",
       "    </tr>\n",
       "  </thead>\n",
       "  <tbody>\n",
       "    <tr>\n",
       "      <th>0</th>\n",
       "      <td>Rubina</td>\n",
       "      <td>28</td>\n",
       "    </tr>\n",
       "    <tr>\n",
       "      <th>1</th>\n",
       "      <td>Monica</td>\n",
       "      <td>35</td>\n",
       "    </tr>\n",
       "    <tr>\n",
       "      <th>2</th>\n",
       "      <td>Mac</td>\n",
       "      <td>22</td>\n",
       "    </tr>\n",
       "    <tr>\n",
       "      <th>3</th>\n",
       "      <td>Ajay</td>\n",
       "      <td>40</td>\n",
       "    </tr>\n",
       "  </tbody>\n",
       "</table>\n",
       "</div>"
      ],
      "text/plain": [
       "     Name  Age\n",
       "0  Rubina   28\n",
       "1  Monica   35\n",
       "2     Mac   22\n",
       "3    Ajay   40"
      ]
     },
     "execution_count": 3,
     "metadata": {},
     "output_type": "execute_result"
    }
   ],
   "source": [
    "# Dataframe from a dictionary \n",
    "\n",
    "import pandas as pd \n",
    "\n",
    "d = {\"Name\":[\"Rubina\",\"Monica\",\"Mac\",\"Ajay\"],\"Age\":[28,35,22,40]}\n",
    "df = pd.DataFrame(data=d)\n",
    "df "
   ]
  },
  {
   "cell_type": "code",
   "execution_count": 5,
   "id": "9db1130d-1d01-4b32-95d0-fdafd540c2e7",
   "metadata": {},
   "outputs": [
    {
     "data": {
      "text/plain": [
       "Name    object\n",
       "Age      int64\n",
       "dtype: object"
      ]
     },
     "execution_count": 5,
     "metadata": {},
     "output_type": "execute_result"
    }
   ],
   "source": [
    "df.dtypes"
   ]
  },
  {
   "cell_type": "code",
   "execution_count": 16,
   "id": "608566fe-4f86-48e2-adc4-9275e3ac8691",
   "metadata": {},
   "outputs": [
    {
     "data": {
      "text/html": [
       "<div>\n",
       "<style scoped>\n",
       "    .dataframe tbody tr th:only-of-type {\n",
       "        vertical-align: middle;\n",
       "    }\n",
       "\n",
       "    .dataframe tbody tr th {\n",
       "        vertical-align: top;\n",
       "    }\n",
       "\n",
       "    .dataframe thead th {\n",
       "        text-align: right;\n",
       "    }\n",
       "</style>\n",
       "<table border=\"1\" class=\"dataframe\">\n",
       "  <thead>\n",
       "    <tr style=\"text-align: right;\">\n",
       "      <th></th>\n",
       "      <th>Name</th>\n",
       "      <th>Marriage satus</th>\n",
       "    </tr>\n",
       "  </thead>\n",
       "  <tbody>\n",
       "    <tr>\n",
       "      <th>0</th>\n",
       "      <td>Joey</td>\n",
       "      <td>NaN</td>\n",
       "    </tr>\n",
       "    <tr>\n",
       "      <th>1</th>\n",
       "      <td>Phoebe</td>\n",
       "      <td>1.0</td>\n",
       "    </tr>\n",
       "    <tr>\n",
       "      <th>2</th>\n",
       "      <td>Monica</td>\n",
       "      <td>1.0</td>\n",
       "    </tr>\n",
       "    <tr>\n",
       "      <th>3</th>\n",
       "      <td>Chandler</td>\n",
       "      <td>1.0</td>\n",
       "    </tr>\n",
       "    <tr>\n",
       "      <th>4</th>\n",
       "      <td>Ross</td>\n",
       "      <td>3.0</td>\n",
       "    </tr>\n",
       "    <tr>\n",
       "      <th>5</th>\n",
       "      <td>Rachel</td>\n",
       "      <td>1.0</td>\n",
       "    </tr>\n",
       "  </tbody>\n",
       "</table>\n",
       "</div>"
      ],
      "text/plain": [
       "       Name  Marriage satus\n",
       "0      Joey             NaN\n",
       "1    Phoebe             1.0\n",
       "2    Monica             1.0\n",
       "3  Chandler             1.0\n",
       "4      Ross             3.0\n",
       "5    Rachel             1.0"
      ]
     },
     "execution_count": 16,
     "metadata": {},
     "output_type": "execute_result"
    }
   ],
   "source": [
    "#Constructing data frame from a series in a dictionary\n",
    "\n",
    "d1 = {\"Name\":[\"Joey\",\"Phoebe\",\"Monica\",\"Chandler\",\"Ross\",\"Rachel\"], \"Marriage satus\": pd.Series([1,1,1,3,1], index=range(1,6))}\n",
    "df1 = pd.DataFrame(data=d1,index=range(6))\n",
    "df1"
   ]
  },
  {
   "cell_type": "code",
   "execution_count": 99,
   "id": "ed320789-bd4a-400b-9908-e3cb24b8e2b4",
   "metadata": {},
   "outputs": [
    {
     "data": {
      "text/html": [
       "<div>\n",
       "<style scoped>\n",
       "    .dataframe tbody tr th:only-of-type {\n",
       "        vertical-align: middle;\n",
       "    }\n",
       "\n",
       "    .dataframe tbody tr th {\n",
       "        vertical-align: top;\n",
       "    }\n",
       "\n",
       "    .dataframe thead th {\n",
       "        text-align: right;\n",
       "    }\n",
       "</style>\n",
       "<table border=\"1\" class=\"dataframe\">\n",
       "  <thead>\n",
       "    <tr style=\"text-align: right;\">\n",
       "      <th></th>\n",
       "      <th>Name</th>\n",
       "    </tr>\n",
       "  </thead>\n",
       "  <tbody>\n",
       "    <tr>\n",
       "      <th>0</th>\n",
       "      <td>Joey</td>\n",
       "    </tr>\n",
       "    <tr>\n",
       "      <th>1</th>\n",
       "      <td>Phoebe</td>\n",
       "    </tr>\n",
       "    <tr>\n",
       "      <th>2</th>\n",
       "      <td>Monica</td>\n",
       "    </tr>\n",
       "    <tr>\n",
       "      <th>3</th>\n",
       "      <td>Chandler</td>\n",
       "    </tr>\n",
       "    <tr>\n",
       "      <th>4</th>\n",
       "      <td>Ross</td>\n",
       "    </tr>\n",
       "    <tr>\n",
       "      <th>5</th>\n",
       "      <td>Rachel</td>\n",
       "    </tr>\n",
       "  </tbody>\n",
       "</table>\n",
       "</div>"
      ],
      "text/plain": [
       "       Name\n",
       "0      Joey\n",
       "1    Phoebe\n",
       "2    Monica\n",
       "3  Chandler\n",
       "4      Ross\n",
       "5    Rachel"
      ]
     },
     "execution_count": 99,
     "metadata": {},
     "output_type": "execute_result"
    }
   ],
   "source": [
    "df1[['Name']]"
   ]
  },
  {
   "cell_type": "code",
   "execution_count": 20,
   "id": "797f53b0-f83c-481a-88db-754747198b76",
   "metadata": {},
   "outputs": [
    {
     "data": {
      "text/html": [
       "<div>\n",
       "<style scoped>\n",
       "    .dataframe tbody tr th:only-of-type {\n",
       "        vertical-align: middle;\n",
       "    }\n",
       "\n",
       "    .dataframe tbody tr th {\n",
       "        vertical-align: top;\n",
       "    }\n",
       "\n",
       "    .dataframe thead th {\n",
       "        text-align: right;\n",
       "    }\n",
       "</style>\n",
       "<table border=\"1\" class=\"dataframe\">\n",
       "  <thead>\n",
       "    <tr style=\"text-align: right;\">\n",
       "      <th></th>\n",
       "      <th>c1</th>\n",
       "      <th>c2</th>\n",
       "      <th>c3</th>\n",
       "    </tr>\n",
       "  </thead>\n",
       "  <tbody>\n",
       "    <tr>\n",
       "      <th>r1</th>\n",
       "      <td>1</td>\n",
       "      <td>2</td>\n",
       "      <td>3</td>\n",
       "    </tr>\n",
       "    <tr>\n",
       "      <th>r2</th>\n",
       "      <td>4</td>\n",
       "      <td>5</td>\n",
       "      <td>6</td>\n",
       "    </tr>\n",
       "    <tr>\n",
       "      <th>r3</th>\n",
       "      <td>0</td>\n",
       "      <td>4</td>\n",
       "      <td>3</td>\n",
       "    </tr>\n",
       "  </tbody>\n",
       "</table>\n",
       "</div>"
      ],
      "text/plain": [
       "    c1  c2  c3\n",
       "r1   1   2   3\n",
       "r2   4   5   6\n",
       "r3   0   4   3"
      ]
     },
     "execution_count": 20,
     "metadata": {},
     "output_type": "execute_result"
    }
   ],
   "source": [
    "# Constructing dataframe using ndarray from numpy \n",
    "import numpy as np \n",
    "df2 = pd.DataFrame(np.array([[1,2,3],[4,5,6],[0,4,3]]), index=['r1','r2','r3'], columns = ['c1','c2','c3'])\n",
    "df2"
   ]
  },
  {
   "cell_type": "code",
   "execution_count": 70,
   "id": "b859b47b-3ddc-40ae-a91a-c2c0fa196fff",
   "metadata": {},
   "outputs": [
    {
     "name": "stdout",
     "output_type": "stream",
     "text": [
      "0        Joey\n",
      "1      Phoebe\n",
      "2      Monica\n",
      "3    Chandler\n",
      "4        Ross\n",
      "5      Rachel\n",
      "Name: Name, dtype: object\n"
     ]
    }
   ],
   "source": [
    "print(df1[\"Name\"])"
   ]
  },
  {
   "cell_type": "code",
   "execution_count": 71,
   "id": "be4e7d33-3793-4c47-a719-77f344fb6c6d",
   "metadata": {},
   "outputs": [
    {
     "name": "stdout",
     "output_type": "stream",
     "text": [
      "Name              Chandler\n",
      "Marriage satus         1.0\n",
      "Name: 3, dtype: object\n"
     ]
    }
   ],
   "source": [
    "print(df1.loc[3])"
   ]
  },
  {
   "cell_type": "code",
   "execution_count": 72,
   "id": "e80fa8b3-df28-43c2-bded-b6902f47c6d0",
   "metadata": {},
   "outputs": [
    {
     "name": "stdout",
     "output_type": "stream",
     "text": [
      "Name              Monica\n",
      "Marriage satus       1.0\n",
      "Name: 2, dtype: object\n"
     ]
    }
   ],
   "source": [
    "print(df1.iloc[2])"
   ]
  },
  {
   "cell_type": "code",
   "execution_count": 74,
   "id": "c1e1adfe-a9d9-457b-8c66-6d76d544cb70",
   "metadata": {},
   "outputs": [
    {
     "name": "stdout",
     "output_type": "stream",
     "text": [
      "     Name  Age\n",
      "0  Rubina   28\n",
      "1  Monica   35\n",
      "2     Mac   22\n",
      "3    Ajay   40\n"
     ]
    }
   ],
   "source": [
    "print(df[[\"Name\",\"Age\"]])"
   ]
  },
  {
   "cell_type": "code",
   "execution_count": 75,
   "id": "da479eb7-d59b-436e-a4b7-671e42c55eca",
   "metadata": {},
   "outputs": [
    {
     "name": "stdout",
     "output_type": "stream",
     "text": [
      "     Name  Age\n",
      "1  Monica   35\n",
      "2     Mac   22\n"
     ]
    }
   ],
   "source": [
    "print(df[1:3])"
   ]
  },
  {
   "cell_type": "code",
   "execution_count": 77,
   "id": "b9ea578f-ec1f-40d6-84a8-4844db24f743",
   "metadata": {},
   "outputs": [
    {
     "data": {
      "text/html": [
       "<div>\n",
       "<style scoped>\n",
       "    .dataframe tbody tr th:only-of-type {\n",
       "        vertical-align: middle;\n",
       "    }\n",
       "\n",
       "    .dataframe tbody tr th {\n",
       "        vertical-align: top;\n",
       "    }\n",
       "\n",
       "    .dataframe thead th {\n",
       "        text-align: right;\n",
       "    }\n",
       "</style>\n",
       "<table border=\"1\" class=\"dataframe\">\n",
       "  <thead>\n",
       "    <tr style=\"text-align: right;\">\n",
       "      <th></th>\n",
       "      <th>Name</th>\n",
       "      <th>Height</th>\n",
       "    </tr>\n",
       "  </thead>\n",
       "  <tbody>\n",
       "    <tr>\n",
       "      <th>0</th>\n",
       "      <td>Jake</td>\n",
       "      <td>106</td>\n",
       "    </tr>\n",
       "    <tr>\n",
       "      <th>1</th>\n",
       "      <td>Charles</td>\n",
       "      <td>102</td>\n",
       "    </tr>\n",
       "    <tr>\n",
       "      <th>2</th>\n",
       "      <td>Santiago</td>\n",
       "      <td>104</td>\n",
       "    </tr>\n",
       "    <tr>\n",
       "      <th>3</th>\n",
       "      <td>Rosa</td>\n",
       "      <td>110</td>\n",
       "    </tr>\n",
       "  </tbody>\n",
       "</table>\n",
       "</div>"
      ],
      "text/plain": [
       "       Name  Height\n",
       "0      Jake     106\n",
       "1   Charles     102\n",
       "2  Santiago     104\n",
       "3      Rosa     110"
      ]
     },
     "execution_count": 77,
     "metadata": {},
     "output_type": "execute_result"
    }
   ],
   "source": [
    "data = {\"Name\":[\"Jake\",\"Charles\",\"Santiago\",\"Rosa\"], \"Height\":[106,102,104,110]}\n",
    "details_df = pd.DataFrame(data=data)\n",
    "details_df"
   ]
  },
  {
   "cell_type": "code",
   "execution_count": 78,
   "id": "436a5486-8f01-482b-a37a-a82916eaab31",
   "metadata": {},
   "outputs": [
    {
     "data": {
      "text/html": [
       "<div>\n",
       "<style scoped>\n",
       "    .dataframe tbody tr th:only-of-type {\n",
       "        vertical-align: middle;\n",
       "    }\n",
       "\n",
       "    .dataframe tbody tr th {\n",
       "        vertical-align: top;\n",
       "    }\n",
       "\n",
       "    .dataframe thead th {\n",
       "        text-align: right;\n",
       "    }\n",
       "</style>\n",
       "<table border=\"1\" class=\"dataframe\">\n",
       "  <thead>\n",
       "    <tr style=\"text-align: right;\">\n",
       "      <th></th>\n",
       "      <th>Name</th>\n",
       "      <th>Height</th>\n",
       "    </tr>\n",
       "  </thead>\n",
       "  <tbody>\n",
       "    <tr>\n",
       "      <th>0</th>\n",
       "      <td>Jake</td>\n",
       "      <td>106</td>\n",
       "    </tr>\n",
       "    <tr>\n",
       "      <th>2</th>\n",
       "      <td>Santiago</td>\n",
       "      <td>104</td>\n",
       "    </tr>\n",
       "    <tr>\n",
       "      <th>3</th>\n",
       "      <td>Rosa</td>\n",
       "      <td>110</td>\n",
       "    </tr>\n",
       "  </tbody>\n",
       "</table>\n",
       "</div>"
      ],
      "text/plain": [
       "       Name  Height\n",
       "0      Jake     106\n",
       "2  Santiago     104\n",
       "3      Rosa     110"
      ]
     },
     "execution_count": 78,
     "metadata": {},
     "output_type": "execute_result"
    }
   ],
   "source": [
    "height_above_102 = details_df[details_df[\"Height\"]>102]\n",
    "height_above_102"
   ]
  },
  {
   "cell_type": "code",
   "execution_count": 79,
   "id": "eb204c5f-abdd-4f26-8ce5-b9cbd688fef6",
   "metadata": {},
   "outputs": [
    {
     "data": {
      "text/plain": [
       "(4, 2)"
      ]
     },
     "execution_count": 79,
     "metadata": {},
     "output_type": "execute_result"
    }
   ],
   "source": [
    "details_df.shape"
   ]
  },
  {
   "cell_type": "code",
   "execution_count": 80,
   "id": "3fe671fc-bcf2-40ca-930e-85b74c94b114",
   "metadata": {},
   "outputs": [
    {
     "name": "stdout",
     "output_type": "stream",
     "text": [
      "<class 'pandas.core.frame.DataFrame'>\n",
      "RangeIndex: 4 entries, 0 to 3\n",
      "Data columns (total 2 columns):\n",
      " #   Column  Non-Null Count  Dtype \n",
      "---  ------  --------------  ----- \n",
      " 0   Name    4 non-null      object\n",
      " 1   Height  4 non-null      int64 \n",
      "dtypes: int64(1), object(1)\n",
      "memory usage: 196.0+ bytes\n"
     ]
    }
   ],
   "source": [
    "details_df.info()"
   ]
  },
  {
   "cell_type": "code",
   "execution_count": 97,
   "id": "b38d684d-8cfe-4c49-a8b9-e4aba26ebc02",
   "metadata": {},
   "outputs": [
    {
     "data": {
      "text/plain": [
       "Name      Charles\n",
       "Height        102\n",
       "dtype: object"
      ]
     },
     "execution_count": 97,
     "metadata": {},
     "output_type": "execute_result"
    }
   ],
   "source": [
    "details_df.min()"
   ]
  },
  {
   "cell_type": "code",
   "execution_count": 98,
   "id": "e02fc090-b9d0-4c0c-b60f-de5e46150960",
   "metadata": {},
   "outputs": [
    {
     "data": {
      "text/plain": [
       "Name      Santiago\n",
       "Height         110\n",
       "dtype: object"
      ]
     },
     "execution_count": 98,
     "metadata": {},
     "output_type": "execute_result"
    }
   ],
   "source": [
    "details_df.max()"
   ]
  },
  {
   "cell_type": "code",
   "execution_count": 101,
   "id": "3130105c-0b24-47c2-bdef-85370f8b09d7",
   "metadata": {},
   "outputs": [
    {
     "data": {
      "text/html": [
       "<div>\n",
       "<style scoped>\n",
       "    .dataframe tbody tr th:only-of-type {\n",
       "        vertical-align: middle;\n",
       "    }\n",
       "\n",
       "    .dataframe tbody tr th {\n",
       "        vertical-align: top;\n",
       "    }\n",
       "\n",
       "    .dataframe thead th {\n",
       "        text-align: right;\n",
       "    }\n",
       "</style>\n",
       "<table border=\"1\" class=\"dataframe\">\n",
       "  <thead>\n",
       "    <tr style=\"text-align: right;\">\n",
       "      <th></th>\n",
       "      <th>Name</th>\n",
       "      <th>Sex</th>\n",
       "      <th>Age</th>\n",
       "    </tr>\n",
       "  </thead>\n",
       "  <tbody>\n",
       "    <tr>\n",
       "      <th>0</th>\n",
       "      <td>Rubina</td>\n",
       "      <td>F</td>\n",
       "      <td>28</td>\n",
       "    </tr>\n",
       "    <tr>\n",
       "      <th>1</th>\n",
       "      <td>Marria</td>\n",
       "      <td>F</td>\n",
       "      <td>23</td>\n",
       "    </tr>\n",
       "    <tr>\n",
       "      <th>2</th>\n",
       "      <td>Emily</td>\n",
       "      <td>F</td>\n",
       "      <td>56</td>\n",
       "    </tr>\n",
       "    <tr>\n",
       "      <th>3</th>\n",
       "      <td>Nisha</td>\n",
       "      <td>F</td>\n",
       "      <td>21</td>\n",
       "    </tr>\n",
       "    <tr>\n",
       "      <th>4</th>\n",
       "      <td>Song</td>\n",
       "      <td>M</td>\n",
       "      <td>45</td>\n",
       "    </tr>\n",
       "    <tr>\n",
       "      <th>5</th>\n",
       "      <td>Ajay</td>\n",
       "      <td>M</td>\n",
       "      <td>30</td>\n",
       "    </tr>\n",
       "    <tr>\n",
       "      <th>6</th>\n",
       "      <td>Marc</td>\n",
       "      <td>M</td>\n",
       "      <td>29</td>\n",
       "    </tr>\n",
       "    <tr>\n",
       "      <th>7</th>\n",
       "      <td>Vijay</td>\n",
       "      <td>M</td>\n",
       "      <td>34</td>\n",
       "    </tr>\n",
       "  </tbody>\n",
       "</table>\n",
       "</div>"
      ],
      "text/plain": [
       "     Name Sex  Age\n",
       "0  Rubina   F   28\n",
       "1  Marria   F   23\n",
       "2   Emily   F   56\n",
       "3   Nisha   F   21\n",
       "4    Song   M   45\n",
       "5    Ajay   M   30\n",
       "6    Marc   M   29\n",
       "7   Vijay   M   34"
      ]
     },
     "execution_count": 101,
     "metadata": {},
     "output_type": "execute_result"
    }
   ],
   "source": [
    "data1 = {\"Name\":[\"Rubina\",\"Marria\",\"Emily\",\"Nisha\",\"Song\",\"Ajay\",\"Marc\",\"Vijay\"], \"Sex\":[\"F\",\"F\",\"F\",\"F\",\"M\",\"M\",\"M\",\"M\"], \"Age\":[28,23,56,21,45,30,29,34]}\n",
    "personal_details = pd.DataFrame(data=data1)\n",
    "personal_details"
   ]
  },
  {
   "cell_type": "code",
   "execution_count": 103,
   "id": "cb0892e1-c80c-455c-a4ab-a2c04128d46e",
   "metadata": {},
   "outputs": [
    {
     "data": {
      "text/html": [
       "<div>\n",
       "<style scoped>\n",
       "    .dataframe tbody tr th:only-of-type {\n",
       "        vertical-align: middle;\n",
       "    }\n",
       "\n",
       "    .dataframe tbody tr th {\n",
       "        vertical-align: top;\n",
       "    }\n",
       "\n",
       "    .dataframe thead th {\n",
       "        text-align: right;\n",
       "    }\n",
       "</style>\n",
       "<table border=\"1\" class=\"dataframe\">\n",
       "  <thead>\n",
       "    <tr style=\"text-align: right;\">\n",
       "      <th></th>\n",
       "      <th>Name</th>\n",
       "      <th>Sex</th>\n",
       "      <th>Age</th>\n",
       "    </tr>\n",
       "  </thead>\n",
       "  <tbody>\n",
       "    <tr>\n",
       "      <th>6</th>\n",
       "      <td>Marc</td>\n",
       "      <td>M</td>\n",
       "      <td>29</td>\n",
       "    </tr>\n",
       "  </tbody>\n",
       "</table>\n",
       "</div>"
      ],
      "text/plain": [
       "   Name Sex  Age\n",
       "6  Marc   M   29"
      ]
     },
     "execution_count": 103,
     "metadata": {},
     "output_type": "execute_result"
    }
   ],
   "source": [
    "personal_details[personal_details[\"Name\"]==\"Marc\"]"
   ]
  },
  {
   "cell_type": "code",
   "execution_count": 115,
   "id": "2673fab1-d591-4012-811a-c6ef2702df0e",
   "metadata": {},
   "outputs": [
    {
     "data": {
      "text/html": [
       "<div>\n",
       "<style scoped>\n",
       "    .dataframe tbody tr th:only-of-type {\n",
       "        vertical-align: middle;\n",
       "    }\n",
       "\n",
       "    .dataframe tbody tr th {\n",
       "        vertical-align: top;\n",
       "    }\n",
       "\n",
       "    .dataframe thead th {\n",
       "        text-align: right;\n",
       "    }\n",
       "</style>\n",
       "<table border=\"1\" class=\"dataframe\">\n",
       "  <thead>\n",
       "    <tr style=\"text-align: right;\">\n",
       "      <th></th>\n",
       "      <th>Name</th>\n",
       "      <th>Sex</th>\n",
       "      <th>Age</th>\n",
       "    </tr>\n",
       "  </thead>\n",
       "  <tbody>\n",
       "    <tr>\n",
       "      <th>4</th>\n",
       "      <td>Song</td>\n",
       "      <td>M</td>\n",
       "      <td>45</td>\n",
       "    </tr>\n",
       "    <tr>\n",
       "      <th>7</th>\n",
       "      <td>Vijay</td>\n",
       "      <td>M</td>\n",
       "      <td>34</td>\n",
       "    </tr>\n",
       "  </tbody>\n",
       "</table>\n",
       "</div>"
      ],
      "text/plain": [
       "    Name Sex  Age\n",
       "4   Song   M   45\n",
       "7  Vijay   M   34"
      ]
     },
     "execution_count": 115,
     "metadata": {},
     "output_type": "execute_result"
    }
   ],
   "source": [
    "personal_details[(personal_details[\"Sex\"]==\"M\")&(personal_details[\"Age\"]>30)]"
   ]
  },
  {
   "cell_type": "code",
   "execution_count": 118,
   "id": "b42a492c-9640-434f-aafb-38fc1fcaaf29",
   "metadata": {},
   "outputs": [
    {
     "data": {
      "text/plain": [
       "'Nisha'"
      ]
     },
     "execution_count": 118,
     "metadata": {},
     "output_type": "execute_result"
    }
   ],
   "source": [
    "#loc - label based data selection. Pass the title of the (row,column) you want to select \n",
    "personal_details.loc[3,\"Name\"]"
   ]
  },
  {
   "cell_type": "code",
   "execution_count": 119,
   "id": "11084b37-eae8-4529-8125-77f8c0d32a98",
   "metadata": {},
   "outputs": [
    {
     "data": {
      "text/plain": [
       "28"
      ]
     },
     "execution_count": 119,
     "metadata": {},
     "output_type": "execute_result"
    }
   ],
   "source": [
    "personal_details.loc[0,\"Age\"]"
   ]
  },
  {
   "cell_type": "code",
   "execution_count": 120,
   "id": "2dae428c-1a0d-46e4-9f75-4e00c2135743",
   "metadata": {},
   "outputs": [
    {
     "data": {
      "text/plain": [
       "28"
      ]
     },
     "execution_count": 120,
     "metadata": {},
     "output_type": "execute_result"
    }
   ],
   "source": [
    "#iloc is index based selecting method \n",
    "personal_details.iloc[0,2]"
   ]
  },
  {
   "cell_type": "code",
   "execution_count": 122,
   "id": "74776af9-08b4-4dd1-8577-1b8c52b2c1a8",
   "metadata": {},
   "outputs": [
    {
     "data": {
      "text/plain": [
       "'Rubina'"
      ]
     },
     "execution_count": 122,
     "metadata": {},
     "output_type": "execute_result"
    }
   ],
   "source": [
    "personal_details.iloc[0,0]"
   ]
  },
  {
   "cell_type": "code",
   "execution_count": 123,
   "id": "9b9c393e-7e84-47ca-bf97-a9d0766488a6",
   "metadata": {},
   "outputs": [
    {
     "data": {
      "text/html": [
       "<div>\n",
       "<style scoped>\n",
       "    .dataframe tbody tr th:only-of-type {\n",
       "        vertical-align: middle;\n",
       "    }\n",
       "\n",
       "    .dataframe tbody tr th {\n",
       "        vertical-align: top;\n",
       "    }\n",
       "\n",
       "    .dataframe thead th {\n",
       "        text-align: right;\n",
       "    }\n",
       "</style>\n",
       "<table border=\"1\" class=\"dataframe\">\n",
       "  <thead>\n",
       "    <tr style=\"text-align: right;\">\n",
       "      <th></th>\n",
       "      <th>Sex</th>\n",
       "      <th>Age</th>\n",
       "    </tr>\n",
       "    <tr>\n",
       "      <th>Name</th>\n",
       "      <th></th>\n",
       "      <th></th>\n",
       "    </tr>\n",
       "  </thead>\n",
       "  <tbody>\n",
       "    <tr>\n",
       "      <th>Rubina</th>\n",
       "      <td>F</td>\n",
       "      <td>28</td>\n",
       "    </tr>\n",
       "    <tr>\n",
       "      <th>Marria</th>\n",
       "      <td>F</td>\n",
       "      <td>23</td>\n",
       "    </tr>\n",
       "    <tr>\n",
       "      <th>Emily</th>\n",
       "      <td>F</td>\n",
       "      <td>56</td>\n",
       "    </tr>\n",
       "    <tr>\n",
       "      <th>Nisha</th>\n",
       "      <td>F</td>\n",
       "      <td>21</td>\n",
       "    </tr>\n",
       "    <tr>\n",
       "      <th>Song</th>\n",
       "      <td>M</td>\n",
       "      <td>45</td>\n",
       "    </tr>\n",
       "    <tr>\n",
       "      <th>Ajay</th>\n",
       "      <td>M</td>\n",
       "      <td>30</td>\n",
       "    </tr>\n",
       "    <tr>\n",
       "      <th>Marc</th>\n",
       "      <td>M</td>\n",
       "      <td>29</td>\n",
       "    </tr>\n",
       "    <tr>\n",
       "      <th>Vijay</th>\n",
       "      <td>M</td>\n",
       "      <td>34</td>\n",
       "    </tr>\n",
       "  </tbody>\n",
       "</table>\n",
       "</div>"
      ],
      "text/plain": [
       "       Sex  Age\n",
       "Name           \n",
       "Rubina   F   28\n",
       "Marria   F   23\n",
       "Emily    F   56\n",
       "Nisha    F   21\n",
       "Song     M   45\n",
       "Ajay     M   30\n",
       "Marc     M   29\n",
       "Vijay    M   34"
      ]
     },
     "execution_count": 123,
     "metadata": {},
     "output_type": "execute_result"
    }
   ],
   "source": [
    "df4 = personal_details\n",
    "df4=df4.set_index(\"Name\")\n",
    "df4"
   ]
  },
  {
   "cell_type": "code",
   "execution_count": 126,
   "id": "fcc91b5e-2dde-4a57-8fb3-46a617ce785f",
   "metadata": {},
   "outputs": [
    {
     "data": {
      "text/plain": [
       "29"
      ]
     },
     "execution_count": 126,
     "metadata": {},
     "output_type": "execute_result"
    }
   ],
   "source": [
    "df4.loc[\"Marc\",\"Age\"]"
   ]
  },
  {
   "cell_type": "code",
   "execution_count": 128,
   "id": "62120885-cf38-46ae-b18e-2a58bb361595",
   "metadata": {},
   "outputs": [
    {
     "data": {
      "text/html": [
       "<div>\n",
       "<style scoped>\n",
       "    .dataframe tbody tr th:only-of-type {\n",
       "        vertical-align: middle;\n",
       "    }\n",
       "\n",
       "    .dataframe tbody tr th {\n",
       "        vertical-align: top;\n",
       "    }\n",
       "\n",
       "    .dataframe thead th {\n",
       "        text-align: right;\n",
       "    }\n",
       "</style>\n",
       "<table border=\"1\" class=\"dataframe\">\n",
       "  <thead>\n",
       "    <tr style=\"text-align: right;\">\n",
       "      <th></th>\n",
       "      <th>Name</th>\n",
       "      <th>Sex</th>\n",
       "    </tr>\n",
       "  </thead>\n",
       "  <tbody>\n",
       "    <tr>\n",
       "      <th>0</th>\n",
       "      <td>Rubina</td>\n",
       "      <td>F</td>\n",
       "    </tr>\n",
       "    <tr>\n",
       "      <th>1</th>\n",
       "      <td>Marria</td>\n",
       "      <td>F</td>\n",
       "    </tr>\n",
       "    <tr>\n",
       "      <th>2</th>\n",
       "      <td>Emily</td>\n",
       "      <td>F</td>\n",
       "    </tr>\n",
       "    <tr>\n",
       "      <th>3</th>\n",
       "      <td>Nisha</td>\n",
       "      <td>F</td>\n",
       "    </tr>\n",
       "    <tr>\n",
       "      <th>4</th>\n",
       "      <td>Song</td>\n",
       "      <td>M</td>\n",
       "    </tr>\n",
       "    <tr>\n",
       "      <th>5</th>\n",
       "      <td>Ajay</td>\n",
       "      <td>M</td>\n",
       "    </tr>\n",
       "    <tr>\n",
       "      <th>6</th>\n",
       "      <td>Marc</td>\n",
       "      <td>M</td>\n",
       "    </tr>\n",
       "  </tbody>\n",
       "</table>\n",
       "</div>"
      ],
      "text/plain": [
       "     Name Sex\n",
       "0  Rubina   F\n",
       "1  Marria   F\n",
       "2   Emily   F\n",
       "3   Nisha   F\n",
       "4    Song   M\n",
       "5    Ajay   M\n",
       "6    Marc   M"
      ]
     },
     "execution_count": 128,
     "metadata": {},
     "output_type": "execute_result"
    }
   ],
   "source": [
    "personal_details.loc[0:6,\"Name\":\"Sex\"] #Both start and stop bound are included in loc()"
   ]
  },
  {
   "cell_type": "code",
   "execution_count": 136,
   "id": "2063dee0-8f0b-4ee7-90a1-5c5ee51ad40f",
   "metadata": {},
   "outputs": [
    {
     "data": {
      "text/html": [
       "<div>\n",
       "<style scoped>\n",
       "    .dataframe tbody tr th:only-of-type {\n",
       "        vertical-align: middle;\n",
       "    }\n",
       "\n",
       "    .dataframe tbody tr th {\n",
       "        vertical-align: top;\n",
       "    }\n",
       "\n",
       "    .dataframe thead th {\n",
       "        text-align: right;\n",
       "    }\n",
       "</style>\n",
       "<table border=\"1\" class=\"dataframe\">\n",
       "  <thead>\n",
       "    <tr style=\"text-align: right;\">\n",
       "      <th></th>\n",
       "      <th>Name</th>\n",
       "      <th>Sex</th>\n",
       "    </tr>\n",
       "  </thead>\n",
       "  <tbody>\n",
       "    <tr>\n",
       "      <th>0</th>\n",
       "      <td>Rubina</td>\n",
       "      <td>F</td>\n",
       "    </tr>\n",
       "    <tr>\n",
       "      <th>1</th>\n",
       "      <td>Marria</td>\n",
       "      <td>F</td>\n",
       "    </tr>\n",
       "    <tr>\n",
       "      <th>2</th>\n",
       "      <td>Emily</td>\n",
       "      <td>F</td>\n",
       "    </tr>\n",
       "    <tr>\n",
       "      <th>3</th>\n",
       "      <td>Nisha</td>\n",
       "      <td>F</td>\n",
       "    </tr>\n",
       "    <tr>\n",
       "      <th>4</th>\n",
       "      <td>Song</td>\n",
       "      <td>M</td>\n",
       "    </tr>\n",
       "    <tr>\n",
       "      <th>5</th>\n",
       "      <td>Ajay</td>\n",
       "      <td>M</td>\n",
       "    </tr>\n",
       "  </tbody>\n",
       "</table>\n",
       "</div>"
      ],
      "text/plain": [
       "     Name Sex\n",
       "0  Rubina   F\n",
       "1  Marria   F\n",
       "2   Emily   F\n",
       "3   Nisha   F\n",
       "4    Song   M\n",
       "5    Ajay   M"
      ]
     },
     "execution_count": 136,
     "metadata": {},
     "output_type": "execute_result"
    }
   ],
   "source": [
    "personal_details.iloc[0:6, 0:2] # Here only the start is inclusive"
   ]
  },
  {
   "cell_type": "code",
   "execution_count": 138,
   "id": "a836987e-6d99-4d6f-91ec-0093cd983e46",
   "metadata": {},
   "outputs": [
    {
     "data": {
      "text/plain": [
       "Index(['Name', 'Sex', 'Age'], dtype='object')"
      ]
     },
     "execution_count": 138,
     "metadata": {},
     "output_type": "execute_result"
    }
   ],
   "source": [
    "personal_details.columns"
   ]
  },
  {
   "cell_type": "code",
   "execution_count": 142,
   "id": "f3cd40e6-4eac-4df2-9de9-992e381127b0",
   "metadata": {},
   "outputs": [
    {
     "data": {
      "text/plain": [
       "Name    object\n",
       "Sex     object\n",
       "Age      int64\n",
       "dtype: object"
      ]
     },
     "execution_count": 142,
     "metadata": {},
     "output_type": "execute_result"
    }
   ],
   "source": [
    "personal_details.dtypes"
   ]
  },
  {
   "cell_type": "code",
   "execution_count": 143,
   "id": "841c3aa8-ace0-4e93-96e3-e2f23bce2264",
   "metadata": {},
   "outputs": [
    {
     "data": {
      "text/plain": [
       "array([['Rubina', 'F', 28],\n",
       "       ['Marria', 'F', 23],\n",
       "       ['Emily', 'F', 56],\n",
       "       ['Nisha', 'F', 21],\n",
       "       ['Song', 'M', 45],\n",
       "       ['Ajay', 'M', 30],\n",
       "       ['Marc', 'M', 29],\n",
       "       ['Vijay', 'M', 34]], dtype=object)"
      ]
     },
     "execution_count": 143,
     "metadata": {},
     "output_type": "execute_result"
    }
   ],
   "source": [
    "personal_details.values"
   ]
  },
  {
   "cell_type": "code",
   "execution_count": 144,
   "id": "3c247796-3220-4205-b442-daea19083c3f",
   "metadata": {},
   "outputs": [
    {
     "data": {
      "text/plain": [
       "24"
      ]
     },
     "execution_count": 144,
     "metadata": {},
     "output_type": "execute_result"
    }
   ],
   "source": [
    "personal_details.size"
   ]
  },
  {
   "cell_type": "code",
   "execution_count": 145,
   "id": "a5ac4a37-e7b8-4cb4-ae51-671b67c60357",
   "metadata": {},
   "outputs": [
    {
     "data": {
      "text/plain": [
       "(8, 3)"
      ]
     },
     "execution_count": 145,
     "metadata": {},
     "output_type": "execute_result"
    }
   ],
   "source": [
    "personal_details.shape"
   ]
  },
  {
   "cell_type": "markdown",
   "id": "5d708108-ac51-489e-a6ca-e636ebc06bbf",
   "metadata": {},
   "source": [
    "### Series "
   ]
  },
  {
   "cell_type": "markdown",
   "id": "514ff0b9-6ccf-41b2-aa2e-2c887c6014ec",
   "metadata": {},
   "source": [
    "**class pandas.Series(data=None, index=None, dtype=None, name=None, copy=None, fastpath=NoDefault.no_default)**"
   ]
  },
  {
   "cell_type": "code",
   "execution_count": 26,
   "id": "8dde5a8b-0cdc-4ad8-88cf-689da4599414",
   "metadata": {},
   "outputs": [
    {
     "data": {
      "text/plain": [
       "Name1    Rubina\n",
       "Name2    Marrie\n",
       "Name3      Rosa\n",
       "dtype: object"
      ]
     },
     "execution_count": 26,
     "metadata": {},
     "output_type": "execute_result"
    }
   ],
   "source": [
    "# Creating series from a dictionery \n",
    "\n",
    "d = {\"Name1\":\"Rubina\",\"Name2\":\"Marrie\",\"Name3\":\"Rosa\"}\n",
    "ser = pd.Series(data=d, index=[\"Name1\",\"Name2\",\"Name3\"])\n",
    "ser"
   ]
  },
  {
   "cell_type": "code",
   "execution_count": 27,
   "id": "08d929f8-2b73-483c-9a89-d8f3a07520e5",
   "metadata": {},
   "outputs": [
    {
     "data": {
      "text/plain": [
       "a    2\n",
       "b    4\n",
       "c    5\n",
       "dtype: int64"
      ]
     },
     "execution_count": 27,
     "metadata": {},
     "output_type": "execute_result"
    }
   ],
   "source": [
    "#Even if we don't give index value like above it is fine\n",
    "d1 = {'a':2, 'b':4, 'c':5}\n",
    "ser1 = pd.Series(data=d1)\n",
    "ser1"
   ]
  },
  {
   "cell_type": "code",
   "execution_count": 29,
   "id": "b72342f7-6067-4ca2-bce0-43994985a846",
   "metadata": {},
   "outputs": [
    {
     "data": {
      "text/plain": [
       "x   NaN\n",
       "y   NaN\n",
       "z   NaN\n",
       "dtype: float64"
      ]
     },
     "execution_count": 29,
     "metadata": {},
     "output_type": "execute_result"
    }
   ],
   "source": [
    "#Now we want to give different index to the ser data\n",
    "#The dictionary index are use to make the series first\n",
    "#But the index used in ser3 replaced the dictionary index therefore we get NaN \n",
    "d2 = {'a':123, 'b':928, 'c':235}\n",
    "ser3 = pd.Series(data=d2, index=['x','y','z'])\n",
    "ser3\n"
   ]
  },
  {
   "cell_type": "code",
   "execution_count": 34,
   "id": "8b77b1f8-ed99-43a7-8871-f126b32ad357",
   "metadata": {},
   "outputs": [
    {
     "name": "stdout",
     "output_type": "stream",
     "text": [
      "0    9\n",
      "1    4\n",
      "dtype: int64\n",
      "[3, 4]\n"
     ]
    }
   ],
   "source": [
    "#Copy only affects a series or 1D ndarray input.\n",
    "r = [3,4]\n",
    "series1 = pd.Series(r,copy=False)\n",
    "series1.iloc[0] = 9\n",
    "print(series1)\n",
    "print(r)"
   ]
  },
  {
   "cell_type": "code",
   "execution_count": 43,
   "id": "2fc6b465-6b18-41d6-9c99-e0d5c6a41d64",
   "metadata": {},
   "outputs": [
    {
     "name": "stdout",
     "output_type": "stream",
     "text": [
      "******** Series2 ********\n",
      "\n",
      "0     4\n",
      "1    99\n",
      "2     9\n",
      "3     0\n",
      "4    56\n",
      "5    12\n",
      "6    89\n",
      "dtype: int64\n",
      "\n",
      "\n",
      "******** r1 ************\n",
      "\n",
      "[ 4 99  9  0 56 12 89]\n"
     ]
    }
   ],
   "source": [
    "#input is 1D ndarray \n",
    "#If we keep the copy=False any changes in series will be reflected in the r1 data as well \n",
    "#If copy=True it will not affect the actual data only changes to the series take place\n",
    "r1 = np.array([4,5,9,23,56,12,89])\n",
    "series2 = pd.Series(r1, copy=False)\n",
    "series2.iloc[1] = 99\n",
    "series2.iloc[3] = 0\n",
    "print(\"******** Series2 ********\\n\")\n",
    "print(series2)\n",
    "print(\"\\n\")\n",
    "print(\"******** r1 ************\\n\")\n",
    "print(r1)"
   ]
  },
  {
   "cell_type": "code",
   "execution_count": 44,
   "id": "e296720b-0176-43d7-9342-80cb82f835e2",
   "metadata": {},
   "outputs": [
    {
     "name": "stdout",
     "output_type": "stream",
     "text": [
      "0\n"
     ]
    }
   ],
   "source": [
    "#A series can be accessed as \n",
    "print(series2[3])"
   ]
  },
  {
   "cell_type": "code",
   "execution_count": 45,
   "id": "f441eaa6-b2d5-4160-81f9-f8ae88c28e5d",
   "metadata": {},
   "outputs": [
    {
     "name": "stdout",
     "output_type": "stream",
     "text": [
      "12\n"
     ]
    }
   ],
   "source": [
    "print(series2.iloc[5])"
   ]
  },
  {
   "cell_type": "code",
   "execution_count": 46,
   "id": "7329e3b3-b811-443f-9f8e-aa2fade38169",
   "metadata": {},
   "outputs": [
    {
     "name": "stdout",
     "output_type": "stream",
     "text": [
      "1    99\n",
      "2     9\n",
      "3     0\n",
      "4    56\n",
      "5    12\n",
      "dtype: int64\n"
     ]
    }
   ],
   "source": [
    "#Access multiple elements \n",
    "print(series2[1:6])"
   ]
  },
  {
   "cell_type": "code",
   "execution_count": 51,
   "id": "9332274e-eec9-459a-91b4-9d686ebf1cec",
   "metadata": {},
   "outputs": [
    {
     "data": {
      "text/plain": [
       "Index(['sky', 'grass', 'road', 'flower'], dtype='object')"
      ]
     },
     "execution_count": 51,
     "metadata": {},
     "output_type": "execute_result"
    }
   ],
   "source": [
    "#Working with index\n",
    "items = [\"sky\",\"grass\",\"road\",\"flower\"]\n",
    "color = [\"blue\",\"green\",\"black\",\"red\"]\n",
    "details = pd.Series(color,index=items)\n",
    "details.index\n"
   ]
  },
  {
   "cell_type": "code",
   "execution_count": 52,
   "id": "192399c2-b1bb-47e0-9535-1f3afd8c2124",
   "metadata": {},
   "outputs": [
    {
     "data": {
      "text/plain": [
       "Index(['Blu', 'Grn', 'Blk', 'Rd'], dtype='object')"
      ]
     },
     "execution_count": 52,
     "metadata": {},
     "output_type": "execute_result"
    }
   ],
   "source": [
    "details.index = [\"Blu\",\"Grn\",\"Blk\",\"Rd\"]\n",
    "details.index"
   ]
  },
  {
   "cell_type": "code",
   "execution_count": 53,
   "id": "bebf834b-9a38-40b5-813a-9f61dddbb131",
   "metadata": {},
   "outputs": [
    {
     "data": {
      "text/plain": [
       "Blu     blue\n",
       "Grn    green\n",
       "Blk    black\n",
       "Rd       red\n",
       "dtype: object"
      ]
     },
     "execution_count": 53,
     "metadata": {},
     "output_type": "execute_result"
    }
   ],
   "source": [
    "details"
   ]
  },
  {
   "cell_type": "code",
   "execution_count": 55,
   "id": "70eef5a5-950d-4b19-a320-dc197942b54a",
   "metadata": {},
   "outputs": [
    {
     "data": {
      "text/plain": [
       "<NumpyExtensionArray>\n",
       "[1, 2, 3, 4]\n",
       "Length: 4, dtype: int64"
      ]
     },
     "execution_count": 55,
     "metadata": {},
     "output_type": "execute_result"
    }
   ],
   "source": [
    "pd.Series([1,2,3,4]).array"
   ]
  },
  {
   "cell_type": "code",
   "execution_count": 56,
   "id": "38295f33-9d6f-4668-92bd-5dbae288e218",
   "metadata": {},
   "outputs": [
    {
     "data": {
      "text/plain": [
       "0     Mind\n",
       "1     Soul\n",
       "2    Peace\n",
       "dtype: category\n",
       "Categories (3, object): ['Mind', 'Peace', 'Soul']"
      ]
     },
     "execution_count": 56,
     "metadata": {},
     "output_type": "execute_result"
    }
   ],
   "source": [
    "pd.Series(pd.Categorical([\"Mind\",\"Soul\",\"Peace\"]))"
   ]
  },
  {
   "cell_type": "code",
   "execution_count": 60,
   "id": "4e6c9a32-3e43-453a-9fb9-cae8c1008831",
   "metadata": {},
   "outputs": [
    {
     "data": {
      "text/plain": [
       "array(['Rubina', 'Manny', 'Bob'], dtype=object)"
      ]
     },
     "execution_count": 60,
     "metadata": {},
     "output_type": "execute_result"
    }
   ],
   "source": [
    "pd.Series([\"Rubina\",\"Manny\",\"Bob\"]).values"
   ]
  },
  {
   "cell_type": "code",
   "execution_count": 61,
   "id": "b3cfd2f2-462d-405c-957a-c271d030b46f",
   "metadata": {},
   "outputs": [
    {
     "data": {
      "text/plain": [
       "array([ 4, 99,  9,  0, 56, 12, 89])"
      ]
     },
     "execution_count": 61,
     "metadata": {},
     "output_type": "execute_result"
    }
   ],
   "source": [
    "pd.Series(series2).values"
   ]
  },
  {
   "cell_type": "code",
   "execution_count": 62,
   "id": "31129028-4475-45eb-8b2d-118e421c9db2",
   "metadata": {},
   "outputs": [
    {
     "data": {
      "text/plain": [
       "38.42857142857143"
      ]
     },
     "execution_count": 62,
     "metadata": {},
     "output_type": "execute_result"
    }
   ],
   "source": [
    "series2.mean()"
   ]
  },
  {
   "cell_type": "code",
   "execution_count": 63,
   "id": "480d8354-a6b7-4fda-9b85-bc792473ce1d",
   "metadata": {},
   "outputs": [
    {
     "data": {
      "text/plain": [
       "99"
      ]
     },
     "execution_count": 63,
     "metadata": {},
     "output_type": "execute_result"
    }
   ],
   "source": [
    "series2.max()"
   ]
  },
  {
   "cell_type": "code",
   "execution_count": 64,
   "id": "f43a1685-0717-4540-9a55-f800fe9b4520",
   "metadata": {},
   "outputs": [
    {
     "data": {
      "text/plain": [
       "0"
      ]
     },
     "execution_count": 64,
     "metadata": {},
     "output_type": "execute_result"
    }
   ],
   "source": [
    "series2.min()"
   ]
  },
  {
   "cell_type": "code",
   "execution_count": 65,
   "id": "282215b5-a3c3-4126-a5bd-dac94842dcfa",
   "metadata": {},
   "outputs": [
    {
     "data": {
      "text/plain": [
       "array([ 4, 99,  9,  0, 56, 12, 89])"
      ]
     },
     "execution_count": 65,
     "metadata": {},
     "output_type": "execute_result"
    }
   ],
   "source": [
    "series2.unique()"
   ]
  },
  {
   "cell_type": "code",
   "execution_count": 67,
   "id": "bcadde17-0e21-4a23-9c44-2f28b1080641",
   "metadata": {},
   "outputs": [
    {
     "data": {
      "text/plain": [
       "3     0\n",
       "0     4\n",
       "2     9\n",
       "5    12\n",
       "4    56\n",
       "6    89\n",
       "1    99\n",
       "dtype: int64"
      ]
     },
     "execution_count": 67,
     "metadata": {},
     "output_type": "execute_result"
    }
   ],
   "source": [
    "series2.sort_values()"
   ]
  },
  {
   "cell_type": "code",
   "execution_count": 68,
   "id": "6f74ca30-ef04-4889-85d7-71fbf27837ae",
   "metadata": {},
   "outputs": [
    {
     "data": {
      "text/plain": [
       "0     4\n",
       "1    99\n",
       "2     9\n",
       "3     0\n",
       "4    56\n",
       "5    12\n",
       "6    89\n",
       "dtype: int64"
      ]
     },
     "execution_count": 68,
     "metadata": {},
     "output_type": "execute_result"
    }
   ],
   "source": [
    "series2.sort_index()"
   ]
  },
  {
   "cell_type": "markdown",
   "id": "2ca39f34-17f7-474d-8e25-031d72089d7d",
   "metadata": {},
   "source": [
    "## Author\n",
    "### Rubina"
   ]
  },
  {
   "cell_type": "code",
   "execution_count": null,
   "id": "aafe1706-6a42-4362-b696-b5c1b4ef5072",
   "metadata": {},
   "outputs": [],
   "source": []
  }
 ],
 "metadata": {
  "kernelspec": {
   "display_name": "Python 3 (ipykernel)",
   "language": "python",
   "name": "python3"
  },
  "language_info": {
   "codemirror_mode": {
    "name": "ipython",
    "version": 3
   },
   "file_extension": ".py",
   "mimetype": "text/x-python",
   "name": "python",
   "nbconvert_exporter": "python",
   "pygments_lexer": "ipython3",
   "version": "3.12.3"
  }
 },
 "nbformat": 4,
 "nbformat_minor": 5
}

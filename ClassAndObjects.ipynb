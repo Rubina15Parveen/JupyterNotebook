{
 "cells": [
  {
   "cell_type": "markdown",
   "id": "cfd00312-549f-4907-9746-6f842f87df16",
   "metadata": {},
   "source": [
    "# Class and Objects "
   ]
  },
  {
   "cell_type": "markdown",
   "id": "f848eba2-729b-4ec0-b20f-3e26635cb3de",
   "metadata": {},
   "source": [
    "- Object: Instance of a class \n",
    "- Class : Blueprint or template to create an object\n",
    "    - **class** keyword is used to declare a class  \n",
    "    - class has attributes or variables and methods or functions\n",
    "      <br> **class** Classname:\n",
    "     <br /> &nbsp; &nbsp; &nbsp; &nbsp;class_var = value "
   ]
  },
  {
   "cell_type": "markdown",
   "id": "993b8d54-93ae-49ba-801f-04a2561a1b8b",
   "metadata": {},
   "source": [
    "- Instantiation of class \n",
    "    - myobj = class_name()"
   ]
  },
  {
   "cell_type": "markdown",
   "id": "6655bc4b-4d10-4062-9dce-56f09f29517f",
   "metadata": {},
   "source": [
    "**Constructor method**: __\\__init__\\__ method is called constructor - used to initialize the instance objects. \n",
    "   <br/>&nbsp;&nbsp; &nbsp;&nbsp;&nbsp;1. **self** is the first parameter of constructor refering to the instance created - it is like the this pointer in C++ that points to the object but we need to mention this explicitly.   "
   ]
  },
  {
   "cell_type": "code",
   "execution_count": 2,
   "id": "24300b64-14de-4351-ba08-154ec4bd158c",
   "metadata": {},
   "outputs": [],
   "source": [
    "import math \n",
    "\n",
    "class DrawCircle:\n",
    "    radius = 4.0\n",
    "    color = \"red\"\n",
    "\n",
    "    def __init__(self,radius1,color1):\n",
    "        self.radius = radius1 \n",
    "        self.color = color1 \n",
    "    def area(self,radius1):\n",
    "        areaCircle = math.pi * radius1 * radius1\n",
    "        return areaCircle\n",
    "radius = 6.0\n",
    "color = \"blue\"\n",
    "myobject = DrawCircle(radius,color)\n",
    "obj2 = DrawCircle(8,\"yellow\")"
   ]
  },
  {
   "cell_type": "code",
   "execution_count": 3,
   "id": "7f001aa1-4251-451f-9586-ba24d71dda65",
   "metadata": {},
   "outputs": [
    {
     "data": {
      "text/plain": [
       "6.0"
      ]
     },
     "execution_count": 3,
     "metadata": {},
     "output_type": "execute_result"
    }
   ],
   "source": [
    "myobject.radius"
   ]
  },
  {
   "cell_type": "code",
   "execution_count": 4,
   "id": "1a00cc63-ad38-4052-ae95-43c8ebfeadad",
   "metadata": {},
   "outputs": [
    {
     "data": {
      "text/plain": [
       "'blue'"
      ]
     },
     "execution_count": 4,
     "metadata": {},
     "output_type": "execute_result"
    }
   ],
   "source": [
    "myobject.color"
   ]
  },
  {
   "cell_type": "code",
   "execution_count": 5,
   "id": "b896c1e6-f81f-4aba-8a5f-6bfc87b0a679",
   "metadata": {},
   "outputs": [
    {
     "data": {
      "text/plain": [
       "113.09733552923255"
      ]
     },
     "execution_count": 5,
     "metadata": {},
     "output_type": "execute_result"
    }
   ],
   "source": [
    "myobject.area(radius)"
   ]
  },
  {
   "cell_type": "code",
   "execution_count": 6,
   "id": "4de5f9fe-9ee2-4d76-a102-eaff69ad5633",
   "metadata": {},
   "outputs": [
    {
     "data": {
      "text/plain": [
       "8"
      ]
     },
     "execution_count": 6,
     "metadata": {},
     "output_type": "execute_result"
    }
   ],
   "source": [
    "obj2.radius"
   ]
  },
  {
   "cell_type": "code",
   "execution_count": 7,
   "id": "31dda2bb-20c9-4367-882f-28d449323dfd",
   "metadata": {},
   "outputs": [
    {
     "data": {
      "text/plain": [
       "'yellow'"
      ]
     },
     "execution_count": 7,
     "metadata": {},
     "output_type": "execute_result"
    }
   ],
   "source": [
    "obj2.color"
   ]
  },
  {
   "cell_type": "code",
   "execution_count": 8,
   "id": "26401087-011f-4c51-8703-ae4099a026f3",
   "metadata": {},
   "outputs": [
    {
     "data": {
      "text/plain": [
       "201.06192982974676"
      ]
     },
     "execution_count": 8,
     "metadata": {},
     "output_type": "execute_result"
    }
   ],
   "source": [
    "obj2.area(8)"
   ]
  },
  {
   "cell_type": "markdown",
   "id": "761cfc7d-e134-4e51-8973-bf0331ce8f3b",
   "metadata": {},
   "source": [
    "### Ways of calling an object method "
   ]
  },
  {
   "cell_type": "markdown",
   "id": "1b0d8a72-ab31-49c8-8033-27f1eddf91e2",
   "metadata": {},
   "source": [
    "1. Calling using dot "
   ]
  },
  {
   "cell_type": "code",
   "execution_count": 9,
   "id": "75383b79-1ada-44a6-90e5-ff5ba165d756",
   "metadata": {},
   "outputs": [
    {
     "data": {
      "text/plain": [
       "113.09733552923255"
      ]
     },
     "execution_count": 9,
     "metadata": {},
     "output_type": "execute_result"
    }
   ],
   "source": [
    "myobject.area(radius)"
   ]
  },
  {
   "cell_type": "markdown",
   "id": "574622f7-4b03-485c-b885-e3e7111636cd",
   "metadata": {},
   "source": [
    "2. Assign object methods to variables"
   ]
  },
  {
   "cell_type": "code",
   "execution_count": 10,
   "id": "7d952a67-4574-473e-9a36-4d7e0054870a",
   "metadata": {},
   "outputs": [],
   "source": [
    "myMethod = myobject.area "
   ]
  },
  {
   "cell_type": "code",
   "execution_count": 11,
   "id": "c955b4b6-e00c-476c-b06f-0aa4e1b52605",
   "metadata": {},
   "outputs": [
    {
     "data": {
      "text/plain": [
       "153.93804002589985"
      ]
     },
     "execution_count": 11,
     "metadata": {},
     "output_type": "execute_result"
    }
   ],
   "source": [
    "myMethod(7)\n"
   ]
  },
  {
   "cell_type": "markdown",
   "id": "4cd7ea13-6544-4421-9ceb-af216c5cd9e9",
   "metadata": {},
   "source": [
    "### To access the value of an attibute of an object "
   ]
  },
  {
   "cell_type": "code",
   "execution_count": 12,
   "id": "faca7e35-bcc7-4f41-8b7d-ecd03ea78892",
   "metadata": {},
   "outputs": [],
   "source": [
    "#Use dot \n",
    "\n",
    "attribute_color = myobject.color \n"
   ]
  },
  {
   "cell_type": "code",
   "execution_count": 13,
   "id": "dac424f8-3289-4c84-bd53-3b25b2ecd7fc",
   "metadata": {},
   "outputs": [
    {
     "data": {
      "text/plain": [
       "'blue'"
      ]
     },
     "execution_count": 13,
     "metadata": {},
     "output_type": "execute_result"
    }
   ],
   "source": [
    "attribute_color"
   ]
  },
  {
   "cell_type": "code",
   "execution_count": 14,
   "id": "a6ecf89a-c237-423d-b28d-b89df10672a2",
   "metadata": {},
   "outputs": [
    {
     "data": {
      "text/plain": [
       "'Yellow'"
      ]
     },
     "execution_count": 14,
     "metadata": {},
     "output_type": "execute_result"
    }
   ],
   "source": [
    "#Modify the value of an attribute as \n",
    "myobject.color = \"Yellow\"\n",
    "myobject.color"
   ]
  },
  {
   "cell_type": "code",
   "execution_count": 15,
   "id": "1cac13b8-d44d-4545-b0cd-ea25b53e8350",
   "metadata": {},
   "outputs": [],
   "source": [
    "#Find class attribute \n",
    "\n",
    "class_attr = DrawCircle.radius"
   ]
  },
  {
   "cell_type": "code",
   "execution_count": 16,
   "id": "70168147-762f-48e6-a92f-f5b61e1fcb53",
   "metadata": {},
   "outputs": [
    {
     "data": {
      "text/plain": [
       "4.0"
      ]
     },
     "execution_count": 16,
     "metadata": {},
     "output_type": "execute_result"
    }
   ],
   "source": [
    "class_attr"
   ]
  },
  {
   "cell_type": "code",
   "execution_count": 17,
   "id": "dea10b76-a0e6-4853-8ac8-ffe9353fc8d2",
   "metadata": {},
   "outputs": [
    {
     "data": {
      "text/plain": [
       "'red'"
      ]
     },
     "execution_count": 17,
     "metadata": {},
     "output_type": "execute_result"
    }
   ],
   "source": [
    "DrawCircle.color"
   ]
  },
  {
   "cell_type": "code",
   "execution_count": 18,
   "id": "03419413-c3ec-4d32-8458-bb91245cf934",
   "metadata": {},
   "outputs": [],
   "source": [
    "import matplotlib.pyplot as plt \n",
    "%matplotlib inline  "
   ]
  },
  {
   "cell_type": "code",
   "execution_count": 19,
   "id": "aec159ed-2f1a-4282-a816-eeb7edd4ff27",
   "metadata": {},
   "outputs": [],
   "source": [
    "class DrawCircle(object):\n",
    "    #define the constructor \n",
    "    def __init__(self, radius = 3.0, color = \"blue\"):\n",
    "        self.radius = radius\n",
    "        self.color = color \n",
    "        \n",
    "    def changeRadius(self, r):\n",
    "        self.radius = self.radius + r \n",
    "        \n",
    "    def draw(self):\n",
    "        plt.gca().add_patch(plt.Circle((0, 0), radius=self.radius, fc=self.color))\n",
    "        plt.axis('scaled')\n",
    "        plt.show()  "
   ]
  },
  {
   "cell_type": "code",
   "execution_count": 20,
   "id": "80dbf7ef-3c6a-41b3-bd42-563066594b5f",
   "metadata": {},
   "outputs": [],
   "source": [
    "YellowCircle = DrawCircle(10,\"Yellow\")"
   ]
  },
  {
   "cell_type": "code",
   "execution_count": 21,
   "id": "672ec781-3ee6-4d2b-865f-4d460cdcc16d",
   "metadata": {},
   "outputs": [
    {
     "data": {
      "text/plain": [
       "['__class__',\n",
       " '__delattr__',\n",
       " '__dict__',\n",
       " '__dir__',\n",
       " '__doc__',\n",
       " '__eq__',\n",
       " '__format__',\n",
       " '__ge__',\n",
       " '__getattribute__',\n",
       " '__getstate__',\n",
       " '__gt__',\n",
       " '__hash__',\n",
       " '__init__',\n",
       " '__init_subclass__',\n",
       " '__le__',\n",
       " '__lt__',\n",
       " '__module__',\n",
       " '__ne__',\n",
       " '__new__',\n",
       " '__reduce__',\n",
       " '__reduce_ex__',\n",
       " '__repr__',\n",
       " '__setattr__',\n",
       " '__sizeof__',\n",
       " '__str__',\n",
       " '__subclasshook__',\n",
       " '__weakref__',\n",
       " 'changeRadius',\n",
       " 'color',\n",
       " 'draw',\n",
       " 'radius']"
      ]
     },
     "execution_count": 21,
     "metadata": {},
     "output_type": "execute_result"
    }
   ],
   "source": [
    "#List the methods of the pbject YellowCircle \n",
    "\n",
    "dir(YellowCircle)"
   ]
  },
  {
   "cell_type": "code",
   "execution_count": 22,
   "id": "493d452d-fa2b-4805-b486-2a3f1fc82af6",
   "metadata": {},
   "outputs": [
    {
     "data": {
      "text/plain": [
       "10"
      ]
     },
     "execution_count": 22,
     "metadata": {},
     "output_type": "execute_result"
    }
   ],
   "source": [
    "YellowCircle.radius"
   ]
  },
  {
   "cell_type": "code",
   "execution_count": 23,
   "id": "c9b45423-43e1-4ffb-b6de-8af7f1a6444c",
   "metadata": {},
   "outputs": [
    {
     "data": {
      "text/plain": [
       "'Yellow'"
      ]
     },
     "execution_count": 23,
     "metadata": {},
     "output_type": "execute_result"
    }
   ],
   "source": [
    "YellowCircle.color"
   ]
  },
  {
   "cell_type": "code",
   "execution_count": 24,
   "id": "1809d590-f107-42c0-9df6-cb8092f01e0d",
   "metadata": {},
   "outputs": [],
   "source": [
    "YellowCircle.radius = 5.5"
   ]
  },
  {
   "cell_type": "code",
   "execution_count": 25,
   "id": "5fd2b95b-aa28-42e1-915c-c4b0ba1e8222",
   "metadata": {},
   "outputs": [
    {
     "data": {
      "text/plain": [
       "5.5"
      ]
     },
     "execution_count": 25,
     "metadata": {},
     "output_type": "execute_result"
    }
   ],
   "source": [
    "YellowCircle.radius"
   ]
  },
  {
   "cell_type": "code",
   "execution_count": 26,
   "id": "968504c6-6d62-46c4-bf03-99e37be6522b",
   "metadata": {},
   "outputs": [
    {
     "data": {
      "image/png": "[encoded data removed]",
      "text/plain": [
       "<Figure size 640x480 with 1 Axes>"
      ]
     },
     "metadata": {},
     "output_type": "display_data"
    }
   ],
   "source": [
    "YellowCircle.draw()"
   ]
  },
  {
   "cell_type": "code",
   "execution_count": 27,
   "id": "37f1e0cc-c373-42db-96f5-0486cae84aa5",
   "metadata": {},
   "outputs": [],
   "source": [
    "YellowCircle.changeRadius(-2)"
   ]
  },
  {
   "cell_type": "code",
   "execution_count": 28,
   "id": "b298d045-2a18-4452-add0-b24b838d15ca",
   "metadata": {},
   "outputs": [
    {
     "data": {
      "text/plain": [
       "3.5"
      ]
     },
     "execution_count": 28,
     "metadata": {},
     "output_type": "execute_result"
    }
   ],
   "source": [
    "YellowCircle.radius"
   ]
  },
  {
   "cell_type": "code",
   "execution_count": 29,
   "id": "4f1564cf-aa8d-474d-b11c-3174b888c2a3",
   "metadata": {},
   "outputs": [
    {
     "data": {
      "image/png": "[encoded data removed]",
      "text/plain": [
       "<Figure size 640x480 with 1 Axes>"
      ]
     },
     "metadata": {},
     "output_type": "display_data"
    }
   ],
   "source": [
    "YellowCircle.draw()"
   ]
  },
  {
   "cell_type": "markdown",
   "id": "1d8eebe1-7530-4361-85b1-5c217fa55189",
   "metadata": {},
   "source": [
    "### Author \n",
    "\n",
    "#### Rubina Parveen"
   ]
  },
  {
   "cell_type": "code",
   "execution_count": null,
   "id": "8ff6260c-0b74-4f43-9394-7782cc5ed25b",
   "metadata": {},
   "outputs": [],
   "source": []
  }
 ],
 "metadata": {
  "kernelspec": {
   "display_name": "Python 3 (ipykernel)",
   "language": "python",
   "name": "python3"
  },
  "language_info": {
   "codemirror_mode": {
    "name": "ipython",
    "version": 3
   },
   "file_extension": ".py",
   "mimetype": "text/x-python",
   "name": "python",
   "nbconvert_exporter": "python",
   "pygments_lexer": "ipython3",
   "version": "3.12.3"
  }
 },
 "nbformat": 4,
 "nbformat_minor": 5
}

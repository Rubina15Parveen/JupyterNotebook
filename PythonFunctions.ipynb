{
 "cells": [
  {
   "cell_type": "markdown",
   "id": "169e0054-1d72-4dfc-8617-495184978afb",
   "metadata": {
    "editable": true,
    "slideshow": {
     "slide_type": ""
    },
    "tags": []
   },
   "source": [
    "## Python: Functions "
   ]
  },
  {
   "cell_type": "markdown",
   "id": "837eb3d2-4ca9-4c8c-ba5e-1d2f86089664",
   "metadata": {},
   "source": [
    "##### Range \n",
    "Range defines ordered sequence. Eg: [4:10] The range starts from 4 but doesn't include the end value. There here the range will include 4,5,6,7,8,9. "
   ]
  },
  {
   "cell_type": "code",
   "execution_count": 1,
   "id": "853b86a4-1084-4ae6-a75d-0e5f3c2e6d52",
   "metadata": {},
   "outputs": [],
   "source": [
    "#Defined using def \n",
    "#Simple function to add 1 to a number \n",
    "def add(x):\n",
    "    return x+1"
   ]
  },
  {
   "cell_type": "code",
   "execution_count": 2,
   "id": "3b841425-ebbe-4745-b2b8-9f33d509e989",
   "metadata": {},
   "outputs": [
    {
     "data": {
      "text/plain": [
       "3"
      ]
     },
     "execution_count": 2,
     "metadata": {},
     "output_type": "execute_result"
    }
   ],
   "source": [
    "add(2)"
   ]
  },
  {
   "cell_type": "code",
   "execution_count": 3,
   "id": "ab2c7a7b-43a0-4410-8e71-6686e6dbb477",
   "metadata": {},
   "outputs": [
    {
     "data": {
      "text/plain": [
       "'\\nThis is a Documentation string\\n'"
      ]
     },
     "execution_count": 3,
     "metadata": {},
     "output_type": "execute_result"
    }
   ],
   "source": [
    "\"\"\"\n",
    "This is a Documentation string\n",
    "\"\"\""
   ]
  },
  {
   "cell_type": "code",
   "execution_count": 4,
   "id": "9b283c19-84aa-4ad4-9696-9376f064318e",
   "metadata": {},
   "outputs": [],
   "source": [
    "def mult(a,b):\n",
    "    return a*b"
   ]
  },
  {
   "cell_type": "code",
   "execution_count": 5,
   "id": "21aa8ad4-175e-474f-8e9d-0ab6048eac70",
   "metadata": {},
   "outputs": [
    {
     "data": {
      "text/plain": [
       "18"
      ]
     },
     "execution_count": 5,
     "metadata": {},
     "output_type": "execute_result"
    }
   ],
   "source": [
    "mult(3,6)"
   ]
  },
  {
   "cell_type": "code",
   "execution_count": 6,
   "id": "5eb3adaa-a14e-4cd2-b17d-2a25b8d86288",
   "metadata": {},
   "outputs": [
    {
     "data": {
      "text/plain": [
       "'HelloHello'"
      ]
     },
     "execution_count": 6,
     "metadata": {},
     "output_type": "execute_result"
    }
   ],
   "source": [
    "mult(2,\"Hello\")"
   ]
  },
  {
   "cell_type": "code",
   "execution_count": 7,
   "id": "c672a96d-3e42-4326-ab38-063171804238",
   "metadata": {},
   "outputs": [
    {
     "data": {
      "text/plain": [
       "'hellohellohello'"
      ]
     },
     "execution_count": 7,
     "metadata": {},
     "output_type": "execute_result"
    }
   ],
   "source": [
    "mult(\"hello\",3)"
   ]
  },
  {
   "cell_type": "code",
   "execution_count": 8,
   "id": "b6ee9b54-4c7e-4440-8a3a-2947f1dc1e04",
   "metadata": {},
   "outputs": [],
   "source": [
    "#pass in a function is a no operation statement. Used when we do not want to define functionality of a function \n",
    "def doNothing():\n",
    "    pass\n",
    "\n",
    "#it is a place holder for the future code \n",
    "#when interpreter encounters pass it moves on to the next statement \n"
   ]
  },
  {
   "cell_type": "code",
   "execution_count": 9,
   "id": "e1bcb10d-53c2-44fb-a163-2a64b33827a6",
   "metadata": {},
   "outputs": [],
   "source": [
    "#If a function doesn't return anything. It implicitly return None \n",
    "\n",
    "def hello():\n",
    "    print(\"Hello\")\n",
    "\n",
    "def hello1():\n",
    "    print(\"Hello1\")\n",
    "    return None \n",
    "\n",
    "#both the functions are same "
   ]
  },
  {
   "cell_type": "code",
   "execution_count": 10,
   "id": "52605521-727f-4250-9489-0cf50c88bb7f",
   "metadata": {},
   "outputs": [
    {
     "name": "stdout",
     "output_type": "stream",
     "text": [
      "Hello\n",
      "None\n"
     ]
    }
   ],
   "source": [
    "print(hello())"
   ]
  },
  {
   "cell_type": "code",
   "execution_count": 11,
   "id": "ea4ce960-420a-4a21-afd4-a8f88c0d3282",
   "metadata": {},
   "outputs": [
    {
     "name": "stdout",
     "output_type": "stream",
     "text": [
      "Hello1\n",
      "None\n"
     ]
    }
   ],
   "source": [
    "print(hello1())"
   ]
  },
  {
   "cell_type": "code",
   "execution_count": 12,
   "id": "ae1dfec4-76b1-4b44-b7ca-e8a0edb0a97b",
   "metadata": {},
   "outputs": [
    {
     "name": "stdout",
     "output_type": "stream",
     "text": [
      "Hello\n"
     ]
    }
   ],
   "source": [
    "hello()"
   ]
  },
  {
   "cell_type": "code",
   "execution_count": 13,
   "id": "f067ffba-81cb-4e5e-a070-b60b9f0d8a84",
   "metadata": {},
   "outputs": [
    {
     "name": "stdout",
     "output_type": "stream",
     "text": [
      "Hello1\n"
     ]
    }
   ],
   "source": [
    "hello1()"
   ]
  },
  {
   "cell_type": "code",
   "execution_count": 14,
   "id": "7b70c703-c377-4857-b86f-7ae7a900d877",
   "metadata": {},
   "outputs": [
    {
     "name": "stdout",
     "output_type": "stream",
     "text": [
      "Same string\n",
      "None\n",
      "Different string\n",
      "None\n"
     ]
    }
   ],
   "source": [
    "# Checkin if a string is part of another string  \n",
    "\n",
    "string1 = \"Hello world. I am learning\" \n",
    "\n",
    "def check(text):\n",
    "    if text in string1:\n",
    "        print(\"Same string\")\n",
    "    else:\n",
    "        print(\"Different string\")\n",
    "\n",
    "print(check(\"Hello world\"))\n",
    "print(check(\"hello\"))"
   ]
  },
  {
   "cell_type": "code",
   "execution_count": 15,
   "id": "23b9d415-2545-42a2-a845-97c9b2079200",
   "metadata": {},
   "outputs": [
    {
     "name": "stdout",
     "output_type": "stream",
     "text": [
      "Strings are different\n"
     ]
    }
   ],
   "source": [
    "#comparing two strings \n",
    "\n",
    "def compareStrings(x,y):\n",
    "    if x==y:\n",
    "        return 1\n",
    "    else:\n",
    "        return 0\n",
    "\n",
    "\n",
    "\n",
    "string1 = \"Hello world. I am learning\"\n",
    "string2 = \"Hello world.\"\n",
    "\n",
    "if compareStrings(string1, string2):\n",
    "    print(\"Strings match\")\n",
    "else:\n",
    "    print(\"Strings are different\")"
   ]
  },
  {
   "cell_type": "code",
   "execution_count": 7,
   "id": "3134f486-8545-41d4-a644-a6ee659b02df",
   "metadata": {},
   "outputs": [
    {
     "name": "stdout",
     "output_type": "stream",
     "text": [
      "{'Betty': 1, 'bought': 2, 'a': 2, 'bit': 3, 'of': 3, 'butter,': 1, 'but': 1, 'the': 2, 'butter': 3, 'was': 1, 'little': 2, 'bitter.': 1, 'So': 1, 'she': 1, 'some': 1, 'better': 2, 'to': 1, 'make': 1}\n"
     ]
    }
   ],
   "source": [
    "#Counting frequency of words from a string \n",
    "\n",
    "def freq_count(string):\n",
    "    words = []\n",
    "    words = string.split()\n",
    "    frequency = {}\n",
    "\n",
    "    for key in words:\n",
    "        frequency[key] = words.count(key)\n",
    "\n",
    "    return frequency \n",
    "\n",
    "string1 = \"Betty bought a bit of butter, but the bit of butter was little bitter. So she bought some better butter to make the bit of butter a little better\"\n",
    "\n",
    "print(freq_count(string1))"
   ]
  },
  {
   "cell_type": "code",
   "execution_count": 16,
   "id": "291604e8-4400-4ef8-8141-5bc3ceb97bbd",
   "metadata": {},
   "outputs": [
    {
     "name": "stdout",
     "output_type": "stream",
     "text": [
      "I don't recommend this place\n",
      "Food here is amazing\n"
     ]
    }
   ],
   "source": [
    "# setting a default value in a function \n",
    "\n",
    "def loveEating(rating=4):\n",
    "    if rating > 7:\n",
    "        print(\"Food here is amazing\")\n",
    "    else:\n",
    "        print(\"I don't recommend this place\")\n",
    "\n",
    "\n",
    "loveEating()\n",
    "loveEating(10)"
   ]
  },
  {
   "cell_type": "code",
   "execution_count": 17,
   "id": "cee16588-84bf-4bfa-afaa-34bec2384d76",
   "metadata": {},
   "outputs": [
    {
     "name": "stdout",
     "output_type": "stream",
     "text": [
      "Rubina Parveen is a woman of substance\n",
      "Aishwarya Rai is a woman of substance\n",
      "Aishwarya Rai is a woman of substance\n"
     ]
    }
   ],
   "source": [
    "#defining global variables from within a function \n",
    "\n",
    "name = \"Rubina Parveen\"\n",
    "def global_variables(var):\n",
    "    global name\n",
    "    name = \"Aishwarya Rai\"\n",
    "    print(var,\"is a woman of substance\")\n",
    "\n",
    "global_variables(name)\n",
    "global_variables(name)\n",
    "global_variables(name)"
   ]
  },
  {
   "cell_type": "markdown",
   "id": "95bfe9e6-a035-40a7-98dd-e6b57c537b3b",
   "metadata": {},
   "source": [
    "#### Using args for giving a collection of things as arguments "
   ]
  },
  {
   "cell_type": "code",
   "execution_count": 18,
   "id": "7304011c-ab40-497a-8162-7e9b185fbd8f",
   "metadata": {},
   "outputs": [
    {
     "name": "stdout",
     "output_type": "stream",
     "text": [
      "Number of arguments:  3\n",
      "Hello\n",
      "Beautiful\n",
      "Morning\n"
     ]
    }
   ],
   "source": [
    "def printAll(*args):\n",
    "    print(\"Number of arguments: \", len(args))\n",
    "    for arguments in args:\n",
    "        print(arguments)\n",
    "\n",
    "printAll('Hello','Beautiful','Morning')"
   ]
  },
  {
   "cell_type": "code",
   "execution_count": 19,
   "id": "4143d34d-5d3a-4899-9f1e-e03bcd32dbc9",
   "metadata": {},
   "outputs": [
    {
     "name": "stdout",
     "output_type": "stream",
     "text": [
      "country : India\n",
      "capital : Delhi\n",
      "UT : Yes\n"
     ]
    }
   ],
   "source": [
    "def printDict(**args):\n",
    "    for key in args:\n",
    "        print(key + \" : \"+args[key])\n",
    "\n",
    "printDict(country=\"India\",capital=\"Delhi\",UT=\"Yes\")\n",
    "    "
   ]
  },
  {
   "cell_type": "markdown",
   "id": "bb778125-e53e-4211-8577-61a6597059d4",
   "metadata": {},
   "source": [
    "### Author \n",
    "#### Rubina Parveen "
   ]
  },
  {
   "cell_type": "code",
   "execution_count": null,
   "id": "a12d0d53-ab54-470a-8805-277708611d8b",
   "metadata": {},
   "outputs": [],
   "source": []
  }
 ],
 "metadata": {
  "kernelspec": {
   "display_name": "Python 3 (ipykernel)",
   "language": "python",
   "name": "python3"
  },
  "language_info": {
   "codemirror_mode": {
    "name": "ipython",
    "version": 3
   },
   "file_extension": ".py",
   "mimetype": "text/x-python",
   "name": "python",
   "nbconvert_exporter": "python",
   "pygments_lexer": "ipython3",
   "version": "3.12.3"
  }
 },
 "nbformat": 4,
 "nbformat_minor": 5
}

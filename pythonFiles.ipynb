{
 "cells": [
  {
   "cell_type": "markdown",
   "id": "e32befbf-01ce-4a9f-9fb8-7ef24375d630",
   "metadata": {},
   "source": [
    "# Handling Files in Python"
   ]
  },
  {
   "cell_type": "markdown",
   "id": "a5d05659-3caf-4dc0-b61a-e4bfba7112e8",
   "metadata": {},
   "source": [
    "1. **open()** - This function creates a file object and access the data within the text file.\n",
    "   <br/> Syntax: open('path','mode')\n",
    "   <br/> path - you mention the path of the file\n",
    "   <br/> mode - mode of the file can be read('r'), write('w'), appending('a')\n",
    "   <br/> ***Eg: file = open('file.txt','r')***\n",
    "   <br/> The above line opens a file file.text in read mode. It return a file object and stores in file variable.\n",
    " <font color = \"blue\">  <br/> *If we just write open('filename.txt') - It is similar to opening a text file in read mode which is the default value (rt mode)* </font>"
   ]
  },
  {
   "cell_type": "markdown",
   "id": "1955934a-dcbb-4fc0-8345-2729c9c9a269",
   "metadata": {},
   "source": [
    "2. **'with'** keyword along with open (): With is used for closing the file automatically when the indented block is done executing\n",
    "<br/> ***Eg: with open('filename.txt','r') as file: #code block***\n",
    "<br/> Advantages of using with:\n",
    "<br/> a. Automatic resource management: file closes even when there is an exception encountered\n",
    "<br/> b. Clean code "
   ]
  },
  {
   "cell_type": "markdown",
   "id": "f11a093d-c3a9-459d-93d2-e8d636e3163b",
   "metadata": {},
   "source": [
    "3. **read()**: Use the read() method to read the entire content of the file\n",
    "    <br/> **with open('filename.txt','r') as file:**\n",
    "     > **fileRead = file.read()\n",
    "     > <br/> print(fileRead)**"
   ]
  },
  {
   "cell_type": "markdown",
   "id": "dcb0e4f7-5d99-4f39-b363-90cc4816de1c",
   "metadata": {},
   "source": [
    "4. **readlines()**: reads file line-by-line. Each line is stored as an element in the list\n",
    "5. **readline()**: reads individual line from the file\n",
    "   <br/> **with open('filename.txt','r') as file:**\n",
    "     > **line1 = file.readline()\n",
    "     > <br/> line2 = file.readline()\n",
    "     > <br/> print(line1)**"
   ]
  },
  {
   "cell_type": "markdown",
   "id": "56550d10-3489-4c4b-8556-2bac899a77bb",
   "metadata": {},
   "source": [
    "6. **close()**: Used to close a file \n",
    "<br/> **file = open('filename.txt','r')**\n",
    "      <br/>**line1 = file.readline()\n",
    "     <br/> line2 = file.readline()\n",
    "     <br/> print(line1)**\n",
    "    **<br/>file.close()**"
   ]
  },
  {
   "cell_type": "markdown",
   "id": "e331770c-55c6-4dc5-8ab2-9cc05ce598c6",
   "metadata": {},
   "source": [
    "### To read speicific characters from a file "
   ]
  },
  {
   "cell_type": "markdown",
   "id": "0c4ca6b3-a6c0-468b-8ad4-74777a67be71",
   "metadata": {},
   "source": [
    " **seek(position)**: Moves the file pointer to a specific position. The position is in bytes.\n",
    "   > <br/> **file.seek(7)** # go to the 8th byte 0 index\n",
    "   <br/> **file.read(5)** # read 5 characters from the 0th index of 8th byte "
   ]
  },
  {
   "cell_type": "markdown",
   "id": "99c03388-fd71-419f-a971-f27caa059f35",
   "metadata": {},
   "source": [
    "### Working with files "
   ]
  },
  {
   "cell_type": "markdown",
   "id": "6f930f97-39bb-4c62-ba84-f77a69b1c064",
   "metadata": {},
   "source": [
    "we can get the name of the file as:\n",
    "<br/> **file.name**\n",
    "<br/>We can get the mode as \n",
    "<br/>**file.mode**\n",
    "<br/>we can get the type of the file content \n",
    "> filecontent = file.read()\n",
    "> <br/>type(filecontent)"
   ]
  },
  {
   "cell_type": "markdown",
   "id": "24a5f4a3-e532-4419-adfd-794b4314972f",
   "metadata": {},
   "source": [
    "Verify if a file is closed \n",
    "<br/>**file.closed**   # gives a true or false "
   ]
  },
  {
   "cell_type": "markdown",
   "id": "16129691-5daf-49e6-be1a-262fb6d9e1de",
   "metadata": {},
   "source": [
    "If we do file.readline(20) the maximum it prints is to the end of the line. But doing file.read(20) will carry to next line "
   ]
  },
  {
   "cell_type": "markdown",
   "id": "819257a3-9e78-40fa-b216-1f83687a3064",
   "metadata": {},
   "source": [
    "7. **write()**: While opening the file use mode 'w' and then write into the file using the write(). Use \\n for new line\n",
    "   > <br/> **with open('filename.txt','w') as file:**\n",
    "   > > **file.write(\"Line a written \\n\")\n",
    "   > > <br/> file.write(\"Line b written \\n\")**"
   ]
  },
  {
   "cell_type": "markdown",
   "id": "c1cc4603-24bf-4260-83e9-3c0c94f1d307",
   "metadata": {},
   "source": [
    "Can write mutiple line using a list and loop \n",
    "\n",
    "**Lines = [\"this is line one\",\"This is line 2\", \"this is line 3\"]**\n",
    "<br/>**with open('filename.txt','w') as file:**\n",
    "> **for line in Lines:**\n",
    ">>**file.write(line+\"\\n\")**"
   ]
  },
  {
   "cell_type": "markdown",
   "id": "b12a36a1-127a-4684-905d-a9baef6b9a85",
   "metadata": {},
   "source": [
    "8. **Appending** data to existing file using mode 'a': open a file with mode 'a' and use write() to append a line to already existing file.\n",
    "   <br/> **new_data = \"this is a new line to be written\"**\n",
    "   <br/> **with open('filename.txt','a') as file:**\n",
    "   >  **file.write(new_data+\"\\n\")**\n",
    "   "
   ]
  },
  {
   "cell_type": "markdown",
   "id": "380185cb-d6e5-487a-b695-b6dd327cad10",
   "metadata": {},
   "source": [
    "9. Copy a file to another file: \n",
    "<br/> **with open('source.txt','r') as file1:**\n",
    "> **with open('dest.txt','w') as file2:**\n",
    "> > **for line in file1:**\n",
    "> > > **file2.write(line)**"
   ]
  },
  {
   "cell_type": "markdown",
   "id": "530347ec-f302-41d4-ba9a-e8d5a35a1d4c",
   "metadata": {},
   "source": [
    "|Mode|\tSyntax|\tDescription|\n",
    "|----|--------|------------|\n",
    "|‘r’|\t     'r'|\tRead mode. Opens an existing file for reading. Raises an error if the file doesn't exist.|\n",
    "|‘w’|\t     'w'|\tWrite mode. Creates a new file for writing. Overwrites the file if it already exists.|\n",
    "|‘a’|\t     'a'|\tAppend mode. Opens a file for appending data. Creates the file if it doesn't exist.|\n",
    "|‘x’|\t     'x'|\tExclusive creation mode. Creates a new file for writing but raises an error if the file already exists.|\n",
    "|‘rb’|\t'rb'|\tRead binary mode. Opens an existing binary file for reading.|\n",
    "|‘wb’|\t'wb'|\tWrite binary mode. Creates a new binary file for writing.|\n",
    "|‘ab’|\t'ab'|\tAppend binary mode. Opens a binary file for appending data.|\n",
    "|‘xb’|\t'xb'|\tExclusive binary creation mode. Creates a new binary file for writing but raises an error if it already exists.|\n",
    "|‘rt’|\t'rt'|   Read text mode. Opens an existing text file for reading. (Default for text files)|\n",
    "|‘wt’|\t'wt'|\tWrite text mode. Creates a new text file for writing. (Default for text files)|\n",
    "|‘at’|\t'at'|\tAppend text mode. Opens a text file for appending data. (Default for text files)|\n",
    "|‘xt’|\t'xt'|\tExclusive text creation mode. Creates a new text file for writing but raises an error if it already exists.|\n",
    "|‘r+’|\t'r+'|\tRead and write mode. Opens an existing file for both reading and writing.|\n",
    "|‘w+’|\t'w+'|\tWrite and read mode. Creates a new file for reading and writing. Overwrites the file if it already exists.|\n",
    "|‘a+’|\t'a+'|\tAppend and read mode. Opens a file for both appending and reading. Creates the file if it doesn't exist.|\n",
    "|‘x+’|\t'x+'|\tExclusive creation and read/write mode. Creates a new file for reading and writing but raises an error if it                   already exists.|"
   ]
  },
  {
   "cell_type": "code",
   "execution_count": 5,
   "id": "fc488354-c5e2-414f-902a-7f0c44b61379",
   "metadata": {},
   "outputs": [],
   "source": [
    "with open('hello.txt','w') as file1:\n",
    "    file1.write(\"Hello world this is my 1st sentence \\n\")"
   ]
  },
  {
   "cell_type": "code",
   "execution_count": 6,
   "id": "5d4ba827-6481-4349-9490-48778e0e17e6",
   "metadata": {},
   "outputs": [],
   "source": [
    "with open('hello.txt','a') as file1:\n",
    "    file1.write(\"My second sentence is using append mode \\n\")\n",
    "    file1.write(\"This will be my 3rd sentence in the file \\n\")"
   ]
  },
  {
   "cell_type": "code",
   "execution_count": 7,
   "id": "bacd4688-8dd8-4b5c-ab84-2605c7616681",
   "metadata": {},
   "outputs": [
    {
     "name": "stdout",
     "output_type": "stream",
     "text": [
      "Hello world this is my 1st sentence \n",
      "My second sentence is using append mode \n",
      "This will be my 3rd sentence in the file \n",
      "\n"
     ]
    }
   ],
   "source": [
    "with open('hello.txt','r') as file1:\n",
    "    print(file1.read())"
   ]
  },
  {
   "cell_type": "code",
   "execution_count": 10,
   "id": "df861ad9-768a-4f92-9b27-2e2f7efee897",
   "metadata": {},
   "outputs": [
    {
     "name": "stdout",
     "output_type": "stream",
     "text": [
      "Initial location of my cursor: 120 \n",
      "\n",
      "Pointing at a wrong location for the reading purposes \n",
      "\n",
      "The new location for the cursor is: 0 \n",
      "\n",
      "Hello world this is my 1st sentence \n",
      "My second sentence is using append mode \n",
      "This will be my 3rd sentence in the file \n",
      "\n",
      "Location of cursor after read: 120 \n",
      "\n"
     ]
    }
   ],
   "source": [
    "with open('hello.txt','a+') as file1:\n",
    "    print(\"Initial location of my cursor: {} \\n\".format(file1.tell()))\n",
    "\n",
    "    readData = file1.read()\n",
    "\n",
    "    if(not readData):\n",
    "        print(\"Pointing at a wrong location for the reading purposes \\n\")\n",
    "    else:\n",
    "        print(readData)\n",
    "\n",
    "    file1.seek(0,0) #seek(offset,from) therefore here we want it to move 0 bytes from start \n",
    "\n",
    "    print(\"The new location for the cursor is: {} \\n\".format(file1.tell()))\n",
    "\n",
    "    readData = file1.read()\n",
    "\n",
    "    if(not readData):\n",
    "        print(\"No data written in the file yet \\n\")\n",
    "    else:\n",
    "        print(readData)\n",
    "    print(\"Location of cursor after read: {} \\n\".format(file1.tell()))\n",
    "    "
   ]
  },
  {
   "cell_type": "code",
   "execution_count": 25,
   "id": "bd8d06e7-96c1-4f21-90b8-985ad5aefc7c",
   "metadata": {},
   "outputs": [
    {
     "name": "stdout",
     "output_type": "stream",
     "text": [
      "Now we will be writing to the file in a+ mode\n",
      "\n",
      "We are writing to the file in r+ mode \n",
      "Lets see if it overwrite the file without the seek statement\n",
      "This will be the last sentence in this\n",
      "This is Line 1 in a+ mode\n",
      "This is Line 2 in a+ mode\n",
      "This is Line 3 in a+ mode\n",
      "\n"
     ]
    }
   ],
   "source": [
    "with open('modes.txt','a+') as file1:\n",
    "    file1.seek(0,0)\n",
    "    print(\"Now we will be writing to the file in a+ mode\" + \"\\n\")\n",
    "    file1.write(\"This is Line 1 in a+ mode\" + \"\\n\")\n",
    "    file1.write(\"This is Line 2 in a+ mode\" + \"\\n\")\n",
    "    file1.write(\"This is Line 3 in a+ mode\" + \"\\n\")\n",
    "    file1.seek(0,0)\n",
    "    print(file1.read())"
   ]
  },
  {
   "cell_type": "code",
   "execution_count": 26,
   "id": "8659d477-db21-4d24-b99f-a258d6ab6805",
   "metadata": {},
   "outputs": [
    {
     "name": "stdout",
     "output_type": "stream",
     "text": [
      "Now we will be writing to the file in r+ mode\n",
      "\n",
      "We are writing to the file in r+ mode \n",
      "Lets see if it overwrite the file without the seek statement\n",
      "This will be the last sentence in this\n",
      "This is Line 1 in a+ mode\n",
      "This is Line 2 in a+ mode\n",
      "This is Line 3 in a+ mode\n",
      "\n"
     ]
    }
   ],
   "source": [
    "# w+ : overwrites the file and deletes all previous data \n",
    "\n",
    "with open('modes.txt','r+') as file1:\n",
    "    file1.seek(0,0)\n",
    "    print(\"Now we will be writing to the file in r+ mode\" + \"\\n\")\n",
    "    file1.write(\"We are writing to the file in r+ mode \" + \"\\n\")\n",
    "    file1.write(\"Lets see if it overwrite the file without the seek statement\" + \"\\n\")\n",
    "    file1.write(\"This will be the last sentence in this\" + \"\\n\")\n",
    "    file1.seek(0,0)\n",
    "    \n",
    "    print(file1.read())"
   ]
  },
  {
   "cell_type": "code",
   "execution_count": 28,
   "id": "a4ada5df-42f1-4b13-af99-ae08bb4ad2a6",
   "metadata": {},
   "outputs": [
    {
     "name": "stdout",
     "output_type": "stream",
     "text": [
      "Now we will be writing to the file in r+ mode\n",
      "\n",
      "We are writing to the file in r+ mode \n",
      "Lets see if it overwrite the file without the seek statement\n",
      "This will be the last sentence in this\n",
      "\n"
     ]
    }
   ],
   "source": [
    "with open('modes.txt','r+') as file1:\n",
    "    file1.seek(0,0)\n",
    "    print(\"Now we will be writing to the file in r+ mode\" + \"\\n\")\n",
    "    file1.write(\"We are writing to the file in r+ mode \" + \"\\n\")\n",
    "    file1.write(\"Lets see if it overwrite the file without the seek statement\" + \"\\n\")\n",
    "    file1.write(\"This will be the last sentence in this\" + \"\\n\")\n",
    "    file1.truncate()  # Using truncate at the end of the data, deletes everything below the data written \n",
    "    file1.seek(0,0)\n",
    "    print(file1.read())"
   ]
  },
  {
   "cell_type": "markdown",
   "id": "b09053e2-459c-4713-886c-502daa002a2c",
   "metadata": {},
   "source": [
    "### Demonstration that in w mode file gets overwritten "
   ]
  },
  {
   "cell_type": "code",
   "execution_count": 1,
   "id": "dd41cd63-e791-4b87-a33b-cf75fdba3478",
   "metadata": {},
   "outputs": [
    {
     "name": "stdout",
     "output_type": "stream",
     "text": [
      "We are writing to the file in r+ mode \n",
      "Lets see if it overwrite the file without the seek statement\n",
      "This will be the last sentence in this\n",
      "\n"
     ]
    }
   ],
   "source": [
    "# We are just reading the file here \n",
    "with open('modes.txt','r') as file1:\n",
    "    print(file1.read())"
   ]
  },
  {
   "cell_type": "code",
   "execution_count": 2,
   "id": "73acedc1-0504-45df-a8d6-da104684d6db",
   "metadata": {},
   "outputs": [],
   "source": [
    "#Demonstration that opening a file in w mode overwrites the file \n",
    "with open('modes.txt','w') as file1:\n",
    "    file1.write(\"Oops! My file got overwritten\")"
   ]
  },
  {
   "cell_type": "code",
   "execution_count": 3,
   "id": "40fba3ec-91c9-4942-a71c-e49f178fa42f",
   "metadata": {},
   "outputs": [
    {
     "name": "stdout",
     "output_type": "stream",
     "text": [
      "Oops! My file got overwritten\n"
     ]
    }
   ],
   "source": [
    "with open('modes.txt','r') as file1:\n",
    "    print(file1.read())"
   ]
  },
  {
   "cell_type": "markdown",
   "id": "537e6a11-e99e-49cd-b6e5-b73edfedd832",
   "metadata": {},
   "source": [
    "### Creating a file \n",
    "\n",
    "Can be done in 3 modes 'x'(create), 'w'(write) and 'a'(append)"
   ]
  },
  {
   "cell_type": "code",
   "execution_count": 4,
   "id": "d3638f2e-82c5-4da5-8218-b8e2fad16767",
   "metadata": {},
   "outputs": [],
   "source": [
    "with open('modes1.txt','x') as file1:\n",
    "    file1.write(\"This file got created using the x mode\")"
   ]
  },
  {
   "cell_type": "code",
   "execution_count": 5,
   "id": "a21f583d-e4e0-4ad3-9e5d-697681b03c48",
   "metadata": {},
   "outputs": [
    {
     "name": "stdout",
     "output_type": "stream",
     "text": [
      "This file got created using the x mode\n"
     ]
    }
   ],
   "source": [
    "with open('modes1.txt','r') as file1:\n",
    "    print(file1.read())"
   ]
  },
  {
   "cell_type": "code",
   "execution_count": 7,
   "id": "f608af9b-2378-41d6-9998-662f8780de6e",
   "metadata": {},
   "outputs": [
    {
     "ename": "FileExistsError",
     "evalue": "[Errno 17] File exists: 'modes1.txt'",
     "output_type": "error",
     "traceback": [
      "\u001b[0;31m---------------------------------------------------------------------------\u001b[0m",
      "\u001b[0;31mFileExistsError\u001b[0m                           Traceback (most recent call last)",
      "Cell \u001b[0;32mIn[7], line 3\u001b[0m\n\u001b[1;32m      1\u001b[0m \u001b[38;5;66;03m# If the file already exists then x mode will give error \"FileExistsError\"\u001b[39;00m\n\u001b[0;32m----> 3\u001b[0m \u001b[38;5;28;01mwith\u001b[39;00m \u001b[38;5;28;43mopen\u001b[39;49m\u001b[43m(\u001b[49m\u001b[38;5;124;43m'\u001b[39;49m\u001b[38;5;124;43mmodes1.txt\u001b[39;49m\u001b[38;5;124;43m'\u001b[39;49m\u001b[43m,\u001b[49m\u001b[38;5;124;43m'\u001b[39;49m\u001b[38;5;124;43mx\u001b[39;49m\u001b[38;5;124;43m'\u001b[39;49m\u001b[43m)\u001b[49m \u001b[38;5;28;01mas\u001b[39;00m file1:\n\u001b[1;32m      4\u001b[0m     file1\u001b[38;5;241m.\u001b[39mwrite(\u001b[38;5;124m\"\u001b[39m\u001b[38;5;124mThis file got created using the x mode\u001b[39m\u001b[38;5;124m\"\u001b[39m)\n",
      "File \u001b[0;32m/opt/homebrew/Cellar/jupyterlab/4.1.5/libexec/lib/python3.12/site-packages/IPython/core/interactiveshell.py:324\u001b[0m, in \u001b[0;36m_modified_open\u001b[0;34m(file, *args, **kwargs)\u001b[0m\n\u001b[1;32m    317\u001b[0m \u001b[38;5;28;01mif\u001b[39;00m file \u001b[38;5;129;01min\u001b[39;00m {\u001b[38;5;241m0\u001b[39m, \u001b[38;5;241m1\u001b[39m, \u001b[38;5;241m2\u001b[39m}:\n\u001b[1;32m    318\u001b[0m     \u001b[38;5;28;01mraise\u001b[39;00m \u001b[38;5;167;01mValueError\u001b[39;00m(\n\u001b[1;32m    319\u001b[0m         \u001b[38;5;124mf\u001b[39m\u001b[38;5;124m\"\u001b[39m\u001b[38;5;124mIPython won\u001b[39m\u001b[38;5;124m'\u001b[39m\u001b[38;5;124mt let you open fd=\u001b[39m\u001b[38;5;132;01m{\u001b[39;00mfile\u001b[38;5;132;01m}\u001b[39;00m\u001b[38;5;124m by default \u001b[39m\u001b[38;5;124m\"\u001b[39m\n\u001b[1;32m    320\u001b[0m         \u001b[38;5;124m\"\u001b[39m\u001b[38;5;124mas it is likely to crash IPython. If you know what you are doing, \u001b[39m\u001b[38;5;124m\"\u001b[39m\n\u001b[1;32m    321\u001b[0m         \u001b[38;5;124m\"\u001b[39m\u001b[38;5;124myou can use builtins\u001b[39m\u001b[38;5;124m'\u001b[39m\u001b[38;5;124m open.\u001b[39m\u001b[38;5;124m\"\u001b[39m\n\u001b[1;32m    322\u001b[0m     )\n\u001b[0;32m--> 324\u001b[0m \u001b[38;5;28;01mreturn\u001b[39;00m \u001b[43mio_open\u001b[49m\u001b[43m(\u001b[49m\u001b[43mfile\u001b[49m\u001b[43m,\u001b[49m\u001b[43m \u001b[49m\u001b[38;5;241;43m*\u001b[39;49m\u001b[43margs\u001b[49m\u001b[43m,\u001b[49m\u001b[43m \u001b[49m\u001b[38;5;241;43m*\u001b[39;49m\u001b[38;5;241;43m*\u001b[39;49m\u001b[43mkwargs\u001b[49m\u001b[43m)\u001b[49m\n",
      "\u001b[0;31mFileExistsError\u001b[0m: [Errno 17] File exists: 'modes1.txt'"
     ]
    }
   ],
   "source": [
    "# If the file already exists then x mode will give error \"FileExistsError\"\n",
    "\n",
    "with open('modes1.txt','x') as file1:\n",
    "    file1.write(\"This file got created using the x mode\")"
   ]
  },
  {
   "cell_type": "code",
   "execution_count": 17,
   "id": "88375acc-4087-41d3-a3aa-9648e802b043",
   "metadata": {},
   "outputs": [],
   "source": [
    "#But in mode w the already existing file did not give an error it got overwriiten\n",
    "with open('modes1.txt','w') as file1:\n",
    "    file1.write(\"This file got created using the w mode \\n\")"
   ]
  },
  {
   "cell_type": "code",
   "execution_count": 18,
   "id": "b03de6de-048a-4e26-9d06-4b1f76bb022b",
   "metadata": {},
   "outputs": [
    {
     "name": "stdout",
     "output_type": "stream",
     "text": [
      "This file got created using the w mode \n",
      "\n"
     ]
    }
   ],
   "source": [
    "with open('modes1.txt','r') as file1:\n",
    "    print(file1.read())"
   ]
  },
  {
   "cell_type": "code",
   "execution_count": 10,
   "id": "7bdb9655-0a9d-4e78-800c-5b9c92d85988",
   "metadata": {},
   "outputs": [],
   "source": [
    "#similarly in a mode it will not give any errors "
   ]
  },
  {
   "cell_type": "code",
   "execution_count": 19,
   "id": "5a5c8786-aa41-4659-bbde-6e6af5fdb288",
   "metadata": {},
   "outputs": [],
   "source": [
    "with open('modes1.txt','a') as file1:\n",
    "    file1.write(\"This file got created using the a mode \\n\")"
   ]
  },
  {
   "cell_type": "code",
   "execution_count": 20,
   "id": "508462e0-bc7d-45db-b4de-2447e4674431",
   "metadata": {},
   "outputs": [
    {
     "name": "stdout",
     "output_type": "stream",
     "text": [
      "This file got created using the w mode \n",
      "This file got created using the a mode \n",
      "\n"
     ]
    }
   ],
   "source": [
    "with open('modes1.txt','r') as file1:\n",
    "    print(file1.read())"
   ]
  },
  {
   "cell_type": "markdown",
   "id": "e422e827-ffb8-4e70-a895-2bbd2b15339c",
   "metadata": {},
   "source": [
    "### Deleting files and folders"
   ]
  },
  {
   "cell_type": "code",
   "execution_count": 21,
   "id": "18bdc0e4-b3e5-4469-aa67-672dd364d1bd",
   "metadata": {},
   "outputs": [],
   "source": [
    "import os \n",
    "os.remove(\"modes.txt\")"
   ]
  },
  {
   "cell_type": "code",
   "execution_count": 22,
   "id": "2af918f1-9e73-4508-8214-820b4e93dd32",
   "metadata": {},
   "outputs": [
    {
     "name": "stdout",
     "output_type": "stream",
     "text": [
      "The file does not exist\n"
     ]
    }
   ],
   "source": [
    "if os.path.exists(\"modes.txt\"):\n",
    "    os.remove(\"modes.txt\")\n",
    "else:\n",
    "    print(\"The file does not exist\")\n",
    "               "
   ]
  },
  {
   "cell_type": "code",
   "execution_count": 25,
   "id": "3c018491-c66c-4d0f-bcd4-90fd4c6bba98",
   "metadata": {},
   "outputs": [
    {
     "name": "stdout",
     "output_type": "stream",
     "text": [
      "The folder exist\n"
     ]
    }
   ],
   "source": [
    "# creating a directory or folder and deleting the folder \n",
    "if not os.path.exists(\"myfolder\"):\n",
    "    os.mkdir(\"myfolder\")\n",
    "else:\n",
    "    print(\"The folder exist\")\n",
    "               "
   ]
  },
  {
   "cell_type": "code",
   "execution_count": 27,
   "id": "2d600ee3-d40b-4762-a6ae-e235dbc68bb8",
   "metadata": {},
   "outputs": [
    {
     "name": "stdout",
     "output_type": "stream",
     "text": [
      "The folder does not exist\n"
     ]
    }
   ],
   "source": [
    "if os.path.exists(\"myfolder\"):\n",
    "    os.rmdir(\"myfolder\")\n",
    "else:\n",
    "    print(\"The folder does not exist\")"
   ]
  },
  {
   "cell_type": "code",
   "execution_count": null,
   "id": "da7ef609-599e-416f-9bb3-ea81a7ae0b54",
   "metadata": {},
   "outputs": [],
   "source": [
    "## Author \n",
    "##"
   ]
  }
 ],
 "metadata": {
  "kernelspec": {
   "display_name": "Python 3 (ipykernel)",
   "language": "python",
   "name": "python3"
  },
  "language_info": {
   "codemirror_mode": {
    "name": "ipython",
    "version": 3
   },
   "file_extension": ".py",
   "mimetype": "text/x-python",
   "name": "python",
   "nbconvert_exporter": "python",
   "pygments_lexer": "ipython3",
   "version": "3.12.3"
  }
 },
 "nbformat": 4,
 "nbformat_minor": 5
}

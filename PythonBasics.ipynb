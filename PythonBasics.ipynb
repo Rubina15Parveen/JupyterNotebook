{
 "cells": [
  {
   "cell_type": "markdown",
   "id": "850ee397-6af6-474b-b471-b34d4a5f9d3c",
   "metadata": {},
   "source": [
    "# Starting with Python on Jupyter Notebook "
   ]
  },
  {
   "cell_type": "code",
   "execution_count": 1,
   "id": "b650b7da-b327-4e41-8360-e11a03717e99",
   "metadata": {},
   "outputs": [
    {
     "name": "stdout",
     "output_type": "stream",
     "text": [
      "3.11.5 (v3.11.5:cce6ba91b3, Aug 24 2023, 10:50:31) [Clang 13.0.0 (clang-1300.0.29.30)]\n"
     ]
    }
   ],
   "source": [
    "#check for the python version \n",
    "import sys \n",
    "print(sys.version)"
   ]
  },
  {
   "cell_type": "markdown",
   "id": "e2227b41-f9a9-4361-acee-95c1a59d4d57",
   "metadata": {},
   "source": [
    "<div class=\"alert alert-success alertsuccess\" style=\"margin-top: 20px\">\n",
    "<code> sys </code> is build in module that contains system related parameters and functions \n",
    "</div>"
   ]
  },
  {
   "cell_type": "markdown",
   "id": "5bbfa151-0e74-4a20-a5ed-f994d8a6dddf",
   "metadata": {},
   "source": [
    "Python is interpreted language - check about this more "
   ]
  },
  {
   "cell_type": "code",
   "execution_count": 7,
   "id": "c3719bd8-b273-4880-b681-639d714360b3",
   "metadata": {},
   "outputs": [
    {
     "data": {
      "text/plain": [
       "sys.float_info(max=1.7976931348623157e+308, max_exp=1024, max_10_exp=308, min=2.2250738585072014e-308, min_exp=-1021, min_10_exp=-307, dig=15, mant_dig=53, epsilon=2.220446049250313e-16, radix=2, rounds=1)"
      ]
     },
     "execution_count": 7,
     "metadata": {},
     "output_type": "execute_result"
    }
   ],
   "source": [
    "sys.float_info # gives information about float in the system "
   ]
  },
  {
   "cell_type": "code",
   "execution_count": 8,
   "id": "7d2aea01-9a6e-40cd-9d9d-9ed17761e280",
   "metadata": {},
   "outputs": [
    {
     "data": {
      "text/plain": [
       "int"
      ]
     },
     "execution_count": 8,
     "metadata": {},
     "output_type": "execute_result"
    }
   ],
   "source": [
    "type(6//2) # double slash stands for interger division "
   ]
  },
  {
   "cell_type": "markdown",
   "id": "2d3e0c67-3e54-4157-8fec-32edecaa9f51",
   "metadata": {},
   "source": [
    "#### String in python \n"
   ]
  },
  {
   "cell_type": "code",
   "execution_count": 57,
   "id": "49b407b9-fe00-492a-87e8-55b0216d4957",
   "metadata": {},
   "outputs": [
    {
     "data": {
      "text/plain": [
       "'n'"
      ]
     },
     "execution_count": 57,
     "metadata": {},
     "output_type": "execute_result"
    }
   ],
   "source": [
    "# We can use negative indexing in strings \n",
    "strs = \"Rubina Parveen\" \n",
    "strs[-1 ] "
   ]
  },
  {
   "cell_type": "code",
   "execution_count": 32,
   "id": "3a771755-5723-42d6-bbd6-d2e81c93b85c",
   "metadata": {},
   "outputs": [
    {
     "data": {
      "text/plain": [
       "'R'"
      ]
     },
     "execution_count": 32,
     "metadata": {},
     "output_type": "execute_result"
    }
   ],
   "source": [
    "strs[-14]"
   ]
  },
  {
   "cell_type": "code",
   "execution_count": 38,
   "id": "dc02ef14-a2ad-4fc4-87c4-74e85c749a63",
   "metadata": {},
   "outputs": [
    {
     "data": {
      "text/plain": [
       "'Rubina Parveen'"
      ]
     },
     "execution_count": 38,
     "metadata": {},
     "output_type": "execute_result"
    }
   ],
   "source": [
    "strs[0:14]"
   ]
  },
  {
   "cell_type": "markdown",
   "id": "d27fbc55-ca6f-4cf4-a4b2-b0424c73590b",
   "metadata": {},
   "source": [
    "|R | u| b| i| n| a |  | P| a | r| v | e | e| n |\n",
    "|--|--|--|--|--|---|--|--|---|--|---|---|--|---|\n",
    "|-14|-13|-12|-11|-10|-9|-8|-7|-6|-5|-4|-3|-2|-1|\n",
    "|0|1|2|3|4|5|6|7|8|9|10|11|12|13|14|"
   ]
  },
  {
   "cell_type": "code",
   "execution_count": 39,
   "id": "a2ea4e34-61d0-4284-84b0-41109fd9a8d2",
   "metadata": {},
   "outputs": [
    {
     "data": {
      "text/plain": [
       "'Rbn ave'"
      ]
     },
     "execution_count": 39,
     "metadata": {},
     "output_type": "execute_result"
    }
   ],
   "source": [
    "# Select every second variable \n",
    "strs[::2]"
   ]
  },
  {
   "cell_type": "code",
   "execution_count": 45,
   "id": "2638841d-497e-4d6b-b6e7-f8ba2e22700f",
   "metadata": {},
   "outputs": [
    {
     "data": {
      "text/plain": [
       "'Rbn a'"
      ]
     },
     "execution_count": 45,
     "metadata": {},
     "output_type": "execute_result"
    }
   ],
   "source": [
    "#Select every 2nd value upto index 9\n",
    "strs[0:9:2]"
   ]
  },
  {
   "cell_type": "code",
   "execution_count": 46,
   "id": "d7c0e2da-d035-482d-970c-d81243169002",
   "metadata": {},
   "outputs": [
    {
     "data": {
      "text/plain": [
       "14"
      ]
     },
     "execution_count": 46,
     "metadata": {},
     "output_type": "execute_result"
    }
   ],
   "source": [
    "#Length of strs \n",
    "len(strs)"
   ]
  },
  {
   "cell_type": "code",
   "execution_count": 48,
   "id": "392bb64c-a857-4233-8a6f-3ddcfdb6a1d2",
   "metadata": {},
   "outputs": [
    {
     "data": {
      "text/plain": [
       "'Rubina Parveen is the best at what she does'"
      ]
     },
     "execution_count": 48,
     "metadata": {},
     "output_type": "execute_result"
    }
   ],
   "source": [
    "#Concatenate strings \n",
    "strs + \" is the best at what she does\""
   ]
  },
  {
   "cell_type": "code",
   "execution_count": 58,
   "id": "3dafc0c6-6f7f-4017-a7c3-d3fc3903d5ad",
   "metadata": {},
   "outputs": [
    {
     "data": {
      "text/plain": [
       "'Rubina ParveenRubina ParveenRubina Parveen'"
      ]
     },
     "execution_count": 58,
     "metadata": {},
     "output_type": "execute_result"
    }
   ],
   "source": [
    "# replicate the strs \n",
    "3 * strs "
   ]
  },
  {
   "cell_type": "code",
   "execution_count": 59,
   "id": "7363e67d-6a18-44d9-9755-f6eba57d8367",
   "metadata": {},
   "outputs": [
    {
     "ename": "TypeError",
     "evalue": "'str' object does not support item assignment",
     "output_type": "error",
     "traceback": [
      "\u001b[0;31m---------------------------------------------------------------------------\u001b[0m",
      "\u001b[0;31mTypeError\u001b[0m                                 Traceback (most recent call last)",
      "Cell \u001b[0;32mIn[59], line 1\u001b[0m\n\u001b[0;32m----> 1\u001b[0m \u001b[43mstrs\u001b[49m\u001b[43m[\u001b[49m\u001b[38;5;241;43m0\u001b[39;49m\u001b[43m]\u001b[49m \u001b[38;5;241m=\u001b[39m \u001b[38;5;124m\"\u001b[39m\u001b[38;5;124mL\u001b[39m\u001b[38;5;124m\"\u001b[39m\n",
      "\u001b[0;31mTypeError\u001b[0m: 'str' object does not support item assignment"
     ]
    }
   ],
   "source": [
    "strs[0] = \"L\"  # this is not allowed "
   ]
  },
  {
   "cell_type": "code",
   "execution_count": 60,
   "id": "2d46a58a-282b-4c8d-a3e8-5ff7288f0348",
   "metadata": {},
   "outputs": [],
   "source": [
    "strs = strs + \" the best person\" # But this is allowed "
   ]
  },
  {
   "cell_type": "code",
   "execution_count": 61,
   "id": "f79a573a-0008-482c-96dc-2c3caab18b4c",
   "metadata": {},
   "outputs": [
    {
     "data": {
      "text/plain": [
       "'Rubina Parveen the best person'"
      ]
     },
     "execution_count": 61,
     "metadata": {},
     "output_type": "execute_result"
    }
   ],
   "source": [
    "strs"
   ]
  },
  {
   "cell_type": "code",
   "execution_count": 24,
   "id": "151564d1-a98c-4901-ac63-468d5d2de43f",
   "metadata": {},
   "outputs": [
    {
     "name": "stdout",
     "output_type": "stream",
     "text": [
      "Rubina Parveen is a good person.\n",
      "She is working hard to get better everyday. \n",
      "She will get the best job.\n"
     ]
    }
   ],
   "source": [
    "#Escape sequences \n",
    "print(\"Rubina Parveen is a good person.\\nShe is working hard to get better everyday. \\nShe will get the best job.\")"
   ]
  },
  {
   "cell_type": "code",
   "execution_count": 65,
   "id": "072ba90e-5a39-483a-913b-dbc0e6007655",
   "metadata": {},
   "outputs": [
    {
     "name": "stdout",
     "output_type": "stream",
     "text": [
      "Rubina Parveen \t can do anything\n"
     ]
    }
   ],
   "source": [
    "print(\"Rubina Parveen \\t can do anything\")"
   ]
  },
  {
   "cell_type": "code",
   "execution_count": 67,
   "id": "47546191-14d3-47f0-ac94-46748fb09736",
   "metadata": {},
   "outputs": [
    {
     "name": "stdout",
     "output_type": "stream",
     "text": [
      "Rubina Parveen \\ Ms CE\n"
     ]
    }
   ],
   "source": [
    "print(\"Rubina Parveen \\\\ Ms CE\")"
   ]
  },
  {
   "cell_type": "markdown",
   "id": "07a0e922-2bc2-4a47-a342-b801c2da9be0",
   "metadata": {},
   "source": [
    "#### Methods for string "
   ]
  },
  {
   "cell_type": "code",
   "execution_count": 68,
   "id": "a6cd3f97-45e1-49aa-a261-9af603e76599",
   "metadata": {},
   "outputs": [
    {
     "name": "stdout",
     "output_type": "stream",
     "text": [
      "RUBINA PARVEEN THE BEST PERSON\n"
     ]
    }
   ],
   "source": [
    "# upper() - upper cased string \n",
    "print(strs.upper())"
   ]
  },
  {
   "cell_type": "code",
   "execution_count": 69,
   "id": "c308fb5e-f315-4383-87c9-bf56b75e219f",
   "metadata": {},
   "outputs": [
    {
     "name": "stdout",
     "output_type": "stream",
     "text": [
      "Rubina Mathew the best person\n"
     ]
    }
   ],
   "source": [
    "# replace() - replaces the given string with new one \n",
    "print(strs.replace('Parveen','Mathew'))"
   ]
  },
  {
   "cell_type": "code",
   "execution_count": 72,
   "id": "9c477401-b44d-4c27-90de-1466e8c33156",
   "metadata": {},
   "outputs": [
    {
     "name": "stdout",
     "output_type": "stream",
     "text": [
      "27\n"
     ]
    }
   ],
   "source": [
    "#find() - finds a substring in the sentence and gives it index \n",
    "print(strs.find('son'))"
   ]
  },
  {
   "cell_type": "code",
   "execution_count": 73,
   "id": "5f20b7a3-3de6-4ddd-b8c6-c7553f822ff7",
   "metadata": {},
   "outputs": [
    {
     "name": "stdout",
     "output_type": "stream",
     "text": [
      "-1\n"
     ]
    }
   ],
   "source": [
    "#if substring not present it gives -1 \n",
    "print(strs.find('bt'))"
   ]
  },
  {
   "cell_type": "markdown",
   "id": "2f2af248-8c68-4321-b597-6acbda8ea48b",
   "metadata": {},
   "source": [
    "#### String Formats "
   ]
  },
  {
   "cell_type": "code",
   "execution_count": 1,
   "id": "b872f036-9f85-4882-9101-c3a8acb0f5ce",
   "metadata": {},
   "outputs": [
    {
     "name": "stdout",
     "output_type": "stream",
     "text": [
      "My name is Rubina and I am 28 year old\n"
     ]
    }
   ],
   "source": [
    "#f strings \n",
    "name = \"Rubina\" \n",
    "age = \"28\" \n",
    "print(f\"My name is {name} and I am {age} year old\"); "
   ]
  },
  {
   "cell_type": "code",
   "execution_count": 3,
   "id": "cb036b94-04a0-46f4-8486-777fd17ce61f",
   "metadata": {},
   "outputs": [
    {
     "name": "stdout",
     "output_type": "stream",
     "text": [
      "My name is Rubina Parveen and I am 28 years old\n"
     ]
    }
   ],
   "source": [
    "#use of format() method \n",
    "name = \"Rubina Parveen\" \n",
    "age = 28 \n",
    "print(\"My name is {} and I am {} years old\".format(name,age))"
   ]
  },
  {
   "cell_type": "code",
   "execution_count": 4,
   "id": "1a6e5cac-9026-49ca-a4d8-1716a8650721",
   "metadata": {},
   "outputs": [
    {
     "name": "stdout",
     "output_type": "stream",
     "text": [
      "My name is Rubina Parveen and I am 28 years old.\n"
     ]
    }
   ],
   "source": [
    "#using % operator \n",
    "print(\"My name is %s and I am %d years old.\"%(name,age))"
   ]
  },
  {
   "cell_type": "code",
   "execution_count": 7,
   "id": "0fdd7d88-41ff-45af-af37-f96d1cd33bf5",
   "metadata": {},
   "outputs": [
    {
     "name": "stdout",
     "output_type": "stream",
     "text": [
      "sum of x and y is 70\n"
     ]
    }
   ],
   "source": [
    "x = 30\n",
    "y = 40 \n",
    "print(f\"sum of x and y is {x+y}\") "
   ]
  },
  {
   "cell_type": "code",
   "execution_count": 14,
   "id": "a582c1cc-b884-4c1d-b349-db843273f0a1",
   "metadata": {},
   "outputs": [
    {
     "data": {
      "text/plain": [
       "'Rubina Parveen'"
      ]
     },
     "execution_count": 14,
     "metadata": {},
     "output_type": "execute_result"
    }
   ],
   "source": [
    "name = \"Rubina Parveen\"\n",
    "name[-14:]"
   ]
  },
  {
   "cell_type": "markdown",
   "id": "5c93276c-ed00-4f01-a547-6804710e8006",
   "metadata": {},
   "source": [
    "Slicing and Stride \n",
    "Slicing is selecting a range from the string. Eg: name[0:4] will give me Rubi\n",
    "Stride means to give a pattern of selection. Eg: name[::2] will select every second value in name string i.e. Rbn ave "
   ]
  },
  {
   "cell_type": "code",
   "execution_count": 15,
   "id": "4a1cb9ae-835f-4cca-a281-1c59a3def51b",
   "metadata": {},
   "outputs": [
    {
     "data": {
      "text/plain": [
       "'Rubi'"
      ]
     },
     "execution_count": 15,
     "metadata": {},
     "output_type": "execute_result"
    }
   ],
   "source": [
    "name[0:4]"
   ]
  },
  {
   "cell_type": "code",
   "execution_count": 16,
   "id": "597ff423-3a33-457a-ad19-252ef697d478",
   "metadata": {},
   "outputs": [
    {
     "data": {
      "text/plain": [
       "'na Par'"
      ]
     },
     "execution_count": 16,
     "metadata": {},
     "output_type": "execute_result"
    }
   ],
   "source": [
    "name[4:10]"
   ]
  },
  {
   "cell_type": "code",
   "execution_count": 16,
   "id": "87737967-faf8-4a53-8757-068c176cd43d",
   "metadata": {},
   "outputs": [
    {
     "data": {
      "text/plain": [
       "'Rbn ave'"
      ]
     },
     "execution_count": 16,
     "metadata": {},
     "output_type": "execute_result"
    }
   ],
   "source": [
    "name[::2]"
   ]
  },
  {
   "cell_type": "markdown",
   "id": "00f12e21-40ff-4e4f-8ee6-65cb392590c0",
   "metadata": {},
   "source": [
    "We can also include slicing along with stride "
   ]
  },
  {
   "cell_type": "code",
   "execution_count": 19,
   "id": "488d18b0-a5b7-467a-92de-b93c364faf80",
   "metadata": {},
   "outputs": [
    {
     "data": {
      "text/plain": [
       "'Rbn '"
      ]
     },
     "execution_count": 19,
     "metadata": {},
     "output_type": "execute_result"
    }
   ],
   "source": [
    "name[0:7:2] # in range 0-7 select every 2nd element "
   ]
  },
  {
   "cell_type": "code",
   "execution_count": 22,
   "id": "dcb3dfc2-83e4-4718-82f1-8ee7b8a77980",
   "metadata": {},
   "outputs": [
    {
     "name": "stdout",
     "output_type": "stream",
     "text": [
      "this is new \\ to me \n"
     ]
    }
   ],
   "source": [
    "print(r\"this is new \\ to me \") # we do not need an escape character here because \n",
    "#we defined the string raw using r at the begining"
   ]
  },
  {
   "cell_type": "markdown",
   "id": "85c84e18-e6bf-40c7-9da5-cd0c7535da67",
   "metadata": {},
   "source": [
    "#### String Manipulation "
   ]
  },
  {
   "cell_type": "code",
   "execution_count": 26,
   "id": "2ac1ba72-841a-4ab0-bbe0-657c7acb0706",
   "metadata": {},
   "outputs": [
    {
     "name": "stdout",
     "output_type": "stream",
     "text": [
      "Its a great day today\n"
     ]
    }
   ],
   "source": [
    "# using upper()\n",
    "a = \"Its a great day today\"\n",
    "print(a)"
   ]
  },
  {
   "cell_type": "code",
   "execution_count": 27,
   "id": "d81192d9-facc-496a-b768-0e93800529dc",
   "metadata": {},
   "outputs": [
    {
     "name": "stdout",
     "output_type": "stream",
     "text": [
      "ITS A GREAT DAY TODAY\n"
     ]
    }
   ],
   "source": [
    "print(a.upper())"
   ]
  },
  {
   "cell_type": "code",
   "execution_count": 33,
   "id": "49cac74e-fd61-4904-9964-46b807d11605",
   "metadata": {},
   "outputs": [
    {
     "data": {
      "text/plain": [
       "'Your contribution to the company is appreciated'"
      ]
     },
     "execution_count": 33,
     "metadata": {},
     "output_type": "execute_result"
    }
   ],
   "source": [
    "#replace method \n",
    "a = \"Your contribuion to the company is appreciated\"\n",
    "a.replace('contribuion','contribution')"
   ]
  },
  {
   "cell_type": "code",
   "execution_count": 34,
   "id": "13022154-ccf1-4ec2-abf3-706ac10b9e93",
   "metadata": {},
   "outputs": [
    {
     "data": {
      "text/plain": [
       "-1"
      ]
     },
     "execution_count": 34,
     "metadata": {},
     "output_type": "execute_result"
    }
   ],
   "source": [
    "#find() method \n",
    "a.find('tion')"
   ]
  },
  {
   "cell_type": "code",
   "execution_count": 31,
   "id": "4daa2d67-7036-4965-b9f5-1e0758bdad84",
   "metadata": {},
   "outputs": [
    {
     "data": {
      "text/plain": [
       "24"
      ]
     },
     "execution_count": 31,
     "metadata": {},
     "output_type": "execute_result"
    }
   ],
   "source": [
    "a.find('com')"
   ]
  },
  {
   "cell_type": "code",
   "execution_count": 32,
   "id": "e93d140c-afe9-42dc-a123-f837a27e50ef",
   "metadata": {},
   "outputs": [
    {
     "data": {
      "text/plain": [
       "['Your', 'contribuion', 'to', 'the', 'company', 'is', 'appreciated']"
      ]
     },
     "execution_count": 32,
     "metadata": {},
     "output_type": "execute_result"
    }
   ],
   "source": [
    "#split string \n",
    "a.split()"
   ]
  },
  {
   "cell_type": "markdown",
   "id": "751aa82c-030f-4809-9674-fd05512e056b",
   "metadata": {},
   "source": [
    "#### RegEX"
   ]
  },
  {
   "cell_type": "code",
   "execution_count": 35,
   "id": "dd717c2d-48b9-4552-bfe3-5fd4c03b3904",
   "metadata": {},
   "outputs": [],
   "source": [
    "import re "
   ]
  },
  {
   "cell_type": "code",
   "execution_count": 41,
   "id": "cdf6e236-45f8-404b-9850-86e4297ad34e",
   "metadata": {},
   "outputs": [
    {
     "name": "stdout",
     "output_type": "stream",
     "text": [
      "Found match\n"
     ]
    }
   ],
   "source": [
    "sentence = \"Rubina Parveen is a Masters in Computer Engineering Student\" \n",
    "# we will be looking into seach method in re \n",
    "\n",
    "# define a pattern to be searched \n",
    "pattern = r\"Masters\"\n",
    "\n",
    "#use search() to find the pattern in the string \n",
    "\n",
    "result = re.search(pattern, sentence)\n",
    "\n",
    "if result: \n",
    "    print(\"Found match\")\n",
    "else: \n",
    "    print(\"Match not found\\n\")"
   ]
  },
  {
   "cell_type": "markdown",
   "id": "eb5db346-a6ec-4eb6-a170-e389388f87f7",
   "metadata": {},
   "source": [
    "Regular expressions (RegEx) are patterns used to match and manipulate strings of text. There are several special sequences in RegEx that can be used to match specific characters or patterns.\n",
    "\n",
    "| Special Sequence | Meaning                 | \tExample             |\n",
    "| -----------  | ----------------------- | ----------------------|\n",
    "| \\d|Matches any digit character (0-9)|\"123\" matches \"\\d\\d\\d\"|\n",
    "|\\D|Matches any non-digit character|\"hello\" matches \"\\D\\D\\D\\D\\D\"|\n",
    "|\\w|Matches any word character (a-z, A-Z, 0-9, and _)|\"hello_world\" matches \"\\w\\w\\w\\w\\w\\w\\w\\w\\w\\w\\w\"|\n",
    "|\\W|Matches any non-word character|\t\"@#$%\" matches \"\\W\\W\\W\\W\"|\n",
    "|\\s|Matches any whitespace character (space, tab, newline, etc.)|\"hello world\" matches \"\\w\\w\\w\\w\\w\\s\\w\\w\\w\\w\\w\"|\n",
    "|\\S|Matches any non-whitespace character|\"hello_world\" matches \"\\S\\S\\S\\S\\S\\S\\S\\S\\S\"|\n",
    "|\\b|Matches the boundary between a word character and a non-word character|\"cat\" matches \"\\bcat\\b\" in \"The cat sat on the mat\"|\n",
    "|\\B|Matches any position that is not a word boundary|\"cat\" matches \"\\Bcat\\B\" in \"category\" but not in \"The cat sat on the mat\"|\n"
   ]
  },
  {
   "cell_type": "code",
   "execution_count": 47,
   "id": "3c29efa9-9b44-4bdc-948a-b3aded73ec01",
   "metadata": {},
   "outputs": [
    {
     "name": "stdout",
     "output_type": "stream",
     "text": [
      "Number found :  1234567890\n"
     ]
    }
   ],
   "source": [
    "#search \n",
    "pattern = r\"\\d\\d\\d\\d\\d\\d\\d\\d\\d\\d\"\n",
    "text = \"My number is 1234567890\"\n",
    "match = re.search(pattern,text)\n",
    "if match:\n",
    "    print(\"Number found : \",match.group())\n",
    "else:\n",
    "    print(\"not found\")"
   ]
  },
  {
   "cell_type": "code",
   "execution_count": 46,
   "id": "1fc28218-0a4a-45e7-8193-5c43d6d79754",
   "metadata": {},
   "outputs": [
    {
     "name": "stdout",
     "output_type": "stream",
     "text": [
      "matches:  [',', ' ', '!']\n"
     ]
    }
   ],
   "source": [
    "#findall()\n",
    "pattern = r\"\\W\"\n",
    "text = \"hello, world!\"\n",
    "matched = re.findall(pattern, text)\n",
    "\n",
    "print(\"matches: \",matched)"
   ]
  },
  {
   "cell_type": "code",
   "execution_count": 48,
   "id": "eaf2a77e-2670-42a5-82c5-d5b0a1d0ceb6",
   "metadata": {},
   "outputs": [
    {
     "name": "stdout",
     "output_type": "stream",
     "text": [
      "Shreya is a legend singer and is considered as one of the best in the industry\n"
     ]
    }
   ],
   "source": [
    "#sub function - substitute the given pattern with a specific pattern \n",
    "\n",
    "sentence = \"Shreya is a good singer and is considered as one of the best in the industry\"\n",
    "pattern = \"good\"\n",
    "replacement = \"legend\"\n",
    "result = re.sub(pattern, replacement, sentence, flags=re.IGNORECASE)\n",
    "print(result)\n"
   ]
  },
  {
   "cell_type": "code",
   "execution_count": 50,
   "id": "27f1f652-bde1-4528-b55a-b1228437f04a",
   "metadata": {},
   "outputs": [
    {
     "data": {
      "text/plain": [
       "'Python'"
      ]
     },
     "execution_count": 50,
     "metadata": {},
     "output_type": "execute_result"
    }
   ],
   "source": [
    "str1 = \"Fun Python\"\n",
    "str1[4:10]"
   ]
  },
  {
   "cell_type": "code",
   "execution_count": 51,
   "id": "8b99976d-0a3e-40a7-a63d-0513c5f90141",
   "metadata": {},
   "outputs": [
    {
     "data": {
      "text/plain": [
       "'2'"
      ]
     },
     "execution_count": 51,
     "metadata": {},
     "output_type": "execute_result"
    }
   ],
   "source": [
    "str(1+1)"
   ]
  },
  {
   "cell_type": "code",
   "execution_count": 52,
   "id": "dcae5add-db4d-40df-8440-d95d58df84b7",
   "metadata": {},
   "outputs": [
    {
     "data": {
      "text/plain": [
       "str"
      ]
     },
     "execution_count": 52,
     "metadata": {},
     "output_type": "execute_result"
    }
   ],
   "source": [
    "type(\"7.1\")"
   ]
  },
  {
   "cell_type": "markdown",
   "id": "b0df58ec-ae8a-4489-a8c5-1611066d10f8",
   "metadata": {},
   "source": [
    "#### List and Tuples "
   ]
  },
  {
   "cell_type": "markdown",
   "id": "bab3ac45-9884-46fc-9c33-4c8515f49771",
   "metadata": {},
   "source": [
    "Tuple: Built in data type that allows to create a sequence of immutable data types. Data in a tuple can be of any type. Eg: T = ('asdf',20.32,18,[2,4,5]). \n",
    "We can concatenate in tuple using T = T + (\"hello\", 56.3)"
   ]
  },
  {
   "cell_type": "code",
   "execution_count": 9,
   "id": "ed9333b5-d692-4179-b62d-c3662788642b",
   "metadata": {},
   "outputs": [
    {
     "data": {
      "text/plain": [
       "('Hello', 7.8, 90)"
      ]
     },
     "execution_count": 9,
     "metadata": {},
     "output_type": "execute_result"
    }
   ],
   "source": [
    "T = (\"Hello\", 7.8,90)\n",
    "T "
   ]
  },
  {
   "cell_type": "code",
   "execution_count": 10,
   "id": "5310408e-5b7f-4d81-b56d-f313bb076f4a",
   "metadata": {},
   "outputs": [],
   "source": [
    "T = T + (\"World\", 122)"
   ]
  },
  {
   "cell_type": "code",
   "execution_count": 11,
   "id": "34a4a4b4-418b-44c6-b11f-1182d491bfa2",
   "metadata": {},
   "outputs": [
    {
     "data": {
      "text/plain": [
       "('Hello', 7.8, 90, 'World', 122)"
      ]
     },
     "execution_count": 11,
     "metadata": {},
     "output_type": "execute_result"
    }
   ],
   "source": [
    "T"
   ]
  },
  {
   "cell_type": "markdown",
   "id": "fe4ae199-8303-4db0-8cca-bcab88b3cb1b",
   "metadata": {},
   "source": [
    "We can slice tuples and can find their length using len command "
   ]
  },
  {
   "cell_type": "code",
   "execution_count": 12,
   "id": "2a8b5f48-dc3b-4d90-aa68-03d9b6acbd18",
   "metadata": {},
   "outputs": [
    {
     "data": {
      "text/plain": [
       "('Hello', 7.8, 90)"
      ]
     },
     "execution_count": 12,
     "metadata": {},
     "output_type": "execute_result"
    }
   ],
   "source": [
    "T[0:3]"
   ]
  },
  {
   "cell_type": "code",
   "execution_count": 13,
   "id": "ce42834a-7f78-46c9-8326-17984e6f8c84",
   "metadata": {},
   "outputs": [
    {
     "data": {
      "text/plain": [
       "('World', 122)"
      ]
     },
     "execution_count": 13,
     "metadata": {},
     "output_type": "execute_result"
    }
   ],
   "source": [
    "T[3:5]"
   ]
  },
  {
   "cell_type": "code",
   "execution_count": 17,
   "id": "07e5f42a-e9dc-4d93-bfa3-5bb50ecc190f",
   "metadata": {},
   "outputs": [
    {
     "data": {
      "text/plain": [
       "5"
      ]
     },
     "execution_count": 17,
     "metadata": {},
     "output_type": "execute_result"
    }
   ],
   "source": [
    "len(T)"
   ]
  },
  {
   "cell_type": "code",
   "execution_count": 22,
   "id": "44e0be2e-196e-4b73-8d0d-397ecfeb572e",
   "metadata": {},
   "outputs": [
    {
     "data": {
      "text/plain": [
       "tuple"
      ]
     },
     "execution_count": 22,
     "metadata": {},
     "output_type": "execute_result"
    }
   ],
   "source": [
    "#Tuples are immutable - we can't change them \n",
    "ratings = (3,3.5,6.5, 7.0,2.2)\n",
    "type(ratings)"
   ]
  },
  {
   "cell_type": "code",
   "execution_count": 24,
   "id": "d620f5f9-c5bb-4df0-89b8-b9569aa19381",
   "metadata": {},
   "outputs": [
    {
     "ename": "TypeError",
     "evalue": "'tuple' object does not support item assignment",
     "output_type": "error",
     "traceback": [
      "\u001b[0;31m---------------------------------------------------------------------------\u001b[0m",
      "\u001b[0;31mTypeError\u001b[0m                                 Traceback (most recent call last)",
      "Cell \u001b[0;32mIn[24], line 1\u001b[0m\n\u001b[0;32m----> 1\u001b[0m \u001b[43mratings\u001b[49m\u001b[43m[\u001b[49m\u001b[38;5;241;43m2\u001b[39;49m\u001b[43m]\u001b[49m\u001b[38;5;241m=\u001b[39m \u001b[38;5;241m8.0\u001b[39m  \u001b[38;5;66;03m# Not allowed since tuple is immutable \u001b[39;00m\n",
      "\u001b[0;31mTypeError\u001b[0m: 'tuple' object does not support item assignment"
     ]
    }
   ],
   "source": [
    "ratings[2]= 8.0  # Not allowed since tuple is immutable "
   ]
  },
  {
   "cell_type": "code",
   "execution_count": 29,
   "id": "7da1e66b-eaf7-498d-ba47-736b0c64b3d2",
   "metadata": {},
   "outputs": [
    {
     "data": {
      "text/plain": [
       "[2.2, 3, 3.5, 6.5, 7.0]"
      ]
     },
     "execution_count": 29,
     "metadata": {},
     "output_type": "execute_result"
    }
   ],
   "source": [
    "#we need to create a new tuple \n",
    "sortedRatings = sorted(ratings)\n",
    "sortedRatings"
   ]
  },
  {
   "cell_type": "markdown",
   "id": "e2cf29c7-0171-4315-90fd-dbc50de4a62d",
   "metadata": {},
   "source": [
    "A tuple can contain other tuples and can be accessed using index  "
   ]
  },
  {
   "cell_type": "code",
   "execution_count": 30,
   "id": "36db10c0-bd32-43fe-b204-12974933f3e1",
   "metadata": {},
   "outputs": [],
   "source": [
    "myTuple = (1,2,(\"Hello\",\"World\"),(6.3,8.4),(\"Rubina\",3.4),0,23,\"Parveen\")"
   ]
  },
  {
   "cell_type": "code",
   "execution_count": 31,
   "id": "3710b6ab-4e2b-48bd-ba0d-716245de9474",
   "metadata": {},
   "outputs": [
    {
     "data": {
      "text/plain": [
       "'World'"
      ]
     },
     "execution_count": 31,
     "metadata": {},
     "output_type": "execute_result"
    }
   ],
   "source": [
    "#I want to access world from myTuple \n",
    "myTuple[2][1]"
   ]
  },
  {
   "cell_type": "code",
   "execution_count": 32,
   "id": "60dddd03-8389-4a15-b7aa-deec6c30ee61",
   "metadata": {},
   "outputs": [
    {
     "data": {
      "text/plain": [
       "23"
      ]
     },
     "execution_count": 32,
     "metadata": {},
     "output_type": "execute_result"
    }
   ],
   "source": [
    "#I want to access 23 from my tuple \n",
    "myTuple[6]"
   ]
  },
  {
   "cell_type": "code",
   "execution_count": 33,
   "id": "5d007fce-d9bd-4302-873a-f5d1ddd5cc9f",
   "metadata": {},
   "outputs": [
    {
     "data": {
      "text/plain": [
       "'Rubina'"
      ]
     },
     "execution_count": 33,
     "metadata": {},
     "output_type": "execute_result"
    }
   ],
   "source": [
    "#I want to access rubina \n",
    "myTuple[4][0]"
   ]
  },
  {
   "cell_type": "code",
   "execution_count": 35,
   "id": "c848c66f-3572-440d-b628-b259263c11c2",
   "metadata": {},
   "outputs": [
    {
     "data": {
      "text/plain": [
       "'i'"
      ]
     },
     "execution_count": 35,
     "metadata": {},
     "output_type": "execute_result"
    }
   ],
   "source": [
    "myTuple[4][0][3] # I can access even a single character in Rubina "
   ]
  },
  {
   "cell_type": "markdown",
   "id": "75ca52a3-6549-4502-bb6e-fb8191e06f81",
   "metadata": {},
   "source": [
    "#### List \n",
    "They are defined using [], they are mutable. Can contain-string, int, float, other lists and tuples. Negative indexing can be used. Slicing can be done.  "
   ]
  },
  {
   "cell_type": "code",
   "execution_count": 37,
   "id": "78627473-ba61-4d32-b271-26a409b32386",
   "metadata": {},
   "outputs": [],
   "source": [
    "myList = [1,2,[\"Hello\",\"World\"],(6.3,8.4),[\"Rubina\",3.4],0,23,\"Parveen\"]"
   ]
  },
  {
   "cell_type": "code",
   "execution_count": 38,
   "id": "154732d3-2c02-4576-8a21-d9e8199d3f75",
   "metadata": {},
   "outputs": [
    {
     "data": {
      "text/plain": [
       "[['Hello', 'World'], (6.3, 8.4), ['Rubina', 3.4]]"
      ]
     },
     "execution_count": 38,
     "metadata": {},
     "output_type": "execute_result"
    }
   ],
   "source": [
    "# Slicing \n",
    "myList[2:5]"
   ]
  },
  {
   "cell_type": "code",
   "execution_count": 39,
   "id": "b1c41f4d-65b5-4a02-b02a-db1f6ab7de08",
   "metadata": {},
   "outputs": [
    {
     "data": {
      "text/plain": [
       "'Hello'"
      ]
     },
     "execution_count": 39,
     "metadata": {},
     "output_type": "execute_result"
    }
   ],
   "source": [
    "#can access hello as \n",
    "myList[2][0]"
   ]
  },
  {
   "cell_type": "code",
   "execution_count": 40,
   "id": "0f6d0b6b-aba9-4903-a27c-2cf97b74d8b8",
   "metadata": {},
   "outputs": [
    {
     "data": {
      "text/plain": [
       "[1,\n",
       " 2,\n",
       " ['Hello', 'World'],\n",
       " (6.3, 8.4),\n",
       " ['Rubina', 3.4],\n",
       " 0,\n",
       " 23,\n",
       " 'Parveen',\n",
       " 'Pop',\n",
       " 9.3,\n",
       " 'Push']"
      ]
     },
     "execution_count": 40,
     "metadata": {},
     "output_type": "execute_result"
    }
   ],
   "source": [
    "#Concatenation of lists \n",
    "myList = myList + [\"Pop\", 9.3, \"Push\"]\n",
    "myList"
   ]
  },
  {
   "cell_type": "code",
   "execution_count": 42,
   "id": "8b5766d1-a41f-4ef4-8954-c6907543dd08",
   "metadata": {},
   "outputs": [
    {
     "data": {
      "text/plain": [
       "[1,\n",
       " 2,\n",
       " ['Hello', 'World'],\n",
       " (6.3, 8.4),\n",
       " ['Rubina', 3.4],\n",
       " 0,\n",
       " 23,\n",
       " 'Parveen',\n",
       " 'Pop',\n",
       " 9.3,\n",
       " 'Push',\n",
       " ['New', 'List'],\n",
       " 78]"
      ]
     },
     "execution_count": 42,
     "metadata": {},
     "output_type": "execute_result"
    }
   ],
   "source": [
    "#directly concatenating in the existing list since it is mutable \n",
    "\n",
    "myList.extend([[\"New\",\"List\"],78])  # Extend adds two more elements to the list a list[\"New\",\"list\"] and int 78\n",
    "myList"
   ]
  },
  {
   "cell_type": "code",
   "execution_count": 43,
   "id": "3e15ede5-cd12-41a9-98b2-1205c4610a59",
   "metadata": {},
   "outputs": [
    {
     "data": {
      "text/plain": [
       "[1,\n",
       " 2,\n",
       " ['Hello', 'World'],\n",
       " (6.3, 8.4),\n",
       " ['Rubina', 3.4],\n",
       " 0,\n",
       " 23,\n",
       " 'Parveen',\n",
       " 'Pop',\n",
       " 9.3,\n",
       " 'Push',\n",
       " ['New', 'List'],\n",
       " 78,\n",
       " ['hi', 21]]"
      ]
     },
     "execution_count": 43,
     "metadata": {},
     "output_type": "execute_result"
    }
   ],
   "source": [
    "myList.append([\"hi\", 21]) # This will add another list to the list myList and not 2 elements \n",
    "myList "
   ]
  },
  {
   "cell_type": "code",
   "execution_count": 44,
   "id": "e9b63bbe-ca3f-4dcd-b031-f2f748aa7a17",
   "metadata": {},
   "outputs": [
    {
     "data": {
      "text/plain": [
       "[1,\n",
       " 2,\n",
       " ['Hello', 'World'],\n",
       " (6.3, 8.4),\n",
       " ['Rubina', 3.4],\n",
       " 0,\n",
       " 23,\n",
       " 'Parveen',\n",
       " 'Pop',\n",
       " 9.3,\n",
       " 'Push',\n",
       " ['New', 'List'],\n",
       " 78,\n",
       " ['hi', 21],\n",
       " 'booboo',\n",
       " 28]"
      ]
     },
     "execution_count": 44,
     "metadata": {},
     "output_type": "execute_result"
    }
   ],
   "source": [
    "myList.extend([\"booboo\", 28]) # This will add 2 elements \n",
    "myList"
   ]
  },
  {
   "cell_type": "code",
   "execution_count": 45,
   "id": "dd234401-f89f-4ff0-bcb0-9652953c1fb2",
   "metadata": {},
   "outputs": [
    {
     "data": {
      "text/plain": [
       "[1,\n",
       " 2,\n",
       " ['Hello', 'World'],\n",
       " (6.3, 8.4),\n",
       " ['Rubina', 3.4],\n",
       " 0,\n",
       " 23,\n",
       " 'Parveen',\n",
       " 'Pop',\n",
       " 9.3,\n",
       " 'Push',\n",
       " ['New', 'List'],\n",
       " 78,\n",
       " ['hi', 21],\n",
       " 'booboo',\n",
       " 28]"
      ]
     },
     "execution_count": 45,
     "metadata": {},
     "output_type": "execute_result"
    }
   ],
   "source": [
    "myList "
   ]
  },
  {
   "cell_type": "code",
   "execution_count": 46,
   "id": "a6ee34c1-cfbd-4ad1-bf6a-15243ee2c191",
   "metadata": {},
   "outputs": [],
   "source": [
    "del(myList[0:4])"
   ]
  },
  {
   "cell_type": "code",
   "execution_count": 47,
   "id": "b80b7e0c-29ac-458d-b892-66774694feaf",
   "metadata": {},
   "outputs": [
    {
     "data": {
      "text/plain": [
       "[['Rubina', 3.4],\n",
       " 0,\n",
       " 23,\n",
       " 'Parveen',\n",
       " 'Pop',\n",
       " 9.3,\n",
       " 'Push',\n",
       " ['New', 'List'],\n",
       " 78,\n",
       " ['hi', 21],\n",
       " 'booboo',\n",
       " 28]"
      ]
     },
     "execution_count": 47,
     "metadata": {},
     "output_type": "execute_result"
    }
   ],
   "source": [
    "myList"
   ]
  },
  {
   "cell_type": "code",
   "execution_count": 48,
   "id": "c045acfb-5dd8-43af-997e-78b8c1685609",
   "metadata": {},
   "outputs": [],
   "source": [
    "myList[1] = \"You\""
   ]
  },
  {
   "cell_type": "code",
   "execution_count": 49,
   "id": "223bf12f-54bd-42f2-97ae-9384de439acb",
   "metadata": {},
   "outputs": [
    {
     "data": {
      "text/plain": [
       "[['Rubina', 3.4],\n",
       " 'You',\n",
       " 23,\n",
       " 'Parveen',\n",
       " 'Pop',\n",
       " 9.3,\n",
       " 'Push',\n",
       " ['New', 'List'],\n",
       " 78,\n",
       " ['hi', 21],\n",
       " 'booboo',\n",
       " 28]"
      ]
     },
     "execution_count": 49,
     "metadata": {},
     "output_type": "execute_result"
    }
   ],
   "source": [
    "myList"
   ]
  },
  {
   "cell_type": "code",
   "execution_count": 50,
   "id": "ddf4e5aa-7832-496c-8fa1-8d32a9c9cece",
   "metadata": {},
   "outputs": [
    {
     "data": {
      "text/plain": [
       "['Hello', 'there', 'what', 'a', 'beautiful', 'day']"
      ]
     },
     "execution_count": 50,
     "metadata": {},
     "output_type": "execute_result"
    }
   ],
   "source": [
    "#convert a string into list using split()\n",
    "\"Hello there what a beautiful day\".split()"
   ]
  },
  {
   "cell_type": "code",
   "execution_count": 53,
   "id": "35068553-4a43-4fce-a05e-b3a86a53d048",
   "metadata": {},
   "outputs": [
    {
     "data": {
      "text/plain": [
       "['Hello', 'How', 'Have', 'You', 'Been']"
      ]
     },
     "execution_count": 53,
     "metadata": {},
     "output_type": "execute_result"
    }
   ],
   "source": [
    "#split on a specific character \n",
    "\"Hello,How,Have,You,Been\".split(\",\")   #Comma is a delimiter "
   ]
  },
  {
   "cell_type": "code",
   "execution_count": 54,
   "id": "f4e75937-c41e-4454-8d81-1b749197f135",
   "metadata": {},
   "outputs": [
    {
     "data": {
      "text/plain": [
       "['hard rock', 23, 9.12]"
      ]
     },
     "execution_count": 54,
     "metadata": {},
     "output_type": "execute_result"
    }
   ],
   "source": [
    "# referencing \n",
    "B = [\"hard rock\", 23,9.12]\n",
    "A = B # both A and B reference the same list \n",
    "A"
   ]
  },
  {
   "cell_type": "code",
   "execution_count": 55,
   "id": "9363c6f7-3896-4041-893e-9b9f03b7a94b",
   "metadata": {},
   "outputs": [
    {
     "data": {
      "text/plain": [
       "['hard rock', 23, 9.12]"
      ]
     },
     "execution_count": 55,
     "metadata": {},
     "output_type": "execute_result"
    }
   ],
   "source": [
    "B"
   ]
  },
  {
   "cell_type": "code",
   "execution_count": 56,
   "id": "83373c18-3165-4a5a-a915-508ef582119e",
   "metadata": {},
   "outputs": [],
   "source": [
    "# If I change an element in A. B will also change \n",
    "A[0] = \"Howdy\" "
   ]
  },
  {
   "cell_type": "code",
   "execution_count": 57,
   "id": "9b7748d9-7748-4344-a3eb-acd2bf144497",
   "metadata": {},
   "outputs": [
    {
     "data": {
      "text/plain": [
       "['Howdy', 23, 9.12]"
      ]
     },
     "execution_count": 57,
     "metadata": {},
     "output_type": "execute_result"
    }
   ],
   "source": [
    "A"
   ]
  },
  {
   "cell_type": "code",
   "execution_count": 58,
   "id": "e528fc1c-5671-49da-924b-0fad6cc35405",
   "metadata": {},
   "outputs": [
    {
     "data": {
      "text/plain": [
       "['Howdy', 23, 9.12]"
      ]
     },
     "execution_count": 58,
     "metadata": {},
     "output_type": "execute_result"
    }
   ],
   "source": [
    "B"
   ]
  },
  {
   "cell_type": "code",
   "execution_count": 60,
   "id": "6c889821-fd41-4e58-a494-02b27fe14864",
   "metadata": {},
   "outputs": [
    {
     "data": {
      "text/plain": [
       "['Howdy', 23, 9.12]"
      ]
     },
     "execution_count": 60,
     "metadata": {},
     "output_type": "execute_result"
    }
   ],
   "source": [
    "#### Cloning in Lists #####\n",
    "\n",
    "C = A[:]  # C is a clone of A \n",
    "C"
   ]
  },
  {
   "cell_type": "code",
   "execution_count": 63,
   "id": "1853fbef-d587-4418-ab71-65d9d4455f60",
   "metadata": {},
   "outputs": [
    {
     "data": {
      "text/plain": [
       "['Howdy', 23, 89.21]"
      ]
     },
     "execution_count": 63,
     "metadata": {},
     "output_type": "execute_result"
    }
   ],
   "source": [
    "#changing element of C \n",
    "C[2] = 89.21\n",
    "C"
   ]
  },
  {
   "cell_type": "code",
   "execution_count": 65,
   "id": "77fbc4c4-2adf-4f40-8ae9-a41e420b9eeb",
   "metadata": {},
   "outputs": [
    {
     "data": {
      "text/plain": [
       "['Howdy', 23, 9.12]"
      ]
     },
     "execution_count": 65,
     "metadata": {},
     "output_type": "execute_result"
    }
   ],
   "source": [
    "A # Changing C doesn't change A "
   ]
  },
  {
   "cell_type": "code",
   "execution_count": 66,
   "id": "b0c8e4f3-6949-4779-b5c2-cf9b72f353fe",
   "metadata": {},
   "outputs": [],
   "source": [
    "A[1] = 56.2"
   ]
  },
  {
   "cell_type": "code",
   "execution_count": 67,
   "id": "7d00cc36-7d62-43eb-bac0-5e56f53067b9",
   "metadata": {},
   "outputs": [
    {
     "data": {
      "text/plain": [
       "['Howdy', 56.2, 9.12]"
      ]
     },
     "execution_count": 67,
     "metadata": {},
     "output_type": "execute_result"
    }
   ],
   "source": [
    "A"
   ]
  },
  {
   "cell_type": "code",
   "execution_count": 69,
   "id": "f0685fc8-a6b2-41bf-9f6c-fbd1210f473b",
   "metadata": {},
   "outputs": [
    {
     "data": {
      "text/plain": [
       "['Howdy', 23, 89.21]"
      ]
     },
     "execution_count": 69,
     "metadata": {},
     "output_type": "execute_result"
    }
   ],
   "source": [
    "C #Changing A doesn't change C "
   ]
  },
  {
   "cell_type": "markdown",
   "id": "9dac60b9-4441-4953-98e5-18b464529f12",
   "metadata": {},
   "source": [
    "## **Python Data Structure Functions** "
   ]
  },
  {
   "cell_type": "markdown",
   "id": "3ac8d5c3-d0b5-404e-83d6-a63fd461d9b7",
   "metadata": {},
   "source": [
    "### **List**"
   ]
  },
  {
   "cell_type": "code",
   "execution_count": 71,
   "id": "31df5ce4-645e-42c8-8e9f-efc5be8c41fa",
   "metadata": {},
   "outputs": [
    {
     "data": {
      "text/plain": [
       "['Apple', 'Banana', 'Orange', 'Mango']"
      ]
     },
     "execution_count": 71,
     "metadata": {},
     "output_type": "execute_result"
    }
   ],
   "source": [
    "# Append() - adds 1 element to the list \n",
    "\n",
    "fruits = [\"Apple\", \"Banana\", \"Orange\"]\n",
    "fruits.append(\"Mango\")\n",
    "fruits "
   ]
  },
  {
   "cell_type": "code",
   "execution_count": 72,
   "id": "20dc5ffc-c47f-4f88-8354-7c7c8529049c",
   "metadata": {},
   "outputs": [
    {
     "data": {
      "text/plain": [
       "[1, 2, 3, 4, 5, 6]"
      ]
     },
     "execution_count": 72,
     "metadata": {},
     "output_type": "execute_result"
    }
   ],
   "source": [
    "# copy() - creates a shallow copy of a list \n",
    "\n",
    "myList = [1,2,3,4,5,6]\n",
    "newList = myList.copy()\n",
    "newList "
   ]
  },
  {
   "cell_type": "code",
   "execution_count": 74,
   "id": "1f01e0d5-8d72-4548-87dd-71ed0d18c7ba",
   "metadata": {},
   "outputs": [
    {
     "data": {
      "text/plain": [
       "5"
      ]
     },
     "execution_count": 74,
     "metadata": {},
     "output_type": "execute_result"
    }
   ],
   "source": [
    "# count() - counts number of occurances of an element in the list \n",
    "myList = [1,2,1,3,5,8,3,1,3,1,7,8,3,1,0]\n",
    "myList.count(1)"
   ]
  },
  {
   "cell_type": "code",
   "execution_count": 75,
   "id": "331818cc-79d5-482a-97d3-df7e8218747b",
   "metadata": {},
   "outputs": [],
   "source": [
    "# del() - to delete an element or set of elements \n",
    "del(myList[2])"
   ]
  },
  {
   "cell_type": "code",
   "execution_count": 76,
   "id": "245e1b80-ce66-4f07-a272-94508a874678",
   "metadata": {},
   "outputs": [
    {
     "data": {
      "text/plain": [
       "[1, 2, 3, 5, 8, 3, 1, 3, 1, 7, 8, 3, 1, 0]"
      ]
     },
     "execution_count": 76,
     "metadata": {},
     "output_type": "execute_result"
    }
   ],
   "source": [
    "myList"
   ]
  },
  {
   "cell_type": "code",
   "execution_count": 78,
   "id": "3599fb25-1478-45e6-8a20-e6e4b60400d4",
   "metadata": {},
   "outputs": [
    {
     "data": {
      "text/plain": [
       "['Apple', 'Banana', 'Orange', 'Mango', 'Grapes', 'Peach']"
      ]
     },
     "execution_count": 78,
     "metadata": {},
     "output_type": "execute_result"
    }
   ],
   "source": [
    "#extend() - adds more than 1 element into the list \n",
    "\n",
    "fruits.extend([\"Grapes\",\"Peach\"])\n",
    "fruits "
   ]
  },
  {
   "cell_type": "code",
   "execution_count": 7,
   "id": "875dedb5-93af-41af-9843-d8631d10e0d5",
   "metadata": {},
   "outputs": [],
   "source": [
    "#insert() - insert elements at an index (index, value)\n",
    "nums = [1,2,3,4]\n",
    "nums.insert(2,0)"
   ]
  },
  {
   "cell_type": "code",
   "execution_count": 8,
   "id": "cada8feb-73d4-4ff0-8c3c-0712367e31d2",
   "metadata": {},
   "outputs": [
    {
     "data": {
      "text/plain": [
       "[1, 2, 0, 3, 4]"
      ]
     },
     "execution_count": 8,
     "metadata": {},
     "output_type": "execute_result"
    }
   ],
   "source": [
    "nums"
   ]
  },
  {
   "cell_type": "code",
   "execution_count": 9,
   "id": "27e706f6-3349-4421-8e77-98e83cf535c2",
   "metadata": {},
   "outputs": [
    {
     "name": "stdout",
     "output_type": "stream",
     "text": [
      "[1, 2, 3, 4]\n",
      "[1, 2, 3]\n"
     ]
    }
   ],
   "source": [
    "#pop(idx) - removes an element from the list at the given index. if index not given it removes the last element \n",
    "nums.pop(2)\n",
    "print(nums)\n",
    "nums.pop()\n",
    "print(nums)"
   ]
  },
  {
   "cell_type": "code",
   "execution_count": 10,
   "id": "fbc8e325-4e87-46a5-ad7e-350ce6869347",
   "metadata": {},
   "outputs": [],
   "source": [
    "# remove(ele) - removes the element \n",
    "nums = [10,20,30,40]\n",
    "nums.remove(30)"
   ]
  },
  {
   "cell_type": "code",
   "execution_count": 11,
   "id": "bc1bfaec-98e5-40fe-bdb2-07faae790c53",
   "metadata": {},
   "outputs": [
    {
     "data": {
      "text/plain": [
       "[10, 20, 40]"
      ]
     },
     "execution_count": 11,
     "metadata": {},
     "output_type": "execute_result"
    }
   ],
   "source": [
    "nums"
   ]
  },
  {
   "cell_type": "code",
   "execution_count": 12,
   "id": "aed17192-7710-47d9-a4c1-e530d3da8a02",
   "metadata": {},
   "outputs": [
    {
     "name": "stdout",
     "output_type": "stream",
     "text": [
      "[98, 23, 54, 78, 90]\n",
      "[90, 78, 54, 23, 98]\n"
     ]
    }
   ],
   "source": [
    "#reverse() - reverses the order of the list - Note that it doesn't sort the list just reverses it \n",
    "\n",
    "nums = [98,23,54,78,90]\n",
    "print(nums)\n",
    "nums.reverse()\n",
    "print(nums)"
   ]
  },
  {
   "cell_type": "code",
   "execution_count": 20,
   "id": "78188d64-b6c3-40d0-a121-37e38c6ea855",
   "metadata": {},
   "outputs": [],
   "source": [
    "#sort() - sorts the list in ascending order. Use reverse = True for descending order \n",
    "nums.sort()"
   ]
  },
  {
   "cell_type": "code",
   "execution_count": 21,
   "id": "1586f7cf-f454-459a-be02-71a9b6574ce3",
   "metadata": {},
   "outputs": [
    {
     "data": {
      "text/plain": [
       "[23, 54, 78, 90, 98]"
      ]
     },
     "execution_count": 21,
     "metadata": {},
     "output_type": "execute_result"
    }
   ],
   "source": [
    "nums"
   ]
  },
  {
   "cell_type": "code",
   "execution_count": 22,
   "id": "9a80bc7f-cb44-4dab-9919-ffe9e68889e5",
   "metadata": {},
   "outputs": [
    {
     "data": {
      "text/plain": [
       "[98, 90, 78, 54, 23]"
      ]
     },
     "execution_count": 22,
     "metadata": {},
     "output_type": "execute_result"
    }
   ],
   "source": [
    "nums.sort(reverse = True)\n",
    "nums"
   ]
  },
  {
   "cell_type": "markdown",
   "id": "3383baae-6f8a-479b-a2bb-b33fb5a6e4c2",
   "metadata": {},
   "source": [
    "### Dictionary "
   ]
  },
  {
   "cell_type": "code",
   "execution_count": 3,
   "id": "ee03cad7-7d40-4d25-a1f9-38792d2205f2",
   "metadata": {},
   "outputs": [],
   "source": [
    "# Creating a dictionary \n",
    "person  = {\"name\": \"Rubina\", \"age\":28, \"Sex\":\"Female\", \"City\":\"Dallas\"}"
   ]
  },
  {
   "cell_type": "code",
   "execution_count": 4,
   "id": "45a6c0df-ef7d-4cf4-8a29-55c7100f33e3",
   "metadata": {},
   "outputs": [
    {
     "data": {
      "text/plain": [
       "{'name': 'Rubina', 'age': 28, 'Sex': 'Female', 'City': 'Dallas'}"
      ]
     },
     "execution_count": 4,
     "metadata": {},
     "output_type": "execute_result"
    }
   ],
   "source": [
    "person"
   ]
  },
  {
   "cell_type": "code",
   "execution_count": 5,
   "id": "6620e539-4c68-4238-9de0-eba7c3d5f872",
   "metadata": {},
   "outputs": [
    {
     "data": {
      "text/plain": [
       "'Rubina'"
      ]
     },
     "execution_count": 5,
     "metadata": {},
     "output_type": "execute_result"
    }
   ],
   "source": [
    "#Accessing dictionary elements \n",
    "person[\"name\"]"
   ]
  },
  {
   "cell_type": "code",
   "execution_count": 6,
   "id": "70ca47ce-f074-4a08-9de1-5edf05c760fa",
   "metadata": {},
   "outputs": [
    {
     "data": {
      "text/plain": [
       "28"
      ]
     },
     "execution_count": 6,
     "metadata": {},
     "output_type": "execute_result"
    }
   ],
   "source": [
    "person[\"age\"]"
   ]
  },
  {
   "cell_type": "code",
   "execution_count": 10,
   "id": "261556c8-4511-4347-a407-62bfd0b23364",
   "metadata": {},
   "outputs": [
    {
     "data": {
      "text/plain": [
       "{'name': 'Marc', 'age': 28, 'Sex': 'Male', 'City': 'Fullerton'}"
      ]
     },
     "execution_count": 10,
     "metadata": {},
     "output_type": "execute_result"
    }
   ],
   "source": [
    "#Add or modify \n",
    "person[\"name\"] = \"Marc\"\n",
    "person[\"Sex\"] = \"Male\"\n",
    "person[\"City\"] = \"Fullerton\"\n",
    "person"
   ]
  },
  {
   "cell_type": "code",
   "execution_count": 13,
   "id": "e751b28f-54fe-4314-93a0-77315053ae0d",
   "metadata": {},
   "outputs": [
    {
     "data": {
      "text/plain": [
       "'Marc'"
      ]
     },
     "execution_count": 13,
     "metadata": {},
     "output_type": "execute_result"
    }
   ],
   "source": [
    "#Accessing value \n",
    "name = person[\"name\"]\n",
    "name"
   ]
  },
  {
   "cell_type": "code",
   "execution_count": 15,
   "id": "4fcb3e73-e537-4c53-b253-b7457828b291",
   "metadata": {},
   "outputs": [
    {
     "data": {
      "text/plain": [
       "{}"
      ]
     },
     "execution_count": 15,
     "metadata": {},
     "output_type": "execute_result"
    }
   ],
   "source": [
    "#clear() - removes all values, clears the dictionary \n",
    "person.clear()\n",
    "person"
   ]
  },
  {
   "cell_type": "code",
   "execution_count": 16,
   "id": "2c99a38f-7c91-441e-9aad-f9aabe691c55",
   "metadata": {},
   "outputs": [],
   "source": [
    "#copy() - creates a shallow copy, has same key value pairs but the objects are distinct \n",
    "person = {\"name\": \"Rubina\", \"age\":28, \"Sex\":\"Female\", \"City\":\"Dallas\"}\n",
    "people = person.copy()"
   ]
  },
  {
   "cell_type": "code",
   "execution_count": 17,
   "id": "1d810813-5440-4451-8f09-bc0e4df2c7eb",
   "metadata": {},
   "outputs": [
    {
     "data": {
      "text/plain": [
       "{'name': 'Rubina', 'age': 28, 'Sex': 'Female', 'City': 'Dallas'}"
      ]
     },
     "execution_count": 17,
     "metadata": {},
     "output_type": "execute_result"
    }
   ],
   "source": [
    "people"
   ]
  },
  {
   "cell_type": "code",
   "execution_count": 18,
   "id": "db2da684-c8f0-4194-ac04-989265c97a9b",
   "metadata": {},
   "outputs": [],
   "source": [
    "people[\"name\"] = \"Maria\""
   ]
  },
  {
   "cell_type": "code",
   "execution_count": 19,
   "id": "2be3f880-fed7-4f28-951d-ad78bf19aebb",
   "metadata": {},
   "outputs": [
    {
     "data": {
      "text/plain": [
       "{'name': 'Maria', 'age': 28, 'Sex': 'Female', 'City': 'Dallas'}"
      ]
     },
     "execution_count": 19,
     "metadata": {},
     "output_type": "execute_result"
    }
   ],
   "source": [
    "people"
   ]
  },
  {
   "cell_type": "code",
   "execution_count": 20,
   "id": "5c7da39c-1780-4a5b-a52b-222e7894d561",
   "metadata": {},
   "outputs": [
    {
     "data": {
      "text/plain": [
       "{'name': 'Rubina', 'age': 28, 'Sex': 'Female', 'City': 'Dallas'}"
      ]
     },
     "execution_count": 20,
     "metadata": {},
     "output_type": "execute_result"
    }
   ],
   "source": [
    "person"
   ]
  },
  {
   "cell_type": "code",
   "execution_count": 21,
   "id": "b4d0f822-c27f-44bd-a589-0582bef61b91",
   "metadata": {},
   "outputs": [
    {
     "data": {
      "text/plain": [
       "{'name': 'Marc', 'age': 28, 'Sex': 'Male', 'City': 'Dallas'}"
      ]
     },
     "execution_count": 21,
     "metadata": {},
     "output_type": "execute_result"
    }
   ],
   "source": [
    "person[\"name\"] = \"Marc\"\n",
    "person[\"Sex\"] = \"Male\"\n",
    "person"
   ]
  },
  {
   "cell_type": "code",
   "execution_count": 22,
   "id": "c162df70-8bdb-4671-9c78-d86f17ff1241",
   "metadata": {},
   "outputs": [
    {
     "data": {
      "text/plain": [
       "{'name': 'Maria', 'age': 28, 'Sex': 'Female', 'City': 'Dallas'}"
      ]
     },
     "execution_count": 22,
     "metadata": {},
     "output_type": "execute_result"
    }
   ],
   "source": [
    "people"
   ]
  },
  {
   "cell_type": "code",
   "execution_count": 23,
   "id": "19544a8b-a4fd-440c-a568-c0d9116fa110",
   "metadata": {},
   "outputs": [
    {
     "data": {
      "text/plain": [
       "{'name': 'Marc', 'age': 28, 'Sex': 'Male'}"
      ]
     },
     "execution_count": 23,
     "metadata": {},
     "output_type": "execute_result"
    }
   ],
   "source": [
    "#del() - removes the specified key-value pair \n",
    "\n",
    "del(person[\"City\"])\n",
    "person"
   ]
  },
  {
   "cell_type": "code",
   "execution_count": 24,
   "id": "88f16d4a-737c-41ea-a522-78c575081066",
   "metadata": {},
   "outputs": [],
   "source": [
    "#items() - retrives all key-value pairs as tuples and creates a list of the key-value pairs tuples\n",
    "\n",
    "items_list = list(people.items())"
   ]
  },
  {
   "cell_type": "code",
   "execution_count": 25,
   "id": "bb68cd5f-5394-4906-ae57-e898371f06bc",
   "metadata": {},
   "outputs": [
    {
     "data": {
      "text/plain": [
       "[('name', 'Maria'), ('age', 28), ('Sex', 'Female'), ('City', 'Dallas')]"
      ]
     },
     "execution_count": 25,
     "metadata": {},
     "output_type": "execute_result"
    }
   ],
   "source": [
    "items_list"
   ]
  },
  {
   "cell_type": "code",
   "execution_count": 26,
   "id": "29a8edb2-9493-4d57-bf84-92776a9c988e",
   "metadata": {},
   "outputs": [
    {
     "name": "stdout",
     "output_type": "stream",
     "text": [
      "Name exists\n"
     ]
    }
   ],
   "source": [
    "# You can check for existance of a key in the dictionary \n",
    "if \"name\" in person: \n",
    "    print(\"Name exists\")"
   ]
  },
  {
   "cell_type": "code",
   "execution_count": 27,
   "id": "eebe90cd-e185-491e-849a-761c973a9837",
   "metadata": {},
   "outputs": [
    {
     "name": "stdout",
     "output_type": "stream",
     "text": [
      "city not in person\n"
     ]
    }
   ],
   "source": [
    "if \"City\" in person:\n",
    "    print(\"city is present\")\n",
    "else: \n",
    "    print(\"city not in person\")"
   ]
  },
  {
   "cell_type": "code",
   "execution_count": 28,
   "id": "aed329df-806b-43dc-a690-e72091b0f40f",
   "metadata": {},
   "outputs": [
    {
     "data": {
      "text/plain": [
       "dict_keys(['name', 'age', 'Sex', 'City'])"
      ]
     },
     "execution_count": 28,
     "metadata": {},
     "output_type": "execute_result"
    }
   ],
   "source": [
    "#keys()- retrieves all keys and converts it into list \n",
    "people.keys()"
   ]
  },
  {
   "cell_type": "code",
   "execution_count": 29,
   "id": "9932bca1-2027-4f5d-9e65-be0de3606bb6",
   "metadata": {},
   "outputs": [
    {
     "data": {
      "text/plain": [
       "{'name': 'Maria',\n",
       " 'age': 28,\n",
       " 'Sex': 'Female',\n",
       " 'City': 'Dallas',\n",
       " 'Country': 'USA'}"
      ]
     },
     "execution_count": 29,
     "metadata": {},
     "output_type": "execute_result"
    }
   ],
   "source": [
    "#update() - updates key value pair \n",
    "people.update({\"Country\":\"USA\"})\n",
    "people"
   ]
  },
  {
   "cell_type": "code",
   "execution_count": 31,
   "id": "fe7fb953-6a53-4af3-b65a-7d11e45b2c9f",
   "metadata": {},
   "outputs": [
    {
     "data": {
      "text/plain": [
       "dict_values(['Maria', 28, 'Female', 'Dallas', 'USA'])"
      ]
     },
     "execution_count": 31,
     "metadata": {},
     "output_type": "execute_result"
    }
   ],
   "source": [
    "#value() - extracts values from dictionary and converts to list \n",
    "people.values()"
   ]
  },
  {
   "cell_type": "markdown",
   "id": "8f1f32d9-f593-4a8d-ac0a-1f9fd5ae3730",
   "metadata": {},
   "source": [
    "### Sets "
   ]
  },
  {
   "cell_type": "code",
   "execution_count": 32,
   "id": "82b00c33-5a0f-41c0-8c09-8f0fe5423588",
   "metadata": {},
   "outputs": [],
   "source": [
    "#Defining sets \n",
    "fruits = {\"apple\", \"banana\", \"grapes\"}"
   ]
  },
  {
   "cell_type": "code",
   "execution_count": 33,
   "id": "bb9401f5-621c-4a5c-805f-aa98778f35d3",
   "metadata": {},
   "outputs": [
    {
     "data": {
      "text/plain": [
       "{'apple', 'banana', 'grapes'}"
      ]
     },
     "execution_count": 33,
     "metadata": {},
     "output_type": "execute_result"
    }
   ],
   "source": [
    "fruits"
   ]
  },
  {
   "cell_type": "code",
   "execution_count": 34,
   "id": "4b5d5487-bc51-4593-bfdf-6a003107ece0",
   "metadata": {},
   "outputs": [],
   "source": [
    "# adding an element \n",
    "fruits.add(\"mango\")"
   ]
  },
  {
   "cell_type": "code",
   "execution_count": 35,
   "id": "b35efe1c-31b3-4961-a550-cb0148992ff0",
   "metadata": {},
   "outputs": [
    {
     "data": {
      "text/plain": [
       "{'apple', 'banana', 'grapes', 'mango'}"
      ]
     },
     "execution_count": 35,
     "metadata": {},
     "output_type": "execute_result"
    }
   ],
   "source": [
    "fruits"
   ]
  },
  {
   "cell_type": "code",
   "execution_count": 36,
   "id": "829ebca2-f320-4273-989d-c1b7da8b8a90",
   "metadata": {},
   "outputs": [],
   "source": [
    "#copy() - shallow copy no effect to original set \n",
    "fruits2 = fruits.copy() "
   ]
  },
  {
   "cell_type": "code",
   "execution_count": 37,
   "id": "ec762046-e22d-41d4-9813-8997cabcabd6",
   "metadata": {},
   "outputs": [
    {
     "data": {
      "text/plain": [
       "{'apple', 'banana', 'grapes', 'mango'}"
      ]
     },
     "execution_count": 37,
     "metadata": {},
     "output_type": "execute_result"
    }
   ],
   "source": [
    "fruits2"
   ]
  },
  {
   "cell_type": "code",
   "execution_count": 38,
   "id": "25c1b45b-f2a7-417b-a0ba-866bf7e0f7af",
   "metadata": {},
   "outputs": [],
   "source": [
    "#discard() - to delete specific element \n",
    "\n",
    "fruits2.discard(\"apple\")"
   ]
  },
  {
   "cell_type": "code",
   "execution_count": 39,
   "id": "dc3f89d2-36ce-469e-b738-bfb06877c7f7",
   "metadata": {},
   "outputs": [
    {
     "data": {
      "text/plain": [
       "{'banana', 'grapes', 'mango'}"
      ]
     },
     "execution_count": 39,
     "metadata": {},
     "output_type": "execute_result"
    }
   ],
   "source": [
    "fruits2"
   ]
  },
  {
   "cell_type": "code",
   "execution_count": 40,
   "id": "422a0160-3747-4df1-81e2-ef25fb3ccaec",
   "metadata": {},
   "outputs": [
    {
     "data": {
      "text/plain": [
       "True"
      ]
     },
     "execution_count": 40,
     "metadata": {},
     "output_type": "execute_result"
    }
   ],
   "source": [
    "#issubset() - checks if a set is a subset of another set\n",
    "fruits2.issubset(fruits)"
   ]
  },
  {
   "cell_type": "code",
   "execution_count": 41,
   "id": "52a4691f-1ff4-4c26-b389-fa151ce77ae6",
   "metadata": {},
   "outputs": [
    {
     "data": {
      "text/plain": [
       "False"
      ]
     },
     "execution_count": 41,
     "metadata": {},
     "output_type": "execute_result"
    }
   ],
   "source": [
    "fruits.issubset(fruits2)"
   ]
  },
  {
   "cell_type": "code",
   "execution_count": 42,
   "id": "948482d8-49b9-4ff1-8c90-9bcdfbd78746",
   "metadata": {},
   "outputs": [
    {
     "data": {
      "text/plain": [
       "True"
      ]
     },
     "execution_count": 42,
     "metadata": {},
     "output_type": "execute_result"
    }
   ],
   "source": [
    "#issuperset() - finds if a set is superset of another set \n",
    "fruits.issuperset(fruits2)"
   ]
  },
  {
   "cell_type": "code",
   "execution_count": 44,
   "id": "995adcd9-872c-4ad6-a870-bfdd61a82369",
   "metadata": {},
   "outputs": [
    {
     "data": {
      "text/plain": [
       "'grapes'"
      ]
     },
     "execution_count": 44,
     "metadata": {},
     "output_type": "execute_result"
    }
   ],
   "source": [
    "#pop() - removes an arbitrary element gives error is set is empty \n",
    "fruits2.pop()\n"
   ]
  },
  {
   "cell_type": "code",
   "execution_count": 45,
   "id": "c5bc0c5a-f624-48f2-b4da-f68c395a90d2",
   "metadata": {},
   "outputs": [
    {
     "data": {
      "text/plain": [
       "'mango'"
      ]
     },
     "execution_count": 45,
     "metadata": {},
     "output_type": "execute_result"
    }
   ],
   "source": [
    "fruits2.pop()"
   ]
  },
  {
   "cell_type": "code",
   "execution_count": 46,
   "id": "705e570a-1c1c-4052-94b7-319d3f07f9cf",
   "metadata": {},
   "outputs": [
    {
     "ename": "KeyError",
     "evalue": "'pop from an empty set'",
     "output_type": "error",
     "traceback": [
      "\u001b[0;31m---------------------------------------------------------------------------\u001b[0m",
      "\u001b[0;31mKeyError\u001b[0m                                  Traceback (most recent call last)",
      "Cell \u001b[0;32mIn[46], line 1\u001b[0m\n\u001b[0;32m----> 1\u001b[0m \u001b[43mfruits2\u001b[49m\u001b[38;5;241;43m.\u001b[39;49m\u001b[43mpop\u001b[49m\u001b[43m(\u001b[49m\u001b[43m)\u001b[49m\n",
      "\u001b[0;31mKeyError\u001b[0m: 'pop from an empty set'"
     ]
    }
   ],
   "source": [
    "fruits2.pop()"
   ]
  },
  {
   "cell_type": "code",
   "execution_count": 47,
   "id": "63738e09-e073-44c0-9691-b01aeb421289",
   "metadata": {},
   "outputs": [],
   "source": [
    "#remove() - for removing specific key \n",
    "fruits.remove(\"apple\")"
   ]
  },
  {
   "cell_type": "code",
   "execution_count": 48,
   "id": "2b078adf-e236-4339-af69-2c45c791ba02",
   "metadata": {},
   "outputs": [
    {
     "data": {
      "text/plain": [
       "{'banana', 'grapes', 'mango'}"
      ]
     },
     "execution_count": 48,
     "metadata": {},
     "output_type": "execute_result"
    }
   ],
   "source": [
    "fruits"
   ]
  },
  {
   "cell_type": "code",
   "execution_count": 49,
   "id": "e647dfa7-c295-4e55-a1d2-e413c0240468",
   "metadata": {},
   "outputs": [],
   "source": [
    "#update() - adds elements from another iteratable\n",
    "fruits.update([\"Kiwi\", \"Peach\"])"
   ]
  },
  {
   "cell_type": "code",
   "execution_count": 50,
   "id": "bd686c5a-910a-4cf2-983e-9e91b469a39b",
   "metadata": {},
   "outputs": [
    {
     "data": {
      "text/plain": [
       "{'Kiwi', 'Peach', 'banana', 'grapes', 'mango'}"
      ]
     },
     "execution_count": 50,
     "metadata": {},
     "output_type": "execute_result"
    }
   ],
   "source": [
    "fruits"
   ]
  },
  {
   "cell_type": "code",
   "execution_count": 51,
   "id": "3648b636-a6ef-4270-a35a-974d47b0cbf5",
   "metadata": {},
   "outputs": [],
   "source": [
    "veggies = {\"Cauliflower\",\"Spinach\",\"Brinjal\",\"Avacado\"}"
   ]
  },
  {
   "cell_type": "code",
   "execution_count": 52,
   "id": "1f07c9d1-98bd-417c-b3a2-e9414ed7cea6",
   "metadata": {},
   "outputs": [
    {
     "data": {
      "text/plain": [
       "{'Avacado',\n",
       " 'Brinjal',\n",
       " 'Cauliflower',\n",
       " 'Kiwi',\n",
       " 'Peach',\n",
       " 'Spinach',\n",
       " 'banana',\n",
       " 'grapes',\n",
       " 'mango'}"
      ]
     },
     "execution_count": 52,
     "metadata": {},
     "output_type": "execute_result"
    }
   ],
   "source": [
    "#union \n",
    "allVeggiesFruits = fruits.union(veggies)\n",
    "allVeggiesFruits"
   ]
  },
  {
   "cell_type": "code",
   "execution_count": 53,
   "id": "50bb975c-c8f8-4bb8-8a30-972b6889c472",
   "metadata": {},
   "outputs": [],
   "source": [
    "fruits.add(\"Avacado\")"
   ]
  },
  {
   "cell_type": "code",
   "execution_count": 55,
   "id": "1a1eb696-8028-4dc5-9700-e2a7992d88e0",
   "metadata": {},
   "outputs": [
    {
     "data": {
      "text/plain": [
       "{'Avacado'}"
      ]
     },
     "execution_count": 55,
     "metadata": {},
     "output_type": "execute_result"
    }
   ],
   "source": [
    "#Intersection\n",
    "intersect = fruits.intersection(veggies)\n",
    "intersect"
   ]
  },
  {
   "cell_type": "code",
   "execution_count": 57,
   "id": "aacbcd07-0338-47cf-8928-c56776a97ef2",
   "metadata": {},
   "outputs": [
    {
     "data": {
      "text/plain": [
       "{'Kiwi', 'Peach', 'banana', 'grapes', 'mango'}"
      ]
     },
     "execution_count": 57,
     "metadata": {},
     "output_type": "execute_result"
    }
   ],
   "source": [
    "#difference_set - what is different in the 2 sets \n",
    "fruits.difference(veggies)"
   ]
  },
  {
   "cell_type": "code",
   "execution_count": 58,
   "id": "60ccb047-003a-4b06-a691-01dcb512ffb5",
   "metadata": {},
   "outputs": [
    {
     "data": {
      "text/plain": [
       "{'Brinjal',\n",
       " 'Cauliflower',\n",
       " 'Kiwi',\n",
       " 'Peach',\n",
       " 'Spinach',\n",
       " 'banana',\n",
       " 'grapes',\n",
       " 'mango'}"
      ]
     },
     "execution_count": 58,
     "metadata": {},
     "output_type": "execute_result"
    }
   ],
   "source": [
    "#symmetric_difference \n",
    "veggies.symmetric_difference(fruits)"
   ]
  },
  {
   "cell_type": "code",
   "execution_count": 59,
   "id": "c13ed7fa-362a-42c8-868e-2c1625cc1d3d",
   "metadata": {},
   "outputs": [
    {
     "data": {
      "text/plain": [
       "{'Avacado', 'Kiwi', 'Peach', 'banana', 'grapes', 'mango'}"
      ]
     },
     "execution_count": 59,
     "metadata": {},
     "output_type": "execute_result"
    }
   ],
   "source": [
    "fruits"
   ]
  },
  {
   "cell_type": "code",
   "execution_count": 60,
   "id": "c158268b-9ed1-4550-b1a5-66327db93ccd",
   "metadata": {},
   "outputs": [
    {
     "data": {
      "text/plain": [
       "{'Avacado', 'Brinjal', 'Cauliflower', 'Spinach'}"
      ]
     },
     "execution_count": 60,
     "metadata": {},
     "output_type": "execute_result"
    }
   ],
   "source": [
    "veggies"
   ]
  },
  {
   "cell_type": "code",
   "execution_count": 61,
   "id": "d8894728-d95e-42e3-ba77-45f7fb4cbd6d",
   "metadata": {},
   "outputs": [],
   "source": [
    "fruits.clear()"
   ]
  },
  {
   "cell_type": "code",
   "execution_count": 62,
   "id": "8ae08722-9639-401f-b37a-dd592bed8fec",
   "metadata": {},
   "outputs": [
    {
     "data": {
      "text/plain": [
       "set()"
      ]
     },
     "execution_count": 62,
     "metadata": {},
     "output_type": "execute_result"
    }
   ],
   "source": [
    "fruits"
   ]
  },
  {
   "cell_type": "code",
   "execution_count": null,
   "id": "ba127793-a920-4729-8760-41b82694cca4",
   "metadata": {},
   "outputs": [],
   "source": []
  }
 ],
 "metadata": {
  "kernelspec": {
   "display_name": "Python 3 (ipykernel)",
   "language": "python",
   "name": "python3"
  },
  "language_info": {
   "codemirror_mode": {
    "name": "ipython",
    "version": 3
   },
   "file_extension": ".py",
   "mimetype": "text/x-python",
   "name": "python",
   "nbconvert_exporter": "python",
   "pygments_lexer": "ipython3",
   "version": "3.12.2"
  }
 },
 "nbformat": 4,
 "nbformat_minor": 5
}

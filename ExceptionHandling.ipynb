{
 "cells": [
  {
   "cell_type": "markdown",
   "id": "7036ee27-a0f0-4e60-b8c5-9b9a54862077",
   "metadata": {},
   "source": [
    "# Exception Handling in Python "
   ]
  },
  {
   "cell_type": "markdown",
   "id": "4b36026a-aeff-4d57-9138-330c2a9b50ae",
   "metadata": {},
   "source": [
    "Exceptions: Issues or problems that we can prevent from happening at out end. They are like alerts for unexpected actions"
   ]
  },
  {
   "cell_type": "markdown",
   "id": "6946d2ca-da98-447e-ab23-81ff241a0ccc",
   "metadata": {},
   "source": [
    "### Common exceptions in Python  "
   ]
  },
  {
   "cell_type": "markdown",
   "id": "fb0b3200-4b2a-4b5b-a468-b6c96b23a66c",
   "metadata": {},
   "source": [
    "1. **ZeroDivisionError**: When divion of any number is done by 0. Eg: 10/0 which is not defined in mathematics"
   ]
  },
  {
   "cell_type": "code",
   "execution_count": 1,
   "id": "069eaa7f-da16-458c-8d46-d778e8106fd5",
   "metadata": {},
   "outputs": [
    {
     "ename": "ZeroDivisionError",
     "evalue": "division by zero",
     "output_type": "error",
     "traceback": [
      "\u001b[0;31m---------------------------------------------------------------------------\u001b[0m",
      "\u001b[0;31mZeroDivisionError\u001b[0m                         Traceback (most recent call last)",
      "Cell \u001b[0;32mIn[1], line 1\u001b[0m\n\u001b[0;32m----> 1\u001b[0m \u001b[38;5;28mprint\u001b[39m(\u001b[38;5;241;43m10\u001b[39;49m\u001b[38;5;241;43m/\u001b[39;49m\u001b[38;5;241;43m0\u001b[39;49m)\n",
      "\u001b[0;31mZeroDivisionError\u001b[0m: division by zero"
     ]
    }
   ],
   "source": [
    "print(10/0)"
   ]
  },
  {
   "cell_type": "markdown",
   "id": "c6a03cf1-b213-4a33-abfb-3838fd05cd54",
   "metadata": {},
   "source": [
    "2. **ValueError**: When inappropriate value is used in a code "
   ]
  },
  {
   "cell_type": "code",
   "execution_count": 2,
   "id": "000eed36-d253-42d4-8a7a-9e2170c281f9",
   "metadata": {},
   "outputs": [
    {
     "ename": "ValueError",
     "evalue": "invalid literal for int() with base 10: 'rubina'",
     "output_type": "error",
     "traceback": [
      "\u001b[0;31m---------------------------------------------------------------------------\u001b[0m",
      "\u001b[0;31mValueError\u001b[0m                                Traceback (most recent call last)",
      "Cell \u001b[0;32mIn[2], line 1\u001b[0m\n\u001b[0;32m----> 1\u001b[0m number \u001b[38;5;241m=\u001b[39m \u001b[38;5;28;43mint\u001b[39;49m\u001b[43m(\u001b[49m\u001b[38;5;124;43m\"\u001b[39;49m\u001b[38;5;124;43mrubina\u001b[39;49m\u001b[38;5;124;43m\"\u001b[39;49m\u001b[43m)\u001b[49m\n",
      "\u001b[0;31mValueError\u001b[0m: invalid literal for int() with base 10: 'rubina'"
     ]
    }
   ],
   "source": [
    "number = int(\"rubina\")"
   ]
  },
  {
   "cell_type": "code",
   "execution_count": 6,
   "id": "3315b906-c9a7-4b1b-a8d4-c55958271bc0",
   "metadata": {},
   "outputs": [
    {
     "data": {
      "text/plain": [
       "10"
      ]
     },
     "execution_count": 6,
     "metadata": {},
     "output_type": "execute_result"
    }
   ],
   "source": [
    "number = int(10.667) # correct conversion \n",
    "number "
   ]
  },
  {
   "cell_type": "markdown",
   "id": "6a064498-562f-4ebc-9778-e01d36f64e1f",
   "metadata": {},
   "source": [
    "3. **FileNotFoundError**: Excessing a file that doesn't exist"
   ]
  },
  {
   "cell_type": "code",
   "execution_count": 7,
   "id": "c94f231c-8c97-49b7-9112-9eb99dfeea20",
   "metadata": {},
   "outputs": [
    {
     "ename": "FileNotFoundError",
     "evalue": "[Errno 2] No such file or directory: 'filename.txt'",
     "output_type": "error",
     "traceback": [
      "\u001b[0;31m---------------------------------------------------------------------------\u001b[0m",
      "\u001b[0;31mFileNotFoundError\u001b[0m                         Traceback (most recent call last)",
      "Cell \u001b[0;32mIn[7], line 1\u001b[0m\n\u001b[0;32m----> 1\u001b[0m \u001b[38;5;28;01mwith\u001b[39;00m \u001b[38;5;28;43mopen\u001b[39;49m\u001b[43m(\u001b[49m\u001b[38;5;124;43m\"\u001b[39;49m\u001b[38;5;124;43mfilename.txt\u001b[39;49m\u001b[38;5;124;43m\"\u001b[39;49m\u001b[43m,\u001b[49m\u001b[38;5;124;43m\"\u001b[39;49m\u001b[38;5;124;43mr\u001b[39;49m\u001b[38;5;124;43m\"\u001b[39;49m\u001b[43m)\u001b[49m \u001b[38;5;28;01mas\u001b[39;00m file: \n\u001b[1;32m      2\u001b[0m     file\u001b[38;5;241m.\u001b[39mread()\n",
      "File \u001b[0;32m/opt/homebrew/Cellar/jupyterlab/4.1.5/libexec/lib/python3.12/site-packages/IPython/core/interactiveshell.py:324\u001b[0m, in \u001b[0;36m_modified_open\u001b[0;34m(file, *args, **kwargs)\u001b[0m\n\u001b[1;32m    317\u001b[0m \u001b[38;5;28;01mif\u001b[39;00m file \u001b[38;5;129;01min\u001b[39;00m {\u001b[38;5;241m0\u001b[39m, \u001b[38;5;241m1\u001b[39m, \u001b[38;5;241m2\u001b[39m}:\n\u001b[1;32m    318\u001b[0m     \u001b[38;5;28;01mraise\u001b[39;00m \u001b[38;5;167;01mValueError\u001b[39;00m(\n\u001b[1;32m    319\u001b[0m         \u001b[38;5;124mf\u001b[39m\u001b[38;5;124m\"\u001b[39m\u001b[38;5;124mIPython won\u001b[39m\u001b[38;5;124m'\u001b[39m\u001b[38;5;124mt let you open fd=\u001b[39m\u001b[38;5;132;01m{\u001b[39;00mfile\u001b[38;5;132;01m}\u001b[39;00m\u001b[38;5;124m by default \u001b[39m\u001b[38;5;124m\"\u001b[39m\n\u001b[1;32m    320\u001b[0m         \u001b[38;5;124m\"\u001b[39m\u001b[38;5;124mas it is likely to crash IPython. If you know what you are doing, \u001b[39m\u001b[38;5;124m\"\u001b[39m\n\u001b[1;32m    321\u001b[0m         \u001b[38;5;124m\"\u001b[39m\u001b[38;5;124myou can use builtins\u001b[39m\u001b[38;5;124m'\u001b[39m\u001b[38;5;124m open.\u001b[39m\u001b[38;5;124m\"\u001b[39m\n\u001b[1;32m    322\u001b[0m     )\n\u001b[0;32m--> 324\u001b[0m \u001b[38;5;28;01mreturn\u001b[39;00m \u001b[43mio_open\u001b[49m\u001b[43m(\u001b[49m\u001b[43mfile\u001b[49m\u001b[43m,\u001b[49m\u001b[43m \u001b[49m\u001b[38;5;241;43m*\u001b[39;49m\u001b[43margs\u001b[49m\u001b[43m,\u001b[49m\u001b[43m \u001b[49m\u001b[38;5;241;43m*\u001b[39;49m\u001b[38;5;241;43m*\u001b[39;49m\u001b[43mkwargs\u001b[49m\u001b[43m)\u001b[49m\n",
      "\u001b[0;31mFileNotFoundError\u001b[0m: [Errno 2] No such file or directory: 'filename.txt'"
     ]
    }
   ],
   "source": [
    "with open(\"filename.txt\",\"r\") as file: \n",
    "    file.read()"
   ]
  },
  {
   "cell_type": "markdown",
   "id": "9bd59cae-fed9-4cf1-af40-a6ab6ff87f53",
   "metadata": {},
   "source": [
    "4. **IndexError**: Index used to access out of range element in a list"
   ]
  },
  {
   "cell_type": "code",
   "execution_count": 8,
   "id": "2b751998-8b56-4b05-8af0-affe9f8133dd",
   "metadata": {},
   "outputs": [
    {
     "ename": "IndexError",
     "evalue": "list index out of range",
     "output_type": "error",
     "traceback": [
      "\u001b[0;31m---------------------------------------------------------------------------\u001b[0m",
      "\u001b[0;31mIndexError\u001b[0m                                Traceback (most recent call last)",
      "Cell \u001b[0;32mIn[8], line 2\u001b[0m\n\u001b[1;32m      1\u001b[0m list1 \u001b[38;5;241m=\u001b[39m [\u001b[38;5;241m1\u001b[39m,\u001b[38;5;241m2\u001b[39m,\u001b[38;5;241m3\u001b[39m] \n\u001b[0;32m----> 2\u001b[0m \u001b[43mlist1\u001b[49m\u001b[43m[\u001b[49m\u001b[38;5;241;43m5\u001b[39;49m\u001b[43m]\u001b[49m\n",
      "\u001b[0;31mIndexError\u001b[0m: list index out of range"
     ]
    }
   ],
   "source": [
    "list1 = [1,2,3] \n",
    "list1[5]"
   ]
  },
  {
   "cell_type": "markdown",
   "id": "bde5a418-fca5-4e10-933c-7a91b3c98033",
   "metadata": {},
   "source": [
    "5. **KeyError**: Occurs when we try to access a non existent key "
   ]
  },
  {
   "cell_type": "code",
   "execution_count": 10,
   "id": "b9bb29ae-ed0c-4046-b164-7d5887817be5",
   "metadata": {},
   "outputs": [
    {
     "ename": "KeyError",
     "evalue": "'State'",
     "output_type": "error",
     "traceback": [
      "\u001b[0;31m---------------------------------------------------------------------------\u001b[0m",
      "\u001b[0;31mKeyError\u001b[0m                                  Traceback (most recent call last)",
      "Cell \u001b[0;32mIn[10], line 2\u001b[0m\n\u001b[1;32m      1\u001b[0m Dict \u001b[38;5;241m=\u001b[39m {\u001b[38;5;124m\"\u001b[39m\u001b[38;5;124mname\u001b[39m\u001b[38;5;124m\"\u001b[39m:\u001b[38;5;124m\"\u001b[39m\u001b[38;5;124mrubina\u001b[39m\u001b[38;5;124m\"\u001b[39m,\u001b[38;5;124m\"\u001b[39m\u001b[38;5;124mmajor\u001b[39m\u001b[38;5;124m\"\u001b[39m:\u001b[38;5;124m\"\u001b[39m\u001b[38;5;124mCE\u001b[39m\u001b[38;5;124m\"\u001b[39m}\n\u001b[0;32m----> 2\u001b[0m \u001b[43mDict\u001b[49m\u001b[43m[\u001b[49m\u001b[38;5;124;43m\"\u001b[39;49m\u001b[38;5;124;43mState\u001b[39;49m\u001b[38;5;124;43m\"\u001b[39;49m\u001b[43m]\u001b[49m\n",
      "\u001b[0;31mKeyError\u001b[0m: 'State'"
     ]
    }
   ],
   "source": [
    "Dict = {\"name\":\"rubina\",\"major\":\"CE\"}\n",
    "Dict[\"State\"]"
   ]
  },
  {
   "cell_type": "markdown",
   "id": "05d4b208-7319-47ca-aed3-a9fc8746dfad",
   "metadata": {},
   "source": [
    "6. **TypeError**: When object is used in an incompatible manner.\n",
    "   Eg: Concatenating a string and an integer "
   ]
  },
  {
   "cell_type": "code",
   "execution_count": 11,
   "id": "831047f3-cbe0-4a32-8040-1a80a47aa3dc",
   "metadata": {},
   "outputs": [
    {
     "ename": "TypeError",
     "evalue": "can only concatenate str (not \"int\") to str",
     "output_type": "error",
     "traceback": [
      "\u001b[0;31m---------------------------------------------------------------------------\u001b[0m",
      "\u001b[0;31mTypeError\u001b[0m                                 Traceback (most recent call last)",
      "Cell \u001b[0;32mIn[11], line 1\u001b[0m\n\u001b[0;32m----> 1\u001b[0m \u001b[38;5;124;43m\"\u001b[39;49m\u001b[38;5;124;43mrubina\u001b[39;49m\u001b[38;5;124;43m\"\u001b[39;49m\u001b[43m \u001b[49m\u001b[38;5;241;43m+\u001b[39;49m\u001b[43m \u001b[49m\u001b[38;5;241;43m5\u001b[39;49m \n",
      "\u001b[0;31mTypeError\u001b[0m: can only concatenate str (not \"int\") to str"
     ]
    }
   ],
   "source": [
    "\"rubina\" + 5 "
   ]
  },
  {
   "cell_type": "markdown",
   "id": "48239763-e216-4f89-9c37-848e823c6947",
   "metadata": {},
   "source": [
    "7. **AttributeError**: Occurs when an attribute or method is accessed on an object that doesn't possess that attribute or method."
   ]
  },
  {
   "cell_type": "code",
   "execution_count": 16,
   "id": "885c9da4-f3e8-4491-9f26-9947d8bf7aa2",
   "metadata": {},
   "outputs": [
    {
     "data": {
      "text/plain": [
       "11"
      ]
     },
     "execution_count": 16,
     "metadata": {},
     "output_type": "execute_result"
    }
   ],
   "source": [
    "message = \"hello world\" \n",
    "len(message) # works fine "
   ]
  },
  {
   "cell_type": "code",
   "execution_count": 13,
   "id": "bcdbc84c-b8d9-4f74-88e8-95d22d5c0949",
   "metadata": {},
   "outputs": [
    {
     "ename": "AttributeError",
     "evalue": "'str' object has no attribute 'unknown_method'",
     "output_type": "error",
     "traceback": [
      "\u001b[0;31m---------------------------------------------------------------------------\u001b[0m",
      "\u001b[0;31mAttributeError\u001b[0m                            Traceback (most recent call last)",
      "Cell \u001b[0;32mIn[13], line 1\u001b[0m\n\u001b[0;32m----> 1\u001b[0m \u001b[43mmessage\u001b[49m\u001b[38;5;241;43m.\u001b[39;49m\u001b[43munknown_method\u001b[49m()\n",
      "\u001b[0;31mAttributeError\u001b[0m: 'str' object has no attribute 'unknown_method'"
     ]
    }
   ],
   "source": [
    "message.unknown_method()"
   ]
  },
  {
   "cell_type": "markdown",
   "id": "8e45feda-c5e8-485a-8c61-264e5655aaac",
   "metadata": {},
   "source": [
    "8. **ModuleNotFoundError** : Occurs when we try to import a wrong library that doesn't exists "
   ]
  },
  {
   "cell_type": "code",
   "execution_count": 19,
   "id": "2de64e12-475a-424f-886a-cedec50a4e1b",
   "metadata": {},
   "outputs": [
    {
     "ename": "ModuleNotFoundError",
     "evalue": "No module named 'not_existant'",
     "output_type": "error",
     "traceback": [
      "\u001b[0;31m---------------------------------------------------------------------------\u001b[0m",
      "\u001b[0;31mModuleNotFoundError\u001b[0m                       Traceback (most recent call last)",
      "Cell \u001b[0;32mIn[19], line 1\u001b[0m\n\u001b[0;32m----> 1\u001b[0m \u001b[38;5;28;01mimport\u001b[39;00m \u001b[38;5;21;01mnot_existant\u001b[39;00m\n",
      "\u001b[0;31mModuleNotFoundError\u001b[0m: No module named 'not_existant'"
     ]
    }
   ],
   "source": [
    "import not_existant"
   ]
  },
  {
   "cell_type": "markdown",
   "id": "eaf04386-2d7e-4980-95d8-245c844a46f2",
   "metadata": {},
   "source": [
    "9. **NameError**: When you use a variable that is not defined previously. "
   ]
  },
  {
   "cell_type": "code",
   "execution_count": 21,
   "id": "7bab26bf-cd78-4d55-bf22-7cf15f9cd581",
   "metadata": {},
   "outputs": [
    {
     "ename": "NameError",
     "evalue": "name 'p' is not defined",
     "output_type": "error",
     "traceback": [
      "\u001b[0;31m---------------------------------------------------------------------------\u001b[0m",
      "\u001b[0;31mNameError\u001b[0m                                 Traceback (most recent call last)",
      "Cell \u001b[0;32mIn[21], line 1\u001b[0m\n\u001b[0;32m----> 1\u001b[0m z \u001b[38;5;241m=\u001b[39m \u001b[43mp\u001b[49m \u001b[38;5;241m+\u001b[39m \u001b[38;5;241m5\u001b[39m\n",
      "\u001b[0;31mNameError\u001b[0m: name 'p' is not defined"
     ]
    }
   ],
   "source": [
    "z = p + 5"
   ]
  },
  {
   "cell_type": "markdown",
   "id": "e7a074c7-d667-46e0-b74b-5ed80036423e",
   "metadata": {},
   "source": [
    "### Exception Handling in Python using try and except "
   ]
  },
  {
   "cell_type": "markdown",
   "id": "3b28ad55-91b9-4d52-8979-6792d95969cf",
   "metadata": {},
   "source": [
    "Using try and except we can handle exceptions and prevent the program from crashing. "
   ]
  },
  {
   "cell_type": "code",
   "execution_count": 1,
   "id": "34bac2cf-7f7c-4e92-9c56-faacc22173a9",
   "metadata": {},
   "outputs": [
    {
     "name": "stdout",
     "output_type": "stream",
     "text": [
      "Division by zero is not allowed\n",
      "Out of try and except\n"
     ]
    }
   ],
   "source": [
    "try:\n",
    "    div = 12/0\n",
    "except ZeroDivisionError: \n",
    "    print(\"Division by zero is not allowed\")\n",
    "\n",
    "print(\"Out of try and except\")\n",
    "    "
   ]
  },
  {
   "cell_type": "markdown",
   "id": "ae94d16c-889c-4ae6-a7e2-eee96fbb80f5",
   "metadata": {},
   "source": [
    "#### Might be specific try and except. Eg: "
   ]
  },
  {
   "cell_type": "code",
   "execution_count": 2,
   "id": "7b1a9389-95a3-4970-9b90-e4e9e90f8a1c",
   "metadata": {},
   "outputs": [
    {
     "name": "stdin",
     "output_type": "stream",
     "text": [
      "Provide one interger for division 0\n"
     ]
    },
    {
     "name": "stdout",
     "output_type": "stream",
     "text": [
      "number cannot be divided by 0 \n"
     ]
    }
   ],
   "source": [
    "try: \n",
    "    b = int(input(\"Provide one interger for division\"))\n",
    "    result = 12/b\n",
    "    print(\"Successful division= \",result)\n",
    "except ZeroDivisionError:\n",
    "    print(\"number cannot be divided by 0 \")\n",
    "except ValueError:\n",
    "    print(\"you didn't provide any number for division\")\n",
    "except: \n",
    "    print(\"Error in code\")"
   ]
  },
  {
   "cell_type": "markdown",
   "id": "cf53154a-9eed-49aa-9fbb-0e09d80ab079",
   "metadata": {},
   "source": [
    "else at the end of an try and except helps in executing something that we only want to excute if there is no error "
   ]
  },
  {
   "cell_type": "code",
   "execution_count": 3,
   "id": "9e5296f6-e90f-4cd5-940c-0da6cfc43359",
   "metadata": {},
   "outputs": [
    {
     "name": "stdin",
     "output_type": "stream",
     "text": [
      "Provide one interger for division 8\n"
     ]
    },
    {
     "name": "stdout",
     "output_type": "stream",
     "text": [
      "Successful division=  1.5\n",
      "Now we can perform this task\n"
     ]
    }
   ],
   "source": [
    "try: \n",
    "    b = int(input(\"Provide one interger for division\"))\n",
    "    result = 12/b\n",
    "    print(\"Successful division= \",result)\n",
    "except ZeroDivisionError: \n",
    "    print(\"number cannot be divided by 0 \")\n",
    "else: \n",
    "    print(\"Now we can perform this task\")"
   ]
  },
  {
   "cell_type": "markdown",
   "id": "69635415-34c6-421c-b630-dd5d99a8981e",
   "metadata": {},
   "source": [
    "finally allows to execute something even if there is an exception "
   ]
  },
  {
   "cell_type": "code",
   "execution_count": 4,
   "id": "b02591f7-5a16-4b74-8fcb-aae552c86024",
   "metadata": {},
   "outputs": [
    {
     "name": "stdin",
     "output_type": "stream",
     "text": [
      "Provide one interger for division 0\n"
     ]
    },
    {
     "name": "stdout",
     "output_type": "stream",
     "text": [
      "number cannot be divided by 0 \n",
      "This should happen no matter what may come\n"
     ]
    }
   ],
   "source": [
    "try: \n",
    "    b = int(input(\"Provide one interger for division\"))\n",
    "    result = 12/b\n",
    "    print(\"Successful division= \",result)\n",
    "except ZeroDivisionError: \n",
    "    print(\"number cannot be divided by 0 \")\n",
    "else: \n",
    "    print(\"Now we can perform this task\")\n",
    "finally: \n",
    "    print(\"This should happen no matter what may come\")"
   ]
  },
  {
   "cell_type": "code",
   "execution_count": 5,
   "id": "12ab381b-6e15-46c2-a2eb-406e1a0b7d25",
   "metadata": {},
   "outputs": [
    {
     "name": "stdin",
     "output_type": "stream",
     "text": [
      "Provide one interger for division 6\n"
     ]
    },
    {
     "name": "stdout",
     "output_type": "stream",
     "text": [
      "Successful division=  2.0\n",
      "Now we can perform this task of printing the result :  2.0\n",
      "This should happen no matter what may come\n"
     ]
    }
   ],
   "source": [
    "try: \n",
    "    b = int(input(\"Provide one interger for division\"))\n",
    "    result = 12/b\n",
    "    print(\"Successful division= \",result)\n",
    "except ZeroDivisionError: \n",
    "    print(\"number cannot be divided by 0 \")\n",
    "else: \n",
    "    print(\"Now we can perform this task of printing the result : \",result)\n",
    "finally: \n",
    "    print(\"This should happen no matter what may come\")"
   ]
  },
  {
   "cell_type": "code",
   "execution_count": 8,
   "id": "7b57ea8e-2f9d-4a5a-8972-4f109ba31d63",
   "metadata": {},
   "outputs": [
    {
     "name": "stdin",
     "output_type": "stream",
     "text": [
      "Input a string1 Hello World \n",
      "Input a number 2.0\n"
     ]
    },
    {
     "name": "stdout",
     "output_type": "stream",
     "text": [
      "Type Mismatch\n"
     ]
    }
   ],
   "source": [
    "try:\n",
    "    c = str(input(\"Input a string1\"))\n",
    "    d = int(input(\"Input a number\"))\n",
    "    \n",
    "except ValueError:\n",
    "    print(\"Type Mismatch\")\n",
    "else: \n",
    "    print(c+\" \"+d)"
   ]
  },
  {
   "cell_type": "code",
   "execution_count": 11,
   "id": "8f314351-35f8-4390-8cb4-5639efe07a3f",
   "metadata": {},
   "outputs": [
    {
     "name": "stdin",
     "output_type": "stream",
     "text": [
      "Please enter a number 5\n"
     ]
    },
    {
     "name": "stdout",
     "output_type": "stream",
     "text": [
      "An error occurred during calculation\n"
     ]
    }
   ],
   "source": [
    "def cal(num):\n",
    "    try:\n",
    "        result = num /(num - 5)\n",
    "    except Exception as e:\n",
    "        print(\"An error occurred during calculation\")\n",
    "    else:\n",
    "        return result \n",
    "    \n",
    "num = float(input(\"Please enter a number\"))\n",
    "cal(num)\n",
    "#General exception "
   ]
  },
  {
   "cell_type": "code",
   "execution_count": null,
   "id": "82f7ca72-9c84-43b4-bcc7-2e0f11b6558e",
   "metadata": {},
   "outputs": [],
   "source": []
  }
 ],
 "metadata": {
  "kernelspec": {
   "display_name": "Python 3 (ipykernel)",
   "language": "python",
   "name": "python3"
  },
  "language_info": {
   "codemirror_mode": {
    "name": "ipython",
    "version": 3
   },
   "file_extension": ".py",
   "mimetype": "text/x-python",
   "name": "python",
   "nbconvert_exporter": "python",
   "pygments_lexer": "ipython3",
   "version": "3.12.3"
  }
 },
 "nbformat": 4,
 "nbformat_minor": 5
}
